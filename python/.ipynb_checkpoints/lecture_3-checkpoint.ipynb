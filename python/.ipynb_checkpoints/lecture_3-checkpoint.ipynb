{
 "cells": [
  {
   "cell_type": "code",
   "execution_count": 22,
   "id": "fa526865-15a8-4a76-b8a1-d6c4255fe8b1",
   "metadata": {},
   "outputs": [],
   "source": [
    "from random import randint"
   ]
  },
  {
   "cell_type": "code",
   "execution_count": 1,
   "id": "75bb79f4-30f0-4449-97b7-4c84195ddf69",
   "metadata": {},
   "outputs": [],
   "source": [
    "class ShoppingCart:\n",
    "    contents = []\n",
    "    \n",
    "    def add(self, item):\n",
    "        self.contents.append(item)\n",
    "        \n",
    "    def remove(self, item):\n",
    "        self.contents.remove(item)\n",
    "        \n",
    "    def checkout(self):\n",
    "        print(\"Оформление покупок:\")\n",
    "        for index, item in enumerate(\n",
    "            self.contents, start=1\n",
    "        ):\n",
    "            print(f\"{index}. {item}.\")"
   ]
  },
  {
   "cell_type": "code",
   "execution_count": 12,
   "id": "105ac28c-e6cd-40e1-a0cb-59a00972fbe1",
   "metadata": {},
   "outputs": [],
   "source": [
    "cart = ShoppingCart()\n",
    "cart.add(\"Bread\")\n",
    "cart.add(\"Milk\")\n",
    "cart.add(\"Meat\")\n",
    "cart.add(\"Muesli\")"
   ]
  },
  {
   "cell_type": "code",
   "execution_count": 13,
   "id": "5eb06b86-b34a-493b-8de5-bdb7daedee28",
   "metadata": {},
   "outputs": [
    {
     "name": "stdout",
     "output_type": "stream",
     "text": [
      "Оформление покупок:\n",
      "1. Bread.\n",
      "2. Milk.\n",
      "3. Meat.\n",
      "4. Muesli.\n"
     ]
    }
   ],
   "source": [
    "cart.checkout()"
   ]
  },
  {
   "cell_type": "code",
   "execution_count": 17,
   "id": "bce22176-6a9e-4053-b3c4-bf83958c84be",
   "metadata": {},
   "outputs": [],
   "source": [
    "cart.remove(\"Meat\")"
   ]
  },
  {
   "cell_type": "code",
   "execution_count": 21,
   "id": "527b23de-203d-41bf-870f-0ca9d11ffee0",
   "metadata": {},
   "outputs": [
    {
     "data": {
      "text/plain": [
       "__main__.ShoppingCart"
      ]
     },
     "execution_count": 21,
     "metadata": {},
     "output_type": "execute_result"
    }
   ],
   "source": [
    "type(cart) # класс является типом для создаваемых объектов"
   ]
  },
  {
   "cell_type": "markdown",
   "id": "9ea91e99-3602-42d1-8061-63ed1964eb90",
   "metadata": {
    "tags": []
   },
   "source": [
    "### Игра угадай число"
   ]
  },
  {
   "cell_type": "code",
   "execution_count": 68,
   "id": "c1cf1b70-6db7-40b1-b30f-7af5f84c8b6d",
   "metadata": {},
   "outputs": [],
   "source": [
    "class Player:\n",
    "    name = None\n",
    "    number = None\n",
    "    \n",
    "    def __init__(self, name):\n",
    "        self.name = name\n",
    "        self.number = None\n",
    "    \n",
    "#     def set_name(self, name):\n",
    "#         self.name = name\n",
    "        \n",
    "    def guess(self):\n",
    "        self.number = randint(1, 10)\n",
    "        print(f\"Возможно это число - {self.number}.\")"
   ]
  },
  {
   "cell_type": "code",
   "execution_count": 90,
   "id": "01f622e4-095e-4bbd-8ae6-aae2800ce08b",
   "metadata": {},
   "outputs": [],
   "source": [
    "class Game:\n",
    "    player = None\n",
    "    number = None\n",
    "    players_count = 0\n",
    "    \n",
    "    def __init__(self, player):\n",
    "        self.player = player\n",
    "        self.number = None\n",
    "        Game.players_count += 1 # свойство класса видят все обънекты этого класса\n",
    "    \n",
    "    def start(self):\n",
    "#         self.player = Player(\"Коля\")\n",
    "#         self.player.set_name(\"Петя\")\n",
    "        self.number = randint(1, 10)\n",
    "        print(f\"Загадано число - {self.number}.\")\n",
    "        self.player.guess()\n",
    "        print(f\"Игрок {self.player.name} предполагает, что это число - {self.player.number}.\")\n",
    "        if self.number is self.player.number:\n",
    "            print(\"Поздравляем! Число угадано.\")\n",
    "        else:\n",
    "            print(\"Число не угадано. Попробуйте ещё раз.\")"
   ]
  },
  {
   "cell_type": "code",
   "execution_count": 97,
   "id": "01ff6a46-0e47-45c8-865e-ccf7e2187925",
   "metadata": {},
   "outputs": [
    {
     "name": "stdout",
     "output_type": "stream",
     "text": [
      "Загадано число - 2.\n",
      "Возможно это число - 10.\n",
      "Игрок Петя предполагает, что это число - 10.\n",
      "Число не угадано. Попробуйте ещё раз.\n"
     ]
    }
   ],
   "source": [
    "player = Player(\"Петя\")\n",
    "game = Game(player)\n",
    "game.start()"
   ]
  },
  {
   "cell_type": "code",
   "execution_count": 94,
   "id": "33cd884b-146d-4460-b23a-6e64be6da524",
   "metadata": {},
   "outputs": [
    {
     "name": "stdout",
     "output_type": "stream",
     "text": [
      "Петя\n",
      "10\n"
     ]
    }
   ],
   "source": [
    "# можно обращаться к объекту игрока через объект игры\n",
    "print(game.player.name)\n",
    "print(game.player.number)"
   ]
  },
  {
   "cell_type": "code",
   "execution_count": 100,
   "id": "1bef4974-0fd2-4524-b92b-f15d63453424",
   "metadata": {},
   "outputs": [
    {
     "name": "stdout",
     "output_type": "stream",
     "text": [
      "3\n"
     ]
    }
   ],
   "source": [
    "print(game.players_count)"
   ]
  },
  {
   "cell_type": "markdown",
   "id": "2b095eba-682f-494f-86b9-0ea4b18064a9",
   "metadata": {},
   "source": [
    "### Конструирование объектов"
   ]
  },
  {
   "cell_type": "markdown",
   "id": "829ad4b0-eb3d-47f6-a405-4f15949a157c",
   "metadata": {},
   "source": [
    "Конуструктор задает значения свойствам объекта при инициализации объекта."
   ]
  },
  {
   "cell_type": "code",
   "execution_count": 60,
   "id": "08499472-3e9e-40f3-b147-6c439ccf067e",
   "metadata": {},
   "outputs": [],
   "source": [
    "class MyClass:\n",
    "    def __init__(self, argument):\n",
    "        self.value = argument\n",
    "        self.custom = \"Value\"\n",
    "        self.from_method = self.get_value()\n",
    "        \n",
    "    def get_value(self):\n",
    "        return \"Value from method 'get_value'\""
   ]
  },
  {
   "cell_type": "code",
   "execution_count": 61,
   "id": "18900f63-de87-48e0-a6ed-410c060741ed",
   "metadata": {},
   "outputs": [
    {
     "name": "stdout",
     "output_type": "stream",
     "text": [
      "My value\n"
     ]
    }
   ],
   "source": [
    "my_object = MyClass(\"My value\")\n",
    "print(my_object.value)"
   ]
  },
  {
   "cell_type": "code",
   "execution_count": 63,
   "id": "fb2ee440-374b-4d9f-846c-697503d07ac3",
   "metadata": {},
   "outputs": [
    {
     "name": "stdout",
     "output_type": "stream",
     "text": [
      "Value\n"
     ]
    }
   ],
   "source": [
    "print(my_object.custom)"
   ]
  },
  {
   "cell_type": "code",
   "execution_count": 64,
   "id": "f48ea9e2-cafa-4d3e-a2fc-958b68c8771d",
   "metadata": {},
   "outputs": [
    {
     "name": "stdout",
     "output_type": "stream",
     "text": [
      "Value from method 'get_value'\n"
     ]
    }
   ],
   "source": [
    "print(my_object.from_method)"
   ]
  },
  {
   "cell_type": "markdown",
   "id": "049deeb7-abf3-468f-9ab1-d6651714b9fb",
   "metadata": {},
   "source": [
    "### Метод экземляра класса"
   ]
  },
  {
   "cell_type": "code",
   "execution_count": 105,
   "id": "0b949dcb-866c-4d83-b7c4-7120009e8a6a",
   "metadata": {},
   "outputs": [],
   "source": [
    "class MyClass:\n",
    "    \n",
    "    def my_method(self):\n",
    "        return \"Метод экземпляра\", self"
   ]
  },
  {
   "cell_type": "code",
   "execution_count": 106,
   "id": "2650329a-cc7a-45ef-a591-5602f3ba3774",
   "metadata": {},
   "outputs": [
    {
     "name": "stdout",
     "output_type": "stream",
     "text": [
      "('Метод экземпляра', <__main__.MyClass object at 0x7fb604c84940>)\n"
     ]
    }
   ],
   "source": [
    "my_object = MyClass()\n",
    "print(my_object.my_method())"
   ]
  },
  {
   "cell_type": "markdown",
   "id": "ed617333-276c-42cf-8a60-b65a8173360c",
   "metadata": {},
   "source": [
    "### Методы класса"
   ]
  },
  {
   "cell_type": "code",
   "execution_count": 119,
   "id": "30891f65-d0af-4934-b25d-01f36c2574cd",
   "metadata": {},
   "outputs": [],
   "source": [
    "class MyClass:\n",
    "    \n",
    "    @classmethod #декоратор позволят принимать класс первым аргументом\n",
    "    def my_method(cls):\n",
    "        return \"Метод класса\", cls # возвращается уже ссылка на класс, а не объект класса self"
   ]
  },
  {
   "cell_type": "code",
   "execution_count": 120,
   "id": "30040f9a-206e-46cc-8b9a-a59ce99482ff",
   "metadata": {},
   "outputs": [
    {
     "name": "stdout",
     "output_type": "stream",
     "text": [
      "('Метод класса', <class '__main__.MyClass'>)\n"
     ]
    }
   ],
   "source": [
    "my_object = MyClass()\n",
    "print(my_object.my_method())"
   ]
  },
  {
   "cell_type": "markdown",
   "id": "b9777c4f-a522-4c92-95ea-ab3f72d9e2dd",
   "metadata": {},
   "source": [
    "### Статические методы"
   ]
  },
  {
   "cell_type": "code",
   "execution_count": 127,
   "id": "2d1e4064-4d11-4c0e-be7b-92fbc25267b0",
   "metadata": {},
   "outputs": [],
   "source": [
    "# статический метод не принимает ссылки на класс или объект\n",
    "# могут принимать опциональные аргументы\n",
    "class MyClass:\n",
    "    \n",
    "    @staticmethod\n",
    "    def my_method():\n",
    "        return \"Статический метод\""
   ]
  },
  {
   "cell_type": "code",
   "execution_count": 128,
   "id": "5294a0ea-33f0-4a45-a179-9a59859ff39e",
   "metadata": {},
   "outputs": [
    {
     "name": "stdout",
     "output_type": "stream",
     "text": [
      "Статический метод\n"
     ]
    }
   ],
   "source": [
    "my_object = MyClass()\n",
    "print(my_object.my_method())"
   ]
  },
  {
   "cell_type": "markdown",
   "id": "0da978d3-db0a-4663-921c-dc49ab7763e6",
   "metadata": {},
   "source": [
    "### Три вида методов в одном классе"
   ]
  },
  {
   "cell_type": "code",
   "execution_count": 129,
   "id": "faae8607-f3bb-4f14-87ec-62300ff0d1a7",
   "metadata": {},
   "outputs": [],
   "source": [
    "class MyClass:\n",
    "    \n",
    "    def method(self):\n",
    "        return \"Метод экземпляра\", self\n",
    "    \n",
    "    @classmethod\n",
    "    def classmethod(cls):\n",
    "        return \"Метод класса\", cls\n",
    "    \n",
    "    @staticmethod\n",
    "    def staticmethod():\n",
    "        return \"Статический метода\""
   ]
  },
  {
   "cell_type": "code",
   "execution_count": 130,
   "id": "748c746a-f93a-413d-84a9-ff80ae868035",
   "metadata": {},
   "outputs": [
    {
     "name": "stdout",
     "output_type": "stream",
     "text": [
      "('Метод класса', <class '__main__.MyClass'>)\n"
     ]
    }
   ],
   "source": [
    "print(MyClass.classmethod())"
   ]
  },
  {
   "cell_type": "code",
   "execution_count": 131,
   "id": "50e4164c-8328-42cd-8754-49605ff1aab6",
   "metadata": {},
   "outputs": [
    {
     "name": "stdout",
     "output_type": "stream",
     "text": [
      "Статический метода\n"
     ]
    }
   ],
   "source": [
    "print(MyClass.staticmethod())"
   ]
  },
  {
   "cell_type": "code",
   "execution_count": 135,
   "id": "94e8db9b-cfc7-4dcd-bc0a-cbe3da0e35d3",
   "metadata": {},
   "outputs": [
    {
     "ename": "TypeError",
     "evalue": "method() missing 1 required positional argument: 'self'",
     "output_type": "error",
     "traceback": [
      "\u001b[0;31m---------------------------------------------------------------------------\u001b[0m",
      "\u001b[0;31mTypeError\u001b[0m                                 Traceback (most recent call last)",
      "\u001b[0;32m/tmp/ipykernel_35552/902248120.py\u001b[0m in \u001b[0;36m<module>\u001b[0;34m\u001b[0m\n\u001b[0;32m----> 1\u001b[0;31m \u001b[0mprint\u001b[0m\u001b[0;34m(\u001b[0m\u001b[0mMyClass\u001b[0m\u001b[0;34m.\u001b[0m\u001b[0mmethod\u001b[0m\u001b[0;34m(\u001b[0m\u001b[0;34m)\u001b[0m\u001b[0;34m)\u001b[0m \u001b[0;31m# метод экзаемпляра не может быть вызван от класса\u001b[0m\u001b[0;34m\u001b[0m\u001b[0;34m\u001b[0m\u001b[0m\n\u001b[0m",
      "\u001b[0;31mTypeError\u001b[0m: method() missing 1 required positional argument: 'self'"
     ]
    }
   ],
   "source": [
    "print(MyClass.method()) # метод экзаемпляра не может быть вызван от класса"
   ]
  },
  {
   "cell_type": "code",
   "execution_count": 136,
   "id": "9f51cc4e-df5e-4801-8784-83f7616af3db",
   "metadata": {},
   "outputs": [
    {
     "name": "stdout",
     "output_type": "stream",
     "text": [
      "('Метод экземпляра', <__main__.MyClass object at 0x7fb604c9a5b0>)\n",
      "('Метод класса', <class '__main__.MyClass'>)\n",
      "Статический метода\n"
     ]
    }
   ],
   "source": [
    "# от объекта можно вызывать и методы класса, и статические методы\n",
    "\n",
    "my_object = MyClass()\n",
    "\n",
    "print(my_object.method())\n",
    "\n",
    "print(my_object.classmethod())\n",
    "\n",
    "print(my_object.staticmethod())"
   ]
  },
  {
   "cell_type": "markdown",
   "id": "255e44ca-cbee-431a-bd1a-682fba713f71",
   "metadata": {},
   "source": [
    "### Наследование"
   ]
  },
  {
   "cell_type": "code",
   "execution_count": 137,
   "id": "113ebd6a-6f4c-4be0-ba44-188a496bb9e2",
   "metadata": {},
   "outputs": [],
   "source": [
    "class Shape:\n",
    "    title = \"Фигура\"\n",
    "    \n",
    "    def area(self):\n",
    "        pass\n",
    "    \n",
    "    def perimeter(self):\n",
    "        pass"
   ]
  },
  {
   "cell_type": "code",
   "execution_count": 140,
   "id": "a15a3673-581d-409d-b20f-efd69fa61205",
   "metadata": {},
   "outputs": [],
   "source": [
    "class Square(Shape):\n",
    "    title = \"Квадрат\"\n",
    "    \n",
    "    def __init__(self, x):\n",
    "        super().__init__()\n",
    "        self.x = x\n",
    "        \n",
    "    def area(self):\n",
    "        return self.x ** 2\n",
    "    \n",
    "    def perimeter(self):\n",
    "        return 4 * self.x"
   ]
  },
  {
   "cell_type": "code",
   "execution_count": null,
   "id": "a9fd7ee8-e22d-4f84-ac33-9939d6d1c6f0",
   "metadata": {},
   "outputs": [],
   "source": [
    "class Cube(Square):\n",
    "    title = \"Куб\"\n",
    "    \n",
    "    def area(self):\n",
    "        return 6 * self.x ** 2\n",
    "    \n",
    "    def perimeter(self):\n",
    "        return 12 * self.x"
   ]
  },
  {
   "cell_type": "code",
   "execution_count": 141,
   "id": "250c9b54-1071-4907-92ad-d9c0fed9c519",
   "metadata": {},
   "outputs": [],
   "source": [
    "class Rectangle(Square):\n",
    "    title = \"Прямоугольник\"\n",
    "    \n",
    "    def __init__(self, x, y):\n",
    "        super().__init__(x)\n",
    "        self.y = y\n",
    "        \n",
    "    def area(self):\n",
    "        return self.x * self.y\n",
    "    \n",
    "    def perimeter(self):\n",
    "        return 2 * (self.x + self.y)"
   ]
  },
  {
   "cell_type": "markdown",
   "id": "df8cee71-35f9-4934-9d97-47d422816689",
   "metadata": {},
   "source": [
    "### Инкапсуляция"
   ]
  },
  {
   "cell_type": "code",
   "execution_count": 142,
   "id": "f8bcd75e-29d8-4b29-bcd6-eca89e326e8a",
   "metadata": {},
   "outputs": [],
   "source": [
    "class Shape:\n",
    "    _title = \"Фигура\"\n",
    "    \n",
    "    def area(self):\n",
    "        pass\n",
    "    \n",
    "    def perimeter(self):\n",
    "        pass"
   ]
  },
  {
   "cell_type": "code",
   "execution_count": 146,
   "id": "29f1fe14-8e6f-45b8-989b-fe5fbc0d9ed7",
   "metadata": {},
   "outputs": [],
   "source": [
    "class Square(Shape):\n",
    "    _title = \"Квадрат\"\n",
    "    \n",
    "    def __init__(self, x):\n",
    "        super().__init__()\n",
    "        self.__x = x # приватная переменная объекта\n",
    "        \n",
    "    def area(self):\n",
    "        return self.__x ** 2\n",
    "    \n",
    "    def perimeter(self):\n",
    "        return 4 * self.__x"
   ]
  },
  {
   "cell_type": "code",
   "execution_count": 147,
   "id": "620f5b52-3e68-451a-968c-b3e51788b0db",
   "metadata": {},
   "outputs": [
    {
     "name": "stdout",
     "output_type": "stream",
     "text": [
      "Квадрат\n"
     ]
    }
   ],
   "source": [
    "square = Square(10)\n",
    "print(square._title)"
   ]
  },
  {
   "cell_type": "code",
   "execution_count": 150,
   "id": "46c1d9f1-c5a9-41d4-8fd1-91d3f2559cba",
   "metadata": {},
   "outputs": [
    {
     "ename": "AttributeError",
     "evalue": "'Square' object has no attribute '__x'",
     "output_type": "error",
     "traceback": [
      "\u001b[0;31m---------------------------------------------------------------------------\u001b[0m",
      "\u001b[0;31mAttributeError\u001b[0m                            Traceback (most recent call last)",
      "\u001b[0;32m/tmp/ipykernel_35552/1104386354.py\u001b[0m in \u001b[0;36m<module>\u001b[0;34m\u001b[0m\n\u001b[1;32m      1\u001b[0m \u001b[0msquare\u001b[0m \u001b[0;34m=\u001b[0m \u001b[0mSquare\u001b[0m\u001b[0;34m(\u001b[0m\u001b[0;36m10\u001b[0m\u001b[0;34m)\u001b[0m\u001b[0;34m\u001b[0m\u001b[0;34m\u001b[0m\u001b[0m\n\u001b[0;32m----> 2\u001b[0;31m \u001b[0mprint\u001b[0m\u001b[0;34m(\u001b[0m\u001b[0msquare\u001b[0m\u001b[0;34m.\u001b[0m\u001b[0m__x\u001b[0m\u001b[0;34m)\u001b[0m\u001b[0;34m\u001b[0m\u001b[0;34m\u001b[0m\u001b[0m\n\u001b[0m",
      "\u001b[0;31mAttributeError\u001b[0m: 'Square' object has no attribute '__x'"
     ]
    }
   ],
   "source": [
    "square = Square(10)\n",
    "print(square.__x)"
   ]
  },
  {
   "cell_type": "code",
   "execution_count": 151,
   "id": "fb48e543-ed89-4177-994a-e17036414217",
   "metadata": {},
   "outputs": [
    {
     "name": "stdout",
     "output_type": "stream",
     "text": [
      "10\n"
     ]
    }
   ],
   "source": [
    "print(square._Square__x)"
   ]
  },
  {
   "cell_type": "markdown",
   "id": "9306bbb5-521a-4e9b-9e2f-d8921e5aa63c",
   "metadata": {},
   "source": [
    "### Полиморфизм"
   ]
  },
  {
   "cell_type": "markdown",
   "id": "e3d04e86-abdc-422b-86d6-1626ef71269e",
   "metadata": {},
   "source": [
    "Позволяет изменять реализацию методов\n",
    "Расмотрен в примере с наследованием"
   ]
  }
 ],
 "metadata": {
  "kernelspec": {
   "display_name": "Python 3 (ipykernel)",
   "language": "python",
   "name": "python3"
  },
  "language_info": {
   "codemirror_mode": {
    "name": "ipython",
    "version": 3
   },
   "file_extension": ".py",
   "mimetype": "text/x-python",
   "name": "python",
   "nbconvert_exporter": "python",
   "pygments_lexer": "ipython3",
   "version": "3.8.11"
  }
 },
 "nbformat": 4,
 "nbformat_minor": 5
}
