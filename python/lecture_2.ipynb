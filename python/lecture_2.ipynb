{
 "cells": [
  {
   "cell_type": "markdown",
   "id": "cfdae54a-a2a8-440a-b7a5-4319d94f9f21",
   "metadata": {},
   "source": [
    "# Структуры данных и функции "
   ]
  },
  {
   "cell_type": "markdown",
   "id": "75f0887f-17c3-4c33-a18a-66c6a8ee0dcf",
   "metadata": {},
   "source": [
    "## list"
   ]
  },
  {
   "cell_type": "code",
   "execution_count": 1,
   "id": "84e5661f-0295-46ba-acb7-58bba1338644",
   "metadata": {},
   "outputs": [],
   "source": [
    "my_list = [\"String\", 1, False]"
   ]
  },
  {
   "cell_type": "code",
   "execution_count": 4,
   "id": "c04f41d9-8e36-4da4-9001-37be9c8c835d",
   "metadata": {},
   "outputs": [
    {
     "name": "stdout",
     "output_type": "stream",
     "text": [
      "['String']\n",
      "[1, False]\n"
     ]
    }
   ],
   "source": [
    "# срезы\n",
    "print(my_list[:-2])\n",
    "print(my_list[-2:])"
   ]
  },
  {
   "cell_type": "code",
   "execution_count": 5,
   "id": "51b81d76-6cf4-429d-98fa-7f1100469170",
   "metadata": {},
   "outputs": [],
   "source": [
    "# с помощью среза можно создать копию списка\n",
    "my_list_copy = my_list[:]"
   ]
  },
  {
   "cell_type": "code",
   "execution_count": 9,
   "id": "82e8c8dc-878c-4fbc-9aae-9dafc2124437",
   "metadata": {},
   "outputs": [
    {
     "name": "stdout",
     "output_type": "stream",
     "text": [
      "['String', 1, False]\n"
     ]
    }
   ],
   "source": [
    "my_list[-1] = True\n",
    "print(my_list_copy)"
   ]
  },
  {
   "cell_type": "code",
   "execution_count": 12,
   "id": "83e275bb-d8e4-4c9d-820b-1b612782ec1c",
   "metadata": {},
   "outputs": [
    {
     "data": {
      "text/plain": [
       "[True, 1, 'String']"
      ]
     },
     "execution_count": 12,
     "metadata": {},
     "output_type": "execute_result"
    }
   ],
   "source": [
    "# с помощью среза можно сделать реверс\n",
    "my_list[::-1]"
   ]
  },
  {
   "cell_type": "code",
   "execution_count": 14,
   "id": "bb4221de-c4d8-4d84-92bf-38d02eeaa4a5",
   "metadata": {},
   "outputs": [
    {
     "name": "stdout",
     "output_type": "stream",
     "text": [
      "Список не пустой\n"
     ]
    }
   ],
   "source": [
    "# чтобы проверить, что список не пустой не обязательно использовать функцию len\n",
    "\n",
    "if my_list:\n",
    "    print(\"Список не пустой\")\n",
    "else:\n",
    "    print(\"Список пустой\")"
   ]
  },
  {
   "cell_type": "code",
   "execution_count": 20,
   "id": "1ec693c8-f188-4897-bd72-1e0095bbf354",
   "metadata": {},
   "outputs": [
    {
     "name": "stdout",
     "output_type": "stream",
     "text": [
      "['First element', 'String', 1]\n"
     ]
    }
   ],
   "source": [
    "# append вставляет элемент в конец списка\n",
    "# чтобы вставить элемент в нужную позицию используем insert\n",
    "my_list.insert(0, \"First element\")\n",
    "print(my_list)"
   ]
  },
  {
   "cell_type": "code",
   "execution_count": 17,
   "id": "4187dee1-e8d6-48d0-a6ce-1dd51fbc20a8",
   "metadata": {},
   "outputs": [
    {
     "name": "stdout",
     "output_type": "stream",
     "text": [
      "True\n",
      "['First element', 'First element', 'String', 1]\n"
     ]
    }
   ],
   "source": [
    "# pop удаляет последний елемент и возвращает его\n",
    "pop_element = my_list.pop()\n",
    "print(pop_element)\n",
    "print(my_list)"
   ]
  },
  {
   "cell_type": "code",
   "execution_count": 19,
   "id": "8ea52843-a7ec-43ba-8bd1-ae74553bf179",
   "metadata": {},
   "outputs": [
    {
     "name": "stdout",
     "output_type": "stream",
     "text": [
      "['String', 1]\n"
     ]
    }
   ],
   "source": [
    "# удаление элемента по значению\n",
    "my_list.remove(\"First element\")\n",
    "print(my_list)"
   ]
  },
  {
   "cell_type": "code",
   "execution_count": 22,
   "id": "afda5fad-6af2-4d0a-a685-f1bda159cb44",
   "metadata": {},
   "outputs": [
    {
     "name": "stdout",
     "output_type": "stream",
     "text": [
      "['String', 1]\n"
     ]
    }
   ],
   "source": [
    "# удаление элемента из списка по позиции\n",
    "del my_list[0]\n",
    "print(my_list)"
   ]
  },
  {
   "cell_type": "markdown",
   "id": "eccd8864-8e80-4d8f-85df-b504f096e2a3",
   "metadata": {
    "tags": []
   },
   "source": [
    "## tuple"
   ]
  },
  {
   "cell_type": "code",
   "execution_count": 25,
   "id": "5e9338ee-c562-4156-82b6-5c7ba8786e6c",
   "metadata": {},
   "outputs": [],
   "source": [
    "# неизменяемый массив\n",
    "# срезы работают так же как и со списками"
   ]
  },
  {
   "cell_type": "code",
   "execution_count": 29,
   "id": "7b60f424-b6dd-4f5c-932a-251fbb4312c2",
   "metadata": {},
   "outputs": [
    {
     "ename": "TypeError",
     "evalue": "'tuple' object does not support item assignment",
     "output_type": "error",
     "traceback": [
      "\u001b[0;31m---------------------------------------------------------------------------\u001b[0m",
      "\u001b[0;31mTypeError\u001b[0m                                 Traceback (most recent call last)",
      "\u001b[0;32m/tmp/ipykernel_29075/1473463501.py\u001b[0m in \u001b[0;36m<module>\u001b[0;34m\u001b[0m\n\u001b[1;32m      1\u001b[0m \u001b[0;31m# мы не можем изменить елементы кортежа\u001b[0m\u001b[0;34m\u001b[0m\u001b[0;34m\u001b[0m\u001b[0;34m\u001b[0m\u001b[0m\n\u001b[1;32m      2\u001b[0m \u001b[0mmy_tuple\u001b[0m \u001b[0;34m=\u001b[0m \u001b[0;34m(\u001b[0m\u001b[0;34m'First element'\u001b[0m\u001b[0;34m,\u001b[0m \u001b[0;34m'First element'\u001b[0m\u001b[0;34m,\u001b[0m \u001b[0;34m'String'\u001b[0m\u001b[0;34m,\u001b[0m \u001b[0;36m1\u001b[0m\u001b[0;34m)\u001b[0m\u001b[0;34m\u001b[0m\u001b[0;34m\u001b[0m\u001b[0m\n\u001b[0;32m----> 3\u001b[0;31m \u001b[0mmy_tuple\u001b[0m\u001b[0;34m[\u001b[0m\u001b[0;36m0\u001b[0m\u001b[0;34m]\u001b[0m \u001b[0;34m=\u001b[0m \u001b[0;34m\"Can't be changed!\"\u001b[0m\u001b[0;34m\u001b[0m\u001b[0;34m\u001b[0m\u001b[0m\n\u001b[0m",
      "\u001b[0;31mTypeError\u001b[0m: 'tuple' object does not support item assignment"
     ]
    }
   ],
   "source": [
    "# мы не можем изменить елементы кортежа\n",
    "my_tuple = ('First element', 'First element', 'String', 1)\n",
    "my_tuple[0] = \"Can't be changed!\""
   ]
  },
  {
   "cell_type": "markdown",
   "id": "56442c9a-773c-4e98-8fb2-4828b6db5c5f",
   "metadata": {},
   "source": [
    "## Set"
   ]
  },
  {
   "cell_type": "code",
   "execution_count": 35,
   "id": "340ddfff-c4f9-4a43-b342-512277fb1ca0",
   "metadata": {},
   "outputs": [
    {
     "name": "stdout",
     "output_type": "stream",
     "text": [
      "{False, 1, 'Element'}\n"
     ]
    }
   ],
   "source": [
    "# множество хранит элементы неупорядоченно и без дубликатов\n",
    "# для добавления элементоы в множество используется метод add\n",
    "\n",
    "my_set = set()\n",
    "my_set.add(\"Element\")\n",
    "my_set.add(1)\n",
    "my_set.add(False)\n",
    "print(my_set)"
   ]
  },
  {
   "cell_type": "code",
   "execution_count": 38,
   "id": "0aa7d6e8-b174-4c62-861c-3b01401fbdfa",
   "metadata": {},
   "outputs": [],
   "source": [
    "# множество может содержать только неизменяемые объекты"
   ]
  },
  {
   "cell_type": "code",
   "execution_count": 37,
   "id": "3e58af57-be2b-4410-aa23-9e1e729931a5",
   "metadata": {},
   "outputs": [
    {
     "name": "stdout",
     "output_type": "stream",
     "text": [
      "{False, 1, 'Element', 8, 9, 10}\n"
     ]
    }
   ],
   "source": [
    "# передать сразу несколько элементов\n",
    "my_set.update([8, 9, 10]) # список или кортеж\n",
    "print(my_set)"
   ]
  },
  {
   "cell_type": "code",
   "execution_count": 39,
   "id": "a3a84166-f22c-41ec-8731-1bd74e4c83c7",
   "metadata": {},
   "outputs": [
    {
     "ename": "KeyError",
     "evalue": "12345",
     "output_type": "error",
     "traceback": [
      "\u001b[0;31m---------------------------------------------------------------------------\u001b[0m",
      "\u001b[0;31mKeyError\u001b[0m                                  Traceback (most recent call last)",
      "\u001b[0;32m/tmp/ipykernel_29075/3843354732.py\u001b[0m in \u001b[0;36m<module>\u001b[0;34m\u001b[0m\n\u001b[1;32m      4\u001b[0m \u001b[0;31m# discard ошибку не выдаст\u001b[0m\u001b[0;34m\u001b[0m\u001b[0;34m\u001b[0m\u001b[0;34m\u001b[0m\u001b[0m\n\u001b[1;32m      5\u001b[0m \u001b[0;34m\u001b[0m\u001b[0m\n\u001b[0;32m----> 6\u001b[0;31m \u001b[0mmy_set\u001b[0m\u001b[0;34m.\u001b[0m\u001b[0mremove\u001b[0m\u001b[0;34m(\u001b[0m\u001b[0;36m12345\u001b[0m\u001b[0;34m)\u001b[0m\u001b[0;34m\u001b[0m\u001b[0;34m\u001b[0m\u001b[0m\n\u001b[0m",
      "\u001b[0;31mKeyError\u001b[0m: 12345"
     ]
    }
   ],
   "source": [
    "# методы удаления элементов по значению\n",
    "\n",
    "# remove выдаст ошибку если элемент не найден\n",
    "# discard ошибку не выдаст\n",
    "\n",
    "my_set.remove(12345)"
   ]
  },
  {
   "cell_type": "code",
   "execution_count": 40,
   "id": "3dc180e8-f0f1-456d-ab2e-7e8fe7570c8d",
   "metadata": {},
   "outputs": [],
   "source": [
    "my_set.discard(12345)"
   ]
  },
  {
   "cell_type": "code",
   "execution_count": 41,
   "id": "19e74a9c-42c4-4581-922d-4928c3faaf73",
   "metadata": {},
   "outputs": [
    {
     "name": "stdout",
     "output_type": "stream",
     "text": [
      "{False, 1, 'Element', 8, 9, 10}\n"
     ]
    }
   ],
   "source": [
    "print(my_set)"
   ]
  },
  {
   "cell_type": "code",
   "execution_count": 42,
   "id": "95668c30-07f9-4bb7-843b-1eb5343fdf8a",
   "metadata": {},
   "outputs": [
    {
     "name": "stdout",
     "output_type": "stream",
     "text": [
      "{1, 2, 3, 4}\n"
     ]
    }
   ],
   "source": [
    "# объединение множеств\n",
    "\n",
    "my_set_1 = {1, 2, 3}\n",
    "my_set_2 = {2, 3, 4}\n",
    "\n",
    "my_set_3 = my_set_1.union(my_set_2)\n",
    "\n",
    "print(my_set_3)"
   ]
  },
  {
   "cell_type": "code",
   "execution_count": 44,
   "id": "e95528dc-e1d8-4409-a794-deefc43d7688",
   "metadata": {},
   "outputs": [
    {
     "data": {
      "text/plain": [
       "{1, 2, 3, 4}"
      ]
     },
     "execution_count": 44,
     "metadata": {},
     "output_type": "execute_result"
    }
   ],
   "source": [
    "# альтернативный синтаксис для объединнеия \n",
    "my_set_1 | my_set_2"
   ]
  },
  {
   "cell_type": "code",
   "execution_count": 46,
   "id": "3de15682-a95e-4684-91fc-1fa0ec2fe87b",
   "metadata": {},
   "outputs": [
    {
     "data": {
      "text/plain": [
       "{2, 3}"
      ]
     },
     "execution_count": 46,
     "metadata": {},
     "output_type": "execute_result"
    }
   ],
   "source": [
    "# пересечение множеств\n",
    "# my_set_1.intersection(my_set_2)\n",
    "my_set_1 & my_set_2"
   ]
  },
  {
   "cell_type": "code",
   "execution_count": 48,
   "id": "d8e74aa7-6ddf-4331-b55f-2e1cb89cb17a",
   "metadata": {},
   "outputs": [
    {
     "data": {
      "text/plain": [
       "{1}"
      ]
     },
     "execution_count": 48,
     "metadata": {},
     "output_type": "execute_result"
    }
   ],
   "source": [
    "# вычитание множеств\n",
    "# my_set_1.difference(my_set_2)\n",
    "my_set_1 - my_set_2"
   ]
  },
  {
   "cell_type": "markdown",
   "id": "d2b35f59-8388-4c8c-bcc7-9f0bfae5ef1d",
   "metadata": {},
   "source": [
    "## dict"
   ]
  },
  {
   "cell_type": "code",
   "execution_count": 49,
   "id": "ce0ed635-3046-4ffd-80f7-931c756bcc5c",
   "metadata": {},
   "outputs": [],
   "source": [
    "# ключами словаря могут быть только неизменяемые типы"
   ]
  },
  {
   "cell_type": "code",
   "execution_count": 50,
   "id": "ea2ad2b4-8f39-415c-a9aa-411314b79e4a",
   "metadata": {},
   "outputs": [
    {
     "ename": "TypeError",
     "evalue": "unhashable type: 'list'",
     "output_type": "error",
     "traceback": [
      "\u001b[0;31m---------------------------------------------------------------------------\u001b[0m",
      "\u001b[0;31mTypeError\u001b[0m                                 Traceback (most recent call last)",
      "\u001b[0;32m/tmp/ipykernel_29075/2030859048.py\u001b[0m in \u001b[0;36m<module>\u001b[0;34m\u001b[0m\n\u001b[1;32m      1\u001b[0m \u001b[0mmy_dict\u001b[0m \u001b[0;34m=\u001b[0m \u001b[0mdict\u001b[0m\u001b[0;34m(\u001b[0m\u001b[0;34m)\u001b[0m\u001b[0;34m\u001b[0m\u001b[0;34m\u001b[0m\u001b[0m\n\u001b[0;32m----> 2\u001b[0;31m \u001b[0mmy_dict\u001b[0m\u001b[0;34m[\u001b[0m\u001b[0;34m[\u001b[0m\u001b[0;36m1\u001b[0m\u001b[0;34m,\u001b[0m \u001b[0;36m2\u001b[0m\u001b[0;34m,\u001b[0m \u001b[0;36m3\u001b[0m\u001b[0;34m]\u001b[0m\u001b[0;34m]\u001b[0m \u001b[0;34m=\u001b[0m \u001b[0;34m\"abc\"\u001b[0m\u001b[0;34m\u001b[0m\u001b[0;34m\u001b[0m\u001b[0m\n\u001b[0m",
      "\u001b[0;31mTypeError\u001b[0m: unhashable type: 'list'"
     ]
    }
   ],
   "source": [
    "my_dict = dict()\n",
    "my_dict[[1, 2, 3]] = \"abc\""
   ]
  },
  {
   "cell_type": "code",
   "execution_count": 51,
   "id": "ff8a81ac-c393-4b37-981a-e5045e386aa1",
   "metadata": {},
   "outputs": [
    {
     "name": "stdout",
     "output_type": "stream",
     "text": [
      "{'key_1': 'value_1', 'key_2': 'value_2', 'key_3': 'value_3'}\n"
     ]
    }
   ],
   "source": [
    "# добавить в словарь сразу несколько элементов \n",
    "my_dict.update({\"key_1\":\"value_1\", \"key_2\":\"value_2\", \"key_3\":\"value_3\"})\n",
    "print(my_dict)"
   ]
  },
  {
   "cell_type": "code",
   "execution_count": 52,
   "id": "737192a6-7574-4066-ba0d-f7f27ba83f94",
   "metadata": {},
   "outputs": [
    {
     "data": {
      "text/plain": [
       "'value_4'"
      ]
     },
     "execution_count": 52,
     "metadata": {},
     "output_type": "execute_result"
    }
   ],
   "source": [
    "# get при отсутствии значения возвращает значение по умодчанию\n",
    "my_dict.get(\"key_4\", \"value_4\")"
   ]
  },
  {
   "cell_type": "code",
   "execution_count": 53,
   "id": "14b72aaf-fe2f-4ba6-bbb0-f5822ebe8ad8",
   "metadata": {},
   "outputs": [
    {
     "name": "stdout",
     "output_type": "stream",
     "text": [
      "{'key_1': 'value_1', 'key_2': 'value_2', 'key_3': 'value_3'}\n"
     ]
    }
   ],
   "source": [
    "print(my_dict)"
   ]
  },
  {
   "cell_type": "code",
   "execution_count": 54,
   "id": "ecd1cdb2-493c-4cfa-b6cf-a479892336db",
   "metadata": {},
   "outputs": [
    {
     "name": "stdout",
     "output_type": "stream",
     "text": [
      "key_1 value_1\n",
      "key_2 value_2\n",
      "key_3 value_3\n"
     ]
    }
   ],
   "source": [
    "# итерация по значениям словаря \n",
    "for k, v in my_dict.items():\n",
    "    print(k, v)"
   ]
  },
  {
   "cell_type": "code",
   "execution_count": 55,
   "id": "9223dc19-d818-4095-993f-55e6aaea0075",
   "metadata": {},
   "outputs": [
    {
     "name": "stdout",
     "output_type": "stream",
     "text": [
      "key_1\n",
      "key_2\n",
      "key_3\n"
     ]
    }
   ],
   "source": [
    "# итерация по ключам\n",
    "for i in my_dict.keys():\n",
    "    print(i)"
   ]
  },
  {
   "cell_type": "code",
   "execution_count": 56,
   "id": "9c345858-71e1-41d9-9a2f-87ce99d122f4",
   "metadata": {},
   "outputs": [
    {
     "name": "stdout",
     "output_type": "stream",
     "text": [
      "value_1\n",
      "value_2\n",
      "value_3\n"
     ]
    }
   ],
   "source": [
    "# итерация по значениям\n",
    "for i in my_dict.values():\n",
    "    print(i)"
   ]
  },
  {
   "cell_type": "code",
   "execution_count": 57,
   "id": "3e0024ab-7e2b-4c84-a238-6e8fc07be5c2",
   "metadata": {},
   "outputs": [
    {
     "name": "stdout",
     "output_type": "stream",
     "text": [
      "{'key_1': 'value_1', 'key_2': 'value_2'}\n"
     ]
    }
   ],
   "source": [
    "# удаление элемента\n",
    "del my_dict[\"key_3\"]\n",
    "print(my_dict)"
   ]
  },
  {
   "cell_type": "code",
   "execution_count": 58,
   "id": "b5a9eb64-e261-4c4a-99c2-e79e76544d6e",
   "metadata": {},
   "outputs": [
    {
     "data": {
      "text/plain": [
       "'value_2'"
      ]
     },
     "execution_count": 58,
     "metadata": {},
     "output_type": "execute_result"
    }
   ],
   "source": [
    "# удалить и вернуть значение\n",
    "my_dict.pop('key_2')"
   ]
  },
  {
   "cell_type": "code",
   "execution_count": 59,
   "id": "a04ffdfe-75d9-4de5-b6bd-bfc431cc3587",
   "metadata": {},
   "outputs": [
    {
     "data": {
      "text/plain": [
       "('key_1', 'value_1')"
      ]
     },
     "execution_count": 59,
     "metadata": {},
     "output_type": "execute_result"
    }
   ],
   "source": [
    "# удаление последней пары и возвращение ее в виде кортежа\n",
    "my_dict.popitem()"
   ]
  },
  {
   "cell_type": "code",
   "execution_count": 60,
   "id": "cabbf7a4-db65-4a89-bfcc-04d8d08539c6",
   "metadata": {},
   "outputs": [
    {
     "data": {
      "text/plain": [
       "{}"
      ]
     },
     "execution_count": 60,
     "metadata": {},
     "output_type": "execute_result"
    }
   ],
   "source": [
    "my_dict"
   ]
  },
  {
   "cell_type": "code",
   "execution_count": 61,
   "id": "f241ebc6-52bb-47a5-a5e3-b9a222b2dcc3",
   "metadata": {},
   "outputs": [],
   "source": [
    "# очищение словаря\n",
    "my_dict.clear()"
   ]
  },
  {
   "cell_type": "markdown",
   "id": "b26e175a-1c4e-4a5b-996b-8cdbd89ada3f",
   "metadata": {},
   "source": [
    "## functions"
   ]
  },
  {
   "cell_type": "code",
   "execution_count": 63,
   "id": "826a9035-79f7-4b94-b688-fb76011dafad",
   "metadata": {},
   "outputs": [],
   "source": [
    "my_dict = {\"key_1\":\"value_1\", \"key_2\":\"value_2\", \"key_3\":\"value_3\"}"
   ]
  },
  {
   "cell_type": "code",
   "execution_count": 71,
   "id": "1edbad6d-d3bd-4810-9f81-215a2dce5338",
   "metadata": {},
   "outputs": [],
   "source": [
    "# **kwargs - произвольное количество именнованных аргументов. Именованные аргументы будут попадать в функцию в виде словаря\n",
    "\n",
    "# *args произвольное количество позиционных аргументов\n",
    "\n",
    "# это не ключевые слова, можно назвать и по-другому"
   ]
  },
  {
   "cell_type": "code",
   "execution_count": 74,
   "id": "2b315ec3-8237-4fde-a542-5c9d6dfe88b9",
   "metadata": {},
   "outputs": [
    {
     "name": "stdout",
     "output_type": "stream",
     "text": [
      "Positional argument: Обязательный аргумент\n",
      "Args: ('Позицинный аргумент 1', 'Позиционный аргумент 2')\n",
      "Kwargs: {'my_kwarg1': 'Именованный аргумент 1', 'my_kwarg2': 'Именованный аргумент 2'}\n"
     ]
    }
   ],
   "source": [
    "# функция с произвольными аргументами\n",
    "\n",
    "def my_function(argument, *args, **kwargs):\n",
    "    print(f\"Positional argument: {argument}\")\n",
    "    print(f\"Args: {args}\")\n",
    "    print(f\"Kwargs: {kwargs}\")\n",
    "          \n",
    "\n",
    "          \n",
    "my_function(\n",
    "    \"Обязательный аргумент\",\n",
    "    \"Позицинный аргумент 1\",\n",
    "    \"Позиционный аргумент 2\",\n",
    "    my_kwarg1 = \"Именованный аргумент 1\",\n",
    "    my_kwarg2 = \"Именованный аргумент 2\"\n",
    ")"
   ]
  },
  {
   "cell_type": "code",
   "execution_count": 76,
   "id": "c7758eb3-372e-4a01-aab3-8ad2db9d233e",
   "metadata": {},
   "outputs": [
    {
     "name": "stdout",
     "output_type": "stream",
     "text": [
      "HEY FROM TRANSMUTE!\n"
     ]
    }
   ],
   "source": [
    "# функция может принимать функцию\n",
    "\n",
    "def transform(text):\n",
    "    return text.upper()\n",
    "\n",
    "def transmute(my_func):\n",
    "    return my_func(\"Hey from transmute!\")\n",
    "\n",
    "print(transmute(transform))"
   ]
  },
  {
   "cell_type": "code",
   "execution_count": 78,
   "id": "2ad8b4d9-13c6-4333-8407-16540cb41068",
   "metadata": {},
   "outputs": [
    {
     "name": "stdout",
     "output_type": "stream",
     "text": [
      "HEY from transmute\n"
     ]
    }
   ],
   "source": [
    "# вложенные функции\n",
    "\n",
    "def transform(text):\n",
    "    def transmute(t):\n",
    "        return t.upper() + \" from transmute\"\n",
    "    return transmute(text)\n",
    "\n",
    "\n",
    "print(transform(\"hey\"))"
   ]
  },
  {
   "cell_type": "code",
   "execution_count": 81,
   "id": "76493177-9373-4c32-9d1c-81cfbc8f4caa",
   "metadata": {},
   "outputs": [
    {
     "name": "stdout",
     "output_type": "stream",
     "text": [
      "HEY(from transmute) (from mutate)\n"
     ]
    }
   ],
   "source": [
    "def transform(text):\n",
    "    def transmute(t):\n",
    "        def mutate(value):\n",
    "            return value + \" (from mutate)\"\n",
    "        value= t.upper() + \"(from transmute)\"\n",
    "        return mutate(value)\n",
    "    return transmute(text)\n",
    "\n",
    "print(transform(\"Hey\"))"
   ]
  },
  {
   "cell_type": "code",
   "execution_count": 83,
   "id": "4cb11cf7-2b35-40f0-95ec-548ad10a22ab",
   "metadata": {},
   "outputs": [
    {
     "name": "stdout",
     "output_type": "stream",
     "text": [
      "HEY!(from transmute)\n"
     ]
    }
   ],
   "source": [
    "# возврат функции\n",
    "\n",
    "def transform():\n",
    "    def transmute(t):\n",
    "        return t.upper() + \"(from transmute)\"\n",
    "    return transmute\n",
    "\n",
    "print(transform()(\"Hey!\"))"
   ]
  }
 ],
 "metadata": {
  "kernelspec": {
   "display_name": "Python 3 (ipykernel)",
   "language": "python",
   "name": "python3"
  },
  "language_info": {
   "codemirror_mode": {
    "name": "ipython",
    "version": 3
   },
   "file_extension": ".py",
   "mimetype": "text/x-python",
   "name": "python",
   "nbconvert_exporter": "python",
   "pygments_lexer": "ipython3",
   "version": "3.8.11"
  }
 },
 "nbformat": 4,
 "nbformat_minor": 5
}
