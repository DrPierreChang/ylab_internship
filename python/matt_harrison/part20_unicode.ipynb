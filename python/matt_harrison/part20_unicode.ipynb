{
 "cells": [
  {
   "cell_type": "markdown",
   "id": "fa27684e-ec5e-4e01-b0fe-8833879a3b14",
   "metadata": {},
   "source": [
    "<h1 align = \"center\"> Unicode</h1>"
   ]
  },
  {
   "cell_type": "code",
   "execution_count": 4,
   "id": "b1fa1dc9-7274-4245-b390-7fadab713dc9",
   "metadata": {},
   "outputs": [
    {
     "data": {
      "text/plain": [
       "'😀'"
      ]
     },
     "execution_count": 4,
     "metadata": {},
     "output_type": "execute_result"
    }
   ],
   "source": [
    "'\\N{GRINNING FACE}' # name"
   ]
  },
  {
   "cell_type": "code",
   "execution_count": 17,
   "id": "5b886e87-c5d9-4a24-a7eb-7dedb316c97a",
   "metadata": {},
   "outputs": [
    {
     "data": {
      "text/plain": [
       "'😈'"
      ]
     },
     "execution_count": 17,
     "metadata": {},
     "output_type": "execute_result"
    }
   ],
   "source": [
    "# Если кодовый пункт содержит\n",
    "# более 4 цифр, используйте прописную букву U и дополните код слева нулями до\n",
    "# 8 цифр. \n",
    "\n",
    "# Если же цифр 4 и меньше, необходимо использовать строчную букву u\n",
    "# и дополнять код слева нулями до 4 цифр.\n",
    "\n",
    "'\\U0001f608' # code"
   ]
  },
  {
   "cell_type": "markdown",
   "id": "9bd1a913-0a53-424f-8fd2-70d3475c7c89",
   "metadata": {},
   "source": [
    "- [Unicode 14.0 Character Code Charts](http://www.unicode.org/charts/)"
   ]
  },
  {
   "cell_type": "code",
   "execution_count": 19,
   "id": "cb32b201-d75a-4837-b25e-77f198ef0f47",
   "metadata": {},
   "outputs": [
    {
     "data": {
      "text/plain": [
       "'UTF-8'"
      ]
     },
     "execution_count": 19,
     "metadata": {},
     "output_type": "execute_result"
    }
   ],
   "source": [
    "# узнать предпочтительную кодировку для вашей машины\n",
    "\n",
    "import locale\n",
    "locale.getpreferredencoding(False)"
   ]
  },
  {
   "cell_type": "code",
   "execution_count": 23,
   "id": "00c1936b-051e-475c-a7b9-c9a7296517b8",
   "metadata": {},
   "outputs": [
    {
     "data": {
      "text/plain": [
       "'²'"
      ]
     },
     "execution_count": 23,
     "metadata": {},
     "output_type": "execute_result"
    }
   ],
   "source": [
    "'\\u00b2'"
   ]
  },
  {
   "cell_type": "markdown",
   "id": "3d6880f0-dd7e-4516-9692-240a8636055d",
   "metadata": {},
   "source": [
    "#### Кодирование и декодирование Юникода"
   ]
  },
  {
   "cell_type": "code",
   "execution_count": 37,
   "id": "7795ec44-ab17-4686-86c0-69c81cd3be95",
   "metadata": {},
   "outputs": [],
   "source": [
    "# Кодирование (в данном случае с использованием UTF-8) строки\n",
    "# Юникода в байтовое представление и последующее декодирование той же\n",
    "# байтовой строки в Юникод (тоже с использованием UTF-8)."
   ]
  },
  {
   "cell_type": "code",
   "execution_count": 28,
   "id": "f8fe24b6-99f1-41d4-905f-f44a0aac4d76",
   "metadata": {},
   "outputs": [
    {
     "data": {
      "text/plain": [
       "b'x\\xc2\\xb2'"
      ]
     },
     "execution_count": 28,
     "metadata": {},
     "output_type": "execute_result"
    }
   ],
   "source": [
    "'x²'.encode('utf-8') # в байтовую строку"
   ]
  },
  {
   "cell_type": "code",
   "execution_count": 29,
   "id": "3e97cc38-a4b6-44a2-8d1e-18655d67aab7",
   "metadata": {},
   "outputs": [
    {
     "data": {
      "text/plain": [
       "'x²'"
      ]
     },
     "execution_count": 29,
     "metadata": {},
     "output_type": "execute_result"
    }
   ],
   "source": [
    "b'x\\xc2\\xb2'.decode('utf-8') # в юникод"
   ]
  },
  {
   "cell_type": "code",
   "execution_count": 33,
   "id": "8d6f273a-322a-472a-bd17-6e1c408897a8",
   "metadata": {},
   "outputs": [
    {
     "data": {
      "text/plain": [
       "'x²'"
      ]
     },
     "execution_count": 33,
     "metadata": {},
     "output_type": "execute_result"
    }
   ],
   "source": [
    "# можно использовать в строке имя кодового пункта, заключив\n",
    "# его в фигурные скобки в конструкции \\N{}:\n",
    "\n",
    "'x\\N{SUPERSCRIPT TWO}'"
   ]
  },
  {
   "cell_type": "code",
   "execution_count": 35,
   "id": "657268e7-87d0-448c-a045-4abdd45b3c6c",
   "metadata": {},
   "outputs": [],
   "source": [
    "# help()\n",
    "# UNICODE"
   ]
  },
  {
   "cell_type": "code",
   "execution_count": 48,
   "id": "0dedefdd-d244-406b-8152-777b7f9eb0cb",
   "metadata": {},
   "outputs": [
    {
     "ename": "UnicodeEncodeError",
     "evalue": "'ascii' codec can't encode character '\\xb2' in position 1: ordinal not in range(128)",
     "output_type": "error",
     "traceback": [
      "\u001b[0;31m---------------------------------------------------------------------------\u001b[0m",
      "\u001b[0;31mUnicodeEncodeError\u001b[0m                        Traceback (most recent call last)",
      "\u001b[0;32m/tmp/ipykernel_89520/210738909.py\u001b[0m in \u001b[0;36m<module>\u001b[0;34m\u001b[0m\n\u001b[1;32m      5\u001b[0m \u001b[0;31m# символ возведения в квадрат:\u001b[0m\u001b[0;34m\u001b[0m\u001b[0;34m\u001b[0m\u001b[0;34m\u001b[0m\u001b[0m\n\u001b[1;32m      6\u001b[0m \u001b[0;34m\u001b[0m\u001b[0m\n\u001b[0;32m----> 7\u001b[0;31m \u001b[0;34m'x²'\u001b[0m\u001b[0;34m.\u001b[0m\u001b[0mencode\u001b[0m\u001b[0;34m(\u001b[0m\u001b[0;34m'ascii'\u001b[0m\u001b[0;34m)\u001b[0m\u001b[0;34m\u001b[0m\u001b[0;34m\u001b[0m\u001b[0m\n\u001b[0m",
      "\u001b[0;31mUnicodeEncodeError\u001b[0m: 'ascii' codec can't encode character '\\xb2' in position 1: ordinal not in range(128)"
     ]
    }
   ],
   "source": [
    "# Если Python не поддерживает кодировку, будет выдана ошибка\n",
    "# UnicodeEncodeError. \n",
    "\n",
    "# Например, ASCII не поддерживает\n",
    "# символ возведения в квадрат:\n",
    "\n",
    "'x²'.encode('ascii')"
   ]
  },
  {
   "cell_type": "code",
   "execution_count": 49,
   "id": "8be468b0-06c5-4ffc-a9fc-799b73cac63a",
   "metadata": {},
   "outputs": [],
   "source": [
    "x_sq = 'x\\u00b2'"
   ]
  },
  {
   "cell_type": "code",
   "execution_count": 50,
   "id": "e0999ba1-ea35-4d3f-a6a4-fa0610f55548",
   "metadata": {},
   "outputs": [
    {
     "data": {
      "text/plain": [
       "b'x'"
      ]
     },
     "execution_count": 50,
     "metadata": {},
     "output_type": "execute_result"
    }
   ],
   "source": [
    "# Чтобы проигнорировать символы, которые Python не может представить,\n",
    "# передайте параметр errors='ignore':\n",
    "\n",
    "x_sq.encode('ascii', errors='ignore')"
   ]
  },
  {
   "cell_type": "code",
   "execution_count": 95,
   "id": "052a20fd-4506-488a-8892-169c69c3e536",
   "metadata": {},
   "outputs": [
    {
     "data": {
      "text/plain": [
       "b'x?'"
      ]
     },
     "execution_count": 95,
     "metadata": {},
     "output_type": "execute_result"
    }
   ],
   "source": [
    "# Если передать параметр errors='replace', Python вставит вопросительные знаки вместо неподдерживаемых байтов:\n",
    "    \n",
    "x_sq.encode('ascii', errors='replace')"
   ]
  },
  {
   "cell_type": "code",
   "execution_count": 52,
   "id": "fae3abba-60e0-4f32-9644-a9e2897f2105",
   "metadata": {},
   "outputs": [],
   "source": [
    "# Модуль encodings содержит отображения для кодировок, поддерживаемых\n",
    "# Python. В Python 3.6 поддерживаются 99 кодировок. "
   ]
  },
  {
   "cell_type": "code",
   "execution_count": 58,
   "id": "18e7340f-2932-4302-84cd-f1d07cfd8a51",
   "metadata": {},
   "outputs": [],
   "source": [
    "# from encodings import aliases\n",
    "# aliases.aliases"
   ]
  },
  {
   "cell_type": "code",
   "execution_count": 61,
   "id": "f84f73a9-81e7-462f-a07e-b626091ec24d",
   "metadata": {},
   "outputs": [
    {
     "data": {
      "text/plain": [
       "3.0"
      ]
     },
     "execution_count": 61,
     "metadata": {},
     "output_type": "execute_result"
    }
   ],
   "source": [
    "13 // 4.0"
   ]
  },
  {
   "cell_type": "code",
   "execution_count": 62,
   "id": "9a7a23da-0e98-4006-b00c-2a5f60c2e440",
   "metadata": {},
   "outputs": [
    {
     "data": {
      "text/plain": [
       "'x²'"
      ]
     },
     "execution_count": 62,
     "metadata": {},
     "output_type": "execute_result"
    }
   ],
   "source": [
    "# последовательность байтов\n",
    "utf8_bytes = b'x\\xc2\\xb2'\n",
    "\n",
    "# преобразование в строку Юникод\n",
    "utf8_bytes.decode('utf-8')"
   ]
  },
  {
   "cell_type": "code",
   "execution_count": 65,
   "id": "eb265adf-84f3-41ea-a93b-0106d8e060a6",
   "metadata": {},
   "outputs": [],
   "source": [
    "# Вы должны знать кодировку символов; в противном случае вы можете\n",
    "# попытаться провести декодирование с неверной кодировкой и получить\n",
    "# неправильные данные."
   ]
  },
  {
   "cell_type": "code",
   "execution_count": 64,
   "id": "3ad18041-7a1f-4df0-bf2f-665ec1970872",
   "metadata": {},
   "outputs": [],
   "source": [
    "# Некоторые кодировки поддерживают не все последовательности байтов.\n",
    "# Если вы проведете декодирование с ошибочной кодировкой, то вместо\n",
    "# искаженных символов вы получите исключение UnicodeDecodeError"
   ]
  },
  {
   "cell_type": "code",
   "execution_count": 63,
   "id": "f6134347-8b8d-4879-a298-8c57b6d37edc",
   "metadata": {},
   "outputs": [
    {
     "data": {
      "text/plain": [
       "'x'"
      ]
     },
     "execution_count": 63,
     "metadata": {},
     "output_type": "execute_result"
    }
   ],
   "source": [
    "# Если кодировка неизвестна, можно передать параметр errors='ignore',\n",
    "# но это приведет к потере данных. Эта мера должна использоваться только\n",
    "# в самом крайнем случае:\n",
    "\n",
    "b'x\\xc2\\xb2'.decode('ascii', errors='ignore')"
   ]
  },
  {
   "cell_type": "markdown",
   "id": "05705e62-c1e5-491a-b3a6-9ca5e2fb5648",
   "metadata": {},
   "source": [
    "#### Юникод и Файлы"
   ]
  },
  {
   "cell_type": "code",
   "execution_count": 67,
   "id": "81925fa0-a9f0-4686-82b5-c0de44dfbd6c",
   "metadata": {},
   "outputs": [],
   "source": [
    "# по-умолчанию записываем с кодировкой utf-8\n",
    "with open('fout.utf8', 'w') as fout:\n",
    "    fout.write('x²')\n",
    "    \n",
    "# можно задать кодировку\n",
    "with open('fout.cp949', 'w', encoding='cp949') as fout:\n",
    "    fout.write('x²')"
   ]
  },
  {
   "cell_type": "code",
   "execution_count": 75,
   "id": "bf630ef9-f04e-4618-943c-339d5ba73fea",
   "metadata": {},
   "outputs": [
    {
     "name": "stdout",
     "output_type": "stream",
     "text": [
      "x²\n"
     ]
    }
   ],
   "source": [
    "# при чтение желательно явно указывать кодировку файла\n",
    "with open('fout.cp949', 'r', encoding='cp949') as fin:\n",
    "    print(fin.read())"
   ]
  },
  {
   "cell_type": "code",
   "execution_count": 76,
   "id": "4f748051-5c45-4159-b21c-0087a205a95a",
   "metadata": {},
   "outputs": [],
   "source": [
    "# Если вы работаете с текстовыми файлами, содержащими символы, не\n",
    "# входящие в ASCII, обязательно явно укажите их кодировку."
   ]
  },
  {
   "cell_type": "code",
   "execution_count": 79,
   "id": "5f603202-b738-4f9e-b7df-f9f4ecce5f5f",
   "metadata": {},
   "outputs": [],
   "source": [
    "##############"
   ]
  },
  {
   "cell_type": "code",
   "execution_count": 78,
   "id": "2ff88654-4f72-471c-b303-e6d2bb132d6c",
   "metadata": {},
   "outputs": [
    {
     "name": "stdout",
     "output_type": "stream",
     "text": [
      "Python comes with ”batteries included”\n"
     ]
    }
   ],
   "source": [
    "print('Python comes with ”batteries included”')"
   ]
  },
  {
   "cell_type": "code",
   "execution_count": 80,
   "id": "52987f28-df1d-4e5d-bd71-9a00ec2c8553",
   "metadata": {},
   "outputs": [
    {
     "name": "stdout",
     "output_type": "stream",
     "text": [
      "Python comes with “batteries included”\n"
     ]
    }
   ],
   "source": [
    "print('Python comes with “batteries included”')"
   ]
  },
  {
   "cell_type": "code",
   "execution_count": 88,
   "id": "a58cb797-fa4e-4347-9502-35a5d3da9748",
   "metadata": {},
   "outputs": [
    {
     "data": {
      "text/plain": [
       "b'\\xe2\\x80\\x9d'"
      ]
     },
     "execution_count": 88,
     "metadata": {},
     "output_type": "execute_result"
    }
   ],
   "source": [
    "'”'.encode(\"utf-8\")"
   ]
  },
  {
   "cell_type": "code",
   "execution_count": 94,
   "id": "653e3029-8781-4379-84b6-79bc131d9712",
   "metadata": {},
   "outputs": [
    {
     "data": {
      "text/plain": [
       "b'\\xe2\\x80\\x9c'"
      ]
     },
     "execution_count": 94,
     "metadata": {},
     "output_type": "execute_result"
    }
   ],
   "source": [
    "'“'.encode(\"utf-8\")"
   ]
  }
 ],
 "metadata": {
  "kernelspec": {
   "display_name": "Python 3 (ipykernel)",
   "language": "python",
   "name": "python3"
  },
  "language_info": {
   "codemirror_mode": {
    "name": "ipython",
    "version": 3
   },
   "file_extension": ".py",
   "mimetype": "text/x-python",
   "name": "python",
   "nbconvert_exporter": "python",
   "pygments_lexer": "ipython3",
   "version": "3.8.11"
  }
 },
 "nbformat": 4,
 "nbformat_minor": 5
}
