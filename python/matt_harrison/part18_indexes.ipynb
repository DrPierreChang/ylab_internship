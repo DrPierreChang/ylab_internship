{
 "cells": [
  {
   "cell_type": "code",
   "execution_count": 1,
   "id": "bf6bc481-bd37-487c-af63-f14dc0d1d545",
   "metadata": {},
   "outputs": [
    {
     "data": {
      "text/plain": [
       "['bird', 'cat']"
      ]
     },
     "execution_count": 1,
     "metadata": {},
     "output_type": "execute_result"
    }
   ],
   "source": [
    "# Чтобы использовать отрицательное приращение, укажите значение начального индекса\n",
    "# больше конечного\n",
    "\n",
    "my_pets = [\"dog\", \"cat\", \"bird\"]\n",
    "my_pets[2:0:-1]"
   ]
  }
 ],
 "metadata": {
  "kernelspec": {
   "display_name": "Python 3 (ipykernel)",
   "language": "python",
   "name": "python3"
  },
  "language_info": {
   "codemirror_mode": {
    "name": "ipython",
    "version": 3
   },
   "file_extension": ".py",
   "mimetype": "text/x-python",
   "name": "python",
   "nbconvert_exporter": "python",
   "pygments_lexer": "ipython3",
   "version": "3.8.11"
  }
 },
 "nbformat": 4,
 "nbformat_minor": 5
}
