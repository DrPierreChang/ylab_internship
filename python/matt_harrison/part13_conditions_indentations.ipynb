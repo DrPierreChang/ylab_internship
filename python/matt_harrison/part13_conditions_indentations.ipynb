{
 "cells": [
  {
   "cell_type": "markdown",
   "id": "c570e05e-e3b4-4d44-a7cf-e3ae2e50e647",
   "metadata": {},
   "source": [
    "<h1 align=\"center\">Part 13. Conditions, Indentations</h1>"
   ]
  },
  {
   "cell_type": "markdown",
   "id": "17493ecf-b595-4eec-a12f-1c797080b70f",
   "metadata": {},
   "source": [
    "Для классов, в которых обычно\n",
    "используются сравнения, декоратор класса functools.total_ordering\n",
    "предоставит всю функциональность сравнений при условии определения\n",
    "методов __eq__ and __le__."
   ]
  },
  {
   "cell_type": "code",
   "execution_count": 45,
   "id": "7b07d89a-8525-421d-b60a-845d57c50bc3",
   "metadata": {},
   "outputs": [],
   "source": [
    "import functools\n",
    "\n",
    "@functools.total_ordering\n",
    "class Abs(object):\n",
    "    def __init__(self, num):\n",
    "        self.num = abs(num)\n",
    "    def __eq__(self, other):\n",
    "        return self.num == abs(other)\n",
    "    def __lt__(self, other):\n",
    "        return self.num < abs(other)\n"
   ]
  },
  {
   "cell_type": "code",
   "execution_count": 46,
   "id": "7f647087-60db-455a-b60a-91b52254b935",
   "metadata": {},
   "outputs": [],
   "source": [
    "five = Abs(-5)\n",
    "four = Abs(-4)"
   ]
  },
  {
   "cell_type": "markdown",
   "id": "78187f66-bfa1-4f2a-a139-08d32f4b2317",
   "metadata": {},
   "source": [
    "Операторы is и is not предназначены для сравнения тождественности\n",
    "(то есть того, что два объекта имеют одинаковые идентификаторы и фактически являются одним объектом (а не только имеют одинаковые значения)). "
   ]
  },
  {
   "cell_type": "code",
   "execution_count": 48,
   "id": "858fea84-68ae-4db6-a750-f9f8ee77ead3",
   "metadata": {},
   "outputs": [],
   "source": [
    "a = \"AbC\"\n",
    "b = \"AbC\""
   ]
  },
  {
   "cell_type": "code",
   "execution_count": 49,
   "id": "01fd882d-351a-4f08-8495-105df4b34679",
   "metadata": {},
   "outputs": [
    {
     "data": {
      "text/plain": [
       "True"
      ]
     },
     "execution_count": 49,
     "metadata": {},
     "output_type": "execute_result"
    }
   ],
   "source": [
    "a is b"
   ]
  },
  {
   "cell_type": "markdown",
   "id": "8516482f-fb04-4e66-bdbe-1b5fd0f0bb8c",
   "metadata": {},
   "source": [
    "Диапазонная проверка"
   ]
  },
  {
   "cell_type": "code",
   "execution_count": 51,
   "id": "d0b0aba4-c905-4631-b00c-ab0c4a77680c",
   "metadata": {},
   "outputs": [],
   "source": [
    "score = 91"
   ]
  },
  {
   "cell_type": "code",
   "execution_count": 54,
   "id": "6548759e-224a-4b37-8234-0b80051d2839",
   "metadata": {},
   "outputs": [
    {
     "name": "stdout",
     "output_type": "stream",
     "text": [
      "Your grade is A\n"
     ]
    }
   ],
   "source": [
    "if 90 < score <= 100:\n",
    "    print(\"Your grade is A\")"
   ]
  },
  {
   "cell_type": "markdown",
   "id": "ee207d2f-f13c-4eac-8076-40e17b666a77",
   "metadata": {},
   "source": [
    "Вхождение в заданную группу"
   ]
  },
  {
   "cell_type": "code",
   "execution_count": 65,
   "id": "484a28f1-7137-405f-8e50-b964fd3200bf",
   "metadata": {},
   "outputs": [],
   "source": [
    "name = \"Paul\"\n",
    "beatle = False"
   ]
  },
  {
   "cell_type": "code",
   "execution_count": 62,
   "id": "eef38c71-8301-42f4-995b-60aa1a7a1504",
   "metadata": {},
   "outputs": [
    {
     "name": "stdout",
     "output_type": "stream",
     "text": [
      "True\n"
     ]
    }
   ],
   "source": [
    "if name == 'George' or \\\n",
    "    name == 'Ringo' or \\\n",
    "    name == 'John' or \\\n",
    "    name == 'Paul':\n",
    "    beatle = True\n",
    "\n",
    "print(beatle)"
   ]
  },
  {
   "cell_type": "code",
   "execution_count": 66,
   "id": "21fec5f9-f647-4aea-98c4-4082b2787d83",
   "metadata": {},
   "outputs": [
    {
     "name": "stdout",
     "output_type": "stream",
     "text": [
      "True\n"
     ]
    }
   ],
   "source": [
    "# можно использовать круглые скобки и не использовать символ переноса строки\n",
    "if (name == 'George' or\n",
    "    name == 'Ringo' or\n",
    "    name == 'John' or\n",
    "    name == 'Paul'):\n",
    "    beatle = True\n",
    "\n",
    "print(beatle)"
   ]
  },
  {
   "cell_type": "code",
   "execution_count": 67,
   "id": "a2a45073-86e4-4829-8771-4eb49d3a4bb1",
   "metadata": {},
   "outputs": [
    {
     "data": {
      "text/plain": [
       "True"
      ]
     },
     "execution_count": 67,
     "metadata": {},
     "output_type": "execute_result"
    }
   ],
   "source": [
    "# версия проверки принадлежности, которая считается\n",
    "# одной из базовых идиом Python\n",
    "\n",
    "beatles = {'George', 'Ringo', 'John', 'Paul'}\n",
    "beatle = name in beatles\n",
    "beatle"
   ]
  },
  {
   "cell_type": "code",
   "execution_count": 69,
   "id": "baa466ac-f532-4fa2-a7b9-350ffb06050b",
   "metadata": {},
   "outputs": [
    {
     "name": "stdout",
     "output_type": "stream",
     "text": [
      "Debugging...\n"
     ]
    }
   ],
   "source": [
    "# распространенная проверка связана с неявным преобразованием к «квазиистинным» или «квазиложным» значениям:\n",
    "\n",
    "debug = True\n",
    "\n",
    "if debug:\n",
    "    print(\"Debugging...\")"
   ]
  },
  {
   "cell_type": "code",
   "execution_count": 70,
   "id": "3a00f32c-3062-4107-b2ab-986454147ab0",
   "metadata": {},
   "outputs": [],
   "source": [
    "######################################"
   ]
  },
  {
   "cell_type": "code",
   "execution_count": 71,
   "id": "e27bf547-d91f-49e4-813b-a28c07307668",
   "metadata": {},
   "outputs": [
    {
     "name": "stdout",
     "output_type": "stream",
     "text": [
      "4 високосный год\n",
      "200 невисокосный год\n",
      "1800 невисокосный год\n",
      "1900 невисокосный год\n",
      "1903 невисокосный год\n",
      "2000 високосный год\n",
      "2002 невисокосный год\n"
     ]
    }
   ],
   "source": [
    "years_ls = [4, 200, 1800, 1900, 1903, 2000, 2002]\n",
    "for i in years_ls:\n",
    "    if i % 400 == 0:\n",
    "        print(f\"{i} високосный год\")\n",
    "    elif i % 4 == 0 and i % 100 != 0:\n",
    "        print(f\"{i} високосный год\")\n",
    "    else:\n",
    "        print(f\"{i} невисокосный год\")"
   ]
  },
  {
   "cell_type": "code",
   "execution_count": null,
   "id": "3c260e78-8891-4568-b497-2efb348b3b88",
   "metadata": {},
   "outputs": [],
   "source": [
    "    "
   ]
  }
 ],
 "metadata": {
  "kernelspec": {
   "display_name": "Python 3 (ipykernel)",
   "language": "python",
   "name": "python3"
  },
  "language_info": {
   "codemirror_mode": {
    "name": "ipython",
    "version": 3
   },
   "file_extension": ".py",
   "mimetype": "text/x-python",
   "name": "python",
   "nbconvert_exporter": "python",
   "pygments_lexer": "ipython3",
   "version": "3.8.11"
  }
 },
 "nbformat": 4,
 "nbformat_minor": 5
}
