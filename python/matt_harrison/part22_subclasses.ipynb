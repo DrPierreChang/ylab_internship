{
 "cells": [
  {
   "cell_type": "markdown",
   "id": "01d56575-444a-4b1e-ba29-76fb3ea6c72f",
   "metadata": {},
   "source": [
    "```\n",
    "Связь между субклассом и его\n",
    "родительскими классами позволяет искать атрибуты в четко определенном\n",
    "порядке. Если атрибут определен в экземпляре субкласса, то используется этот\n",
    "атрибут. Если нет, то после экземпляра поиск продолжается в классе (__class__)\n",
    "экземпляра. Если и эта попытка оказывается неудачной, поиск осуществляется\n",
    "в родительских классах (__bases__)\n",
    "```"
   ]
  },
  {
   "cell_type": "markdown",
   "id": "4bd62522-3166-4af8-87aa-02196a536418",
   "metadata": {},
   "source": [
    "```\n",
    "экземпляр содержит указатель на свой класс, а класс — указатели\n",
    "на все родительские классы (атрибут __bases__)\n",
    "```"
   ]
  },
  {
   "cell_type": "code",
   "execution_count": 2,
   "id": "3b46555e-e76d-4597-8fed-719be28e49c4",
   "metadata": {},
   "outputs": [
    {
     "data": {
      "text/plain": [
       "(__main__.ParentClass,)"
      ]
     },
     "execution_count": 2,
     "metadata": {},
     "output_type": "execute_result"
    }
   ],
   "source": [
    "class ParentClass:\n",
    "    some_atribute = 10\n",
    "    \n",
    "class ChildClass(ParentClass):\n",
    "    pass\n",
    "\n",
    "ChildClass.__bases__"
   ]
  },
  {
   "cell_type": "markdown",
   "id": "15007832-bd01-4fdb-a57e-a3065055e163",
   "metadata": {},
   "source": [
    "```\n",
    "Ключевое слово super особенно полезно в двух случаях. Во-первых, при\n",
    "определении порядка разрешения методов в классах с несколькими родителями super гарантирует последовательность этого порядка. Во-вторых, при\n",
    "изменении базового класса super самостоятельно определит новый базовый\n",
    "класс, а это упрощает сопровождение кода.\n",
    "```"
   ]
  }
 ],
 "metadata": {
  "kernelspec": {
   "display_name": "Python 3 (ipykernel)",
   "language": "python",
   "name": "python3"
  },
  "language_info": {
   "codemirror_mode": {
    "name": "ipython",
    "version": 3
   },
   "file_extension": ".py",
   "mimetype": "text/x-python",
   "name": "python",
   "nbconvert_exporter": "python",
   "pygments_lexer": "ipython3",
   "version": "3.8.11"
  }
 },
 "nbformat": 4,
 "nbformat_minor": 5
}
