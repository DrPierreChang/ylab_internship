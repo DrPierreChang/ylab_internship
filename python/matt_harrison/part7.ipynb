{
 "cells": [
  {
   "cell_type": "code",
   "execution_count": 20,
   "id": "d27a7573",
   "metadata": {},
   "outputs": [],
   "source": [
    "import copy"
   ]
  },
  {
   "cell_type": "code",
   "execution_count": 43,
   "id": "361e86e9",
   "metadata": {
    "scrolled": true
   },
   "outputs": [
    {
     "name": "stdout",
     "output_type": "stream",
     "text": [
      "140026135344240\n"
     ]
    }
   ],
   "source": [
    "# id это адрес в оперативной памяти\n",
    "# он не изменяется на протяжении жизненного цикла программы\n",
    "name = \"Matt\"\n",
    "print(id(name))"
   ]
  },
  {
   "cell_type": "code",
   "execution_count": 44,
   "id": "cffba6f9",
   "metadata": {},
   "outputs": [],
   "source": [
    "# id before restarting kernel\n",
    "previous_id = '139840786330608'"
   ]
  },
  {
   "cell_type": "code",
   "execution_count": 45,
   "id": "f419143d",
   "metadata": {},
   "outputs": [],
   "source": [
    "# id after restarting kernel\n",
    "current_id = '140026135344240'"
   ]
  },
  {
   "cell_type": "code",
   "execution_count": 61,
   "id": "e86d5000",
   "metadata": {
    "scrolled": true
   },
   "outputs": [
    {
     "data": {
      "text/plain": [
       "True"
      ]
     },
     "execution_count": 61,
     "metadata": {},
     "output_type": "execute_result"
    }
   ],
   "source": [
    "# id испльзвуется для проверки тождественности. Указывают ли 2 переменные на один объект\n",
    "first = \"abc\"\n",
    "second = first\n",
    "\n",
    "first is second"
   ]
  },
  {
   "cell_type": "code",
   "execution_count": 16,
   "id": "2e35bdbc",
   "metadata": {},
   "outputs": [
    {
     "data": {
      "text/plain": [
       "True"
      ]
     },
     "execution_count": 16,
     "metadata": {},
     "output_type": "execute_result"
    }
   ],
   "source": [
    "a = \"12345\"\n",
    "b = \"12345\"\n",
    "a is b"
   ]
  },
  {
   "cell_type": "code",
   "execution_count": 17,
   "id": "27a4d167",
   "metadata": {},
   "outputs": [
    {
     "data": {
      "text/plain": [
       "False"
      ]
     },
     "execution_count": 17,
     "metadata": {},
     "output_type": "execute_result"
    }
   ],
   "source": [
    "a = 12345\n",
    "b = 12345\n",
    "a is b"
   ]
  },
  {
   "cell_type": "code",
   "execution_count": 62,
   "id": "cc38989d",
   "metadata": {},
   "outputs": [
    {
     "data": {
      "text/plain": [
       "False"
      ]
     },
     "execution_count": 62,
     "metadata": {},
     "output_type": "execute_result"
    }
   ],
   "source": [
    "# одну из переменных можно перевести на другой объект\n",
    "second = \"cba\"\n",
    "id(first)==id(second)"
   ]
  },
  {
   "cell_type": "code",
   "execution_count": 67,
   "id": "d22e3173",
   "metadata": {},
   "outputs": [
    {
     "data": {
      "text/plain": [
       "builtin_function_or_method"
      ]
     },
     "execution_count": 67,
     "metadata": {},
     "output_type": "execute_result"
    }
   ],
   "source": [
    "# тип встроенной функции как объекта\n",
    "type(print)"
   ]
  },
  {
   "cell_type": "markdown",
   "id": "e1fd6f2e",
   "metadata": {},
   "source": [
    "Изменяемые типы (не создается новый объект при изменении объекта):\n",
    "- список\n",
    "- словарь\n",
    "\n",
    "Неизменяемые типы (при изменении объекта создается нвоый объект):\n",
    "- строки\n",
    "- кортежи\n",
    "- целые числа\n",
    "- числа с плавающей точкой"
   ]
  },
  {
   "cell_type": "code",
   "execution_count": 71,
   "id": "15caeb2c",
   "metadata": {},
   "outputs": [
    {
     "name": "stdout",
     "output_type": "stream",
     "text": [
      "[1, 2, 3]\n",
      "140025748906624\n",
      "\n",
      "[1, 2, 3, 4]\n",
      "140025748906624\n"
     ]
    }
   ],
   "source": [
    "ls = [1, 2, 3]\n",
    "print(ls)\n",
    "print(id(ls))\n",
    "print()\n",
    "ls.append(4)\n",
    "print(ls)\n",
    "print(id(ls))"
   ]
  },
  {
   "cell_type": "code",
   "execution_count": 72,
   "id": "463091cb",
   "metadata": {},
   "outputs": [
    {
     "name": "stdout",
     "output_type": "stream",
     "text": [
      "1\n",
      "94801791892960\n",
      "\n",
      "2\n",
      "94801791892992\n"
     ]
    }
   ],
   "source": [
    "num = 1\n",
    "print(num)\n",
    "print(id(num))\n",
    "print()\n",
    "num += 1\n",
    "print(num)\n",
    "print(id(num))"
   ]
  },
  {
   "cell_type": "code",
   "execution_count": 74,
   "id": "44481453",
   "metadata": {},
   "outputs": [
    {
     "data": {
      "text/plain": [
       "['In',\n",
       " 'Out',\n",
       " '_',\n",
       " '_16',\n",
       " '_18',\n",
       " '_19',\n",
       " '_24',\n",
       " '_25',\n",
       " '_27',\n",
       " '_28',\n",
       " '_31',\n",
       " '_32',\n",
       " '_33',\n",
       " '_34',\n",
       " '_36',\n",
       " '_38',\n",
       " '_42',\n",
       " '_46',\n",
       " '_47',\n",
       " '_48',\n",
       " '_50',\n",
       " '_51',\n",
       " '_53',\n",
       " '_55',\n",
       " '_56',\n",
       " '_57',\n",
       " '_58',\n",
       " '_59',\n",
       " '_60',\n",
       " '_61',\n",
       " '_62',\n",
       " '_64',\n",
       " '_65',\n",
       " '_66',\n",
       " '_67',\n",
       " '_73',\n",
       " '_8',\n",
       " '__',\n",
       " '___',\n",
       " '__builtin__',\n",
       " '__builtins__',\n",
       " '__doc__',\n",
       " '__loader__',\n",
       " '__name__',\n",
       " '__package__',\n",
       " '__spec__',\n",
       " '_dh',\n",
       " '_i',\n",
       " '_i1',\n",
       " '_i10',\n",
       " '_i11',\n",
       " '_i12',\n",
       " '_i13',\n",
       " '_i14',\n",
       " '_i15',\n",
       " '_i16',\n",
       " '_i17',\n",
       " '_i18',\n",
       " '_i19',\n",
       " '_i2',\n",
       " '_i20',\n",
       " '_i21',\n",
       " '_i22',\n",
       " '_i23',\n",
       " '_i24',\n",
       " '_i25',\n",
       " '_i26',\n",
       " '_i27',\n",
       " '_i28',\n",
       " '_i29',\n",
       " '_i3',\n",
       " '_i30',\n",
       " '_i31',\n",
       " '_i32',\n",
       " '_i33',\n",
       " '_i34',\n",
       " '_i35',\n",
       " '_i36',\n",
       " '_i37',\n",
       " '_i38',\n",
       " '_i39',\n",
       " '_i4',\n",
       " '_i40',\n",
       " '_i41',\n",
       " '_i42',\n",
       " '_i43',\n",
       " '_i44',\n",
       " '_i45',\n",
       " '_i46',\n",
       " '_i47',\n",
       " '_i48',\n",
       " '_i49',\n",
       " '_i5',\n",
       " '_i50',\n",
       " '_i51',\n",
       " '_i52',\n",
       " '_i53',\n",
       " '_i54',\n",
       " '_i55',\n",
       " '_i56',\n",
       " '_i57',\n",
       " '_i58',\n",
       " '_i59',\n",
       " '_i6',\n",
       " '_i60',\n",
       " '_i61',\n",
       " '_i62',\n",
       " '_i63',\n",
       " '_i64',\n",
       " '_i65',\n",
       " '_i66',\n",
       " '_i67',\n",
       " '_i68',\n",
       " '_i69',\n",
       " '_i7',\n",
       " '_i70',\n",
       " '_i71',\n",
       " '_i72',\n",
       " '_i73',\n",
       " '_i74',\n",
       " '_i8',\n",
       " '_i9',\n",
       " '_ih',\n",
       " '_ii',\n",
       " '_iii',\n",
       " '_oh',\n",
       " 'a',\n",
       " 'b',\n",
       " 'copied_name',\n",
       " 'copy',\n",
       " 'current_id',\n",
       " 'exit',\n",
       " 'first',\n",
       " 'get_ipython',\n",
       " 'ls',\n",
       " 'name',\n",
       " 'num',\n",
       " 'previous_id',\n",
       " 'quit',\n",
       " 'second',\n",
       " 'the_same_name']"
      ]
     },
     "execution_count": 74,
     "metadata": {},
     "output_type": "execute_result"
    }
   ],
   "source": [
    "# глобальные переменные\n",
    "dir()"
   ]
  },
  {
   "cell_type": "code",
   "execution_count": 78,
   "id": "1e0dfe3d",
   "metadata": {},
   "outputs": [
    {
     "name": "stdout",
     "output_type": "stream",
     "text": [
      "[1, 2, 3, 4] -> 140025748906624\n",
      "\n",
      "1 -> 94801791892960\n",
      "2 -> 94801791892992\n",
      "3 -> 94801791893024\n",
      "4 -> 94801791893056\n"
     ]
    }
   ],
   "source": [
    "print(ls, id(ls), sep = \" -> \")\n",
    "print()\n",
    "for i in ls:\n",
    "    print(i, id(i), sep = \" -> \")"
   ]
  }
 ],
 "metadata": {
  "kernelspec": {
   "display_name": "Python 3 (ipykernel)",
   "language": "python",
   "name": "python3"
  },
  "language_info": {
   "codemirror_mode": {
    "name": "ipython",
    "version": 3
   },
   "file_extension": ".py",
   "mimetype": "text/x-python",
   "name": "python",
   "nbconvert_exporter": "python",
   "pygments_lexer": "ipython3",
   "version": "3.8.11"
  }
 },
 "nbformat": 4,
 "nbformat_minor": 5
}
