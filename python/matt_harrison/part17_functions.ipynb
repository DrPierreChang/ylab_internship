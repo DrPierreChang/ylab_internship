{
 "cells": [
  {
   "cell_type": "markdown",
   "id": "5addb844-1e18-43f5-a71b-e063e86d72e3",
   "metadata": {},
   "source": [
    "<h1 align=\"center\">Functions</h1>"
   ]
  },
  {
   "cell_type": "code",
   "execution_count": 2,
   "id": "7e9eeb01-1280-43c4-b93c-981d433d070e",
   "metadata": {},
   "outputs": [
    {
     "name": "stdout",
     "output_type": "stream",
     "text": [
      "12\n"
     ]
    }
   ],
   "source": [
    "def add_2(num):\n",
    "    '''\n",
    "    return 2 more than num\n",
    "    '''\n",
    "    result = num + 2\n",
    "    return result\n",
    "\n",
    "print(add_2(10))"
   ]
  },
  {
   "cell_type": "code",
   "execution_count": 5,
   "id": "dd00f3d0-1a01-49ce-abdc-147847caa07f",
   "metadata": {},
   "outputs": [],
   "source": [
    "# # просотр атрибуто созданной функции\n",
    "# dir(add_2)"
   ]
  },
  {
   "cell_type": "code",
   "execution_count": 7,
   "id": "88f571c2-5e11-4035-852c-a6154c1cb0c8",
   "metadata": {},
   "outputs": [
    {
     "name": "stdout",
     "output_type": "stream",
     "text": [
      "Help on function add_2 in module __main__:\n",
      "\n",
      "add_2(num)\n",
      "    return 2 more than num\n",
      "\n"
     ]
    }
   ],
   "source": [
    "# информация о функции приходит из строки документации\n",
    "help(add_2)"
   ]
  },
  {
   "cell_type": "code",
   "execution_count": 10,
   "id": "c0f621ae-e0c5-4f8d-8d7f-6da11e3b8dbf",
   "metadata": {},
   "outputs": [
    {
     "name": "stdout",
     "output_type": "stream",
     "text": [
      "Local: 4\n",
      "Global: 2\n",
      "Built-in: <built-in function dir>\n"
     ]
    }
   ],
   "source": [
    "# Python ищет переменные в разных местах.\n",
    "\n",
    "x = 2 # Глобальная\n",
    "def scope_demo():\n",
    "    y = 4 # Локальная для scope_demo\n",
    "    print(\"Local: {}\".format(y))\n",
    "    print(\"Global: {}\".format(x))\n",
    "    print(\"Built-in: {}\".format(dir)) # встроенная\n",
    "    \n",
    "scope_demo()"
   ]
  },
  {
   "cell_type": "markdown",
   "id": "07048731-e02a-4f68-85bc-76cd0d83ca7f",
   "metadata": {},
   "source": [
    "В общем случае стоит избегать глобальных переменных,\n",
    "потому что они усложняют понимание кода. Глобальные переменные\n",
    "часто встречаются в учебниках, блогах и документации, потому что их\n",
    "использование сокращает объем кода и помогает сосредоточиться на концепциях, не отвлекаясь на упаковку переменных в функциях. Функции\n",
    "и классы помогают избавиться от глобальных переменных, улучшают\n",
    "модульность кода и упрощают его понимание."
   ]
  },
  {
   "cell_type": "markdown",
   "id": "6fc0d37e-3d35-4ba1-adb5-7a49a265d4d0",
   "metadata": {},
   "source": [
    "Команда del может использоваться для удаления переменных в локальной\n",
    "или глобальной области видимости. Однако на практике лучше с самого начала избегать замещения встроенных имен"
   ]
  },
  {
   "cell_type": "code",
   "execution_count": 22,
   "id": "970a6488-cb43-4aaa-ab6a-27a30ba46cf1",
   "metadata": {},
   "outputs": [
    {
     "name": "stdout",
     "output_type": "stream",
     "text": [
      "Dir called\n"
     ]
    }
   ],
   "source": [
    "def dir(x):\n",
    "    print(\"Dir called\")\n",
    "\n",
    "dir('')"
   ]
  },
  {
   "cell_type": "code",
   "execution_count": 23,
   "id": "a3adec70-f0ad-4b15-a80b-a50fbf5717d2",
   "metadata": {},
   "outputs": [
    {
     "name": "stdout",
     "output_type": "stream",
     "text": [
      "['__add__', '__class__', '__contains__', '__delattr__', '__dir__', '__doc__', '__eq__', '__format__', '__ge__', '__getattribute__', '__getitem__', '__getnewargs__', '__gt__', '__hash__', '__init__', '__init_subclass__', '__iter__', '__le__', '__len__', '__lt__', '__mod__', '__mul__', '__ne__', '__new__', '__reduce__', '__reduce_ex__', '__repr__', '__rmod__', '__rmul__', '__setattr__', '__sizeof__', '__str__', '__subclasshook__', 'capitalize', 'casefold', 'center', 'count', 'encode', 'endswith', 'expandtabs', 'find', 'format', 'format_map', 'index', 'isalnum', 'isalpha', 'isascii', 'isdecimal', 'isdigit', 'isidentifier', 'islower', 'isnumeric', 'isprintable', 'isspace', 'istitle', 'isupper', 'join', 'ljust', 'lower', 'lstrip', 'maketrans', 'partition', 'replace', 'rfind', 'rindex', 'rjust', 'rpartition', 'rsplit', 'rstrip', 'split', 'splitlines', 'startswith', 'strip', 'swapcase', 'title', 'translate', 'upper', 'zfill']\n"
     ]
    }
   ],
   "source": [
    "del dir\n",
    "print(dir(''))"
   ]
  },
  {
   "cell_type": "code",
   "execution_count": 28,
   "id": "3b7dca97-8dc6-49fa-8a75-564086e0fdc2",
   "metadata": {},
   "outputs": [
    {
     "name": "stdout",
     "output_type": "stream",
     "text": [
      "{'x': 1}\n"
     ]
    }
   ],
   "source": [
    "# Функции locals и globals используются для вывода содержимого этих\n",
    "# областей видимости. \n",
    "\n",
    "def check_locals():\n",
    "    x = 1\n",
    "    return (locals())\n",
    "\n",
    "print(check_locals())"
   ]
  },
  {
   "cell_type": "code",
   "execution_count": 30,
   "id": "8e87521a-fb0f-448a-aa67-b3378771241b",
   "metadata": {},
   "outputs": [
    {
     "data": {
      "text/plain": [
       "5"
      ]
     },
     "execution_count": 30,
     "metadata": {},
     "output_type": "execute_result"
    }
   ],
   "source": [
    "# параметры по умолчанию\n",
    "\n",
    "def add_n(num, n=3):\n",
    "    \"\"\"default to\n",
    "    adding 3\"\"\"\n",
    "    return num + n\n",
    "\n",
    "add_n(2)"
   ]
  },
  {
   "cell_type": "markdown",
   "id": "06dc7052-db4d-4b76-a1c1-822390a88a63",
   "metadata": {},
   "source": [
    "Параметры по умолчанию должны объявляться после обычных параметров,\n",
    "в противном случае Python выдаст ошибку SyntaxError"
   ]
  },
  {
   "cell_type": "code",
   "execution_count": 42,
   "id": "e7f00c95-c73e-4999-a6b7-cff124378da2",
   "metadata": {},
   "outputs": [
    {
     "name": "stdout",
     "output_type": "stream",
     "text": [
      "[4]\n",
      "[4, 'hello']\n"
     ]
    }
   ],
   "source": [
    "# Из-за\n",
    "# особенностей работы Python параметры по умолчанию создаются только один\n",
    "# раз — во время определения функции, а не во время ее выполнения. \n",
    "\n",
    "def to_list(value, default=[]):\n",
    "    default.append(value)\n",
    "    return default\n",
    "\n",
    "print(to_list(4))\n",
    "\n",
    "print(to_list('hello'))\n"
   ]
  },
  {
   "cell_type": "code",
   "execution_count": 45,
   "id": "90159f59-1d6f-41ad-af0e-86854fe9b7ac",
   "metadata": {},
   "outputs": [
    {
     "name": "stdout",
     "output_type": "stream",
     "text": [
      "[4]\n",
      "['hello']\n"
     ]
    }
   ],
   "source": [
    "# Обходное решение заключается\n",
    "# в том, чтобы вынести создание значений по умолчанию из фазы определения\n",
    "# функции (которая выполняется всего один раз) в фазу выполнения функции\n",
    "# (чтобы новое значение создавалось при каждом выполнении функции).\n",
    "\n",
    "def to_list2(value, default=None):\n",
    "    default = default if default is not None else []\n",
    "    default.append(value)\n",
    "    return default\n",
    "\n",
    "\n",
    "print(to_list2(4))\n",
    "\n",
    "print(to_list2('hello'))"
   ]
  },
  {
   "cell_type": "code",
   "execution_count": 46,
   "id": "5c351eca-45d5-444b-9821-59d902f8b896",
   "metadata": {},
   "outputs": [],
   "source": [
    "########"
   ]
  },
  {
   "cell_type": "code",
   "execution_count": 50,
   "id": "5c64384a-0fa4-4e27-8662-b78d6ef01ec9",
   "metadata": {},
   "outputs": [
    {
     "name": "stdout",
     "output_type": "stream",
     "text": [
      "True\n",
      "False\n"
     ]
    }
   ],
   "source": [
    "def is_odd(n):\n",
    "    return n % 2 != 0\n",
    "\n",
    "print(is_odd(3))\n",
    "print(is_odd(4))"
   ]
  },
  {
   "cell_type": "code",
   "execution_count": 53,
   "id": "5c524e08-9064-4b31-8dfa-c3c7399c1076",
   "metadata": {},
   "outputs": [
    {
     "name": "stdout",
     "output_type": "stream",
     "text": [
      "False\n",
      "True\n"
     ]
    }
   ],
   "source": [
    "def is_prime(n):\n",
    "        if n <= 1:\n",
    "            return False\n",
    "        if n == 2:\n",
    "            return True\n",
    "        if n > 2 and n % 2 == 0:\n",
    "            return False\n",
    "        \n",
    "        max_div = int((n)**0.5)\n",
    "        for i in range(3, 1 + max_div, 2):\n",
    "            if n % i == 0:\n",
    "                return False\n",
    "        return True\n",
    "    \n",
    "print(is_prime(4))\n",
    "print(is_prime(5))"
   ]
  },
  {
   "cell_type": "code",
   "execution_count": 54,
   "id": "f5de8729-9e7e-4e73-bdd8-ae6666c5a1f3",
   "metadata": {},
   "outputs": [
    {
     "data": {
      "text/plain": [
       "2.23606797749979"
      ]
     },
     "execution_count": 54,
     "metadata": {},
     "output_type": "execute_result"
    }
   ],
   "source": [
    "5 ** 0.5"
   ]
  },
  {
   "cell_type": "code",
   "execution_count": 27,
   "id": "b4c54173-4c26-4ee2-a4cd-de04ad26f740",
   "metadata": {},
   "outputs": [
    {
     "name": "stdout",
     "output_type": "stream",
     "text": [
      "0 4\n",
      "\n",
      "3 4\n",
      "\n",
      "4 4\n",
      "\n",
      "4\n"
     ]
    }
   ],
   "source": [
    "def binary_search(list, item):\n",
    "    low = 0\n",
    "    high = len(list)-1\n",
    "    while low <= high :\n",
    "        print(low, high)\n",
    "        print()\n",
    "        mid = (low  + high) // 2\n",
    "        guess = list[mid]\n",
    "        if guess == item :\n",
    "            return mid\n",
    "        if guess > item:\n",
    "            high = mid - 1\n",
    "        else:\n",
    "            low = mid + 1\n",
    "    return None\n",
    "\n",
    "my_list = [1, 3, 5, 7, 9]\n",
    "\n",
    "# print(binary_search(my_list, 3))\n",
    "# print(binary_search(my_list, -1))\n",
    "print(binary_search(my_list, 9))"
   ]
  },
  {
   "cell_type": "code",
   "execution_count": 42,
   "id": "9ac6cdb6-32bb-42c0-bc68-bb62678328b9",
   "metadata": {
    "tags": []
   },
   "outputs": [
    {
     "name": "stdout",
     "output_type": "stream",
     "text": [
      "This_Is_Camel_Cased\n"
     ]
    }
   ],
   "source": [
    "import re\n",
    "\n",
    "def change_case(text, case):\n",
    "    return f\"{case}\".join(re.findall('[A-Z][^A-Z]*', text))\n",
    "\n",
    "print(change_case(\"ThisIsCamelCased\", \"_\"))"
   ]
  },
  {
   "cell_type": "markdown",
   "id": "ea4827da-a9ac-4428-864c-f30cef8a066a",
   "metadata": {},
   "source": [
    "References:\n",
    "\n",
    "- [Python | Ways to split strings on Uppercase characters](\n",
    "https://www.geeksforgeeks.org/python-ways-to-split-strings-on-uppercase-characters/)"
   ]
  }
 ],
 "metadata": {
  "kernelspec": {
   "display_name": "Python 3 (ipykernel)",
   "language": "python",
   "name": "python3"
  },
  "language_info": {
   "codemirror_mode": {
    "name": "ipython",
    "version": 3
   },
   "file_extension": ".py",
   "mimetype": "text/x-python",
   "name": "python",
   "nbconvert_exporter": "python",
   "pygments_lexer": "ipython3",
   "version": "3.8.11"
  }
 },
 "nbformat": 4,
 "nbformat_minor": 5
}
