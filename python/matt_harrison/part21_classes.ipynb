{
 "cells": [
  {
   "cell_type": "code",
   "execution_count": 29,
   "id": "fa72b000-c1ab-4bdd-b897-698b311a3226",
   "metadata": {},
   "outputs": [
    {
     "data": {
      "text/plain": [
       "type"
      ]
     },
     "execution_count": 29,
     "metadata": {},
     "output_type": "execute_result"
    }
   ],
   "source": [
    "# У каждого объекта имеется тип, которым\n",
    "# в действительности является класс объекта. В данном случае это класс str\n",
    "\n",
    "type(str)"
   ]
  },
  {
   "cell_type": "code",
   "execution_count": 32,
   "id": "55d19d7f-f973-4f74-bc62-98f43851a2c2",
   "metadata": {},
   "outputs": [
    {
     "data": {
      "text/plain": [
       "'Abc'"
      ]
     },
     "execution_count": 32,
     "metadata": {},
     "output_type": "execute_result"
    }
   ],
   "source": [
    "#  класс содержит разные методы\n",
    "\n",
    "s = \"abc\"\n",
    "s.capitalize()"
   ]
  },
  {
   "cell_type": "code",
   "execution_count": 13,
   "id": "a0e752c7-df04-402b-8115-c53e42962d1a",
   "metadata": {},
   "outputs": [
    {
     "data": {
      "text/plain": [
       "int"
      ]
     },
     "execution_count": 13,
     "metadata": {},
     "output_type": "execute_result"
    }
   ],
   "source": [
    "# Так как в Python нет ничего, кроме объектов, все они обладают атрибутом __class__:\n",
    "\n",
    "(123).__class__"
   ]
  },
  {
   "cell_type": "code",
   "execution_count": 14,
   "id": "3a77f54f-d2da-44e4-837a-1c9367ea9819",
   "metadata": {},
   "outputs": [
    {
     "data": {
      "text/plain": [
       "str"
      ]
     },
     "execution_count": 14,
     "metadata": {},
     "output_type": "execute_result"
    }
   ],
   "source": [
    "\"abc\".__class__"
   ]
  },
  {
   "cell_type": "code",
   "execution_count": 17,
   "id": "00fd7883-ccc6-4bc5-bd38-36a605e8328a",
   "metadata": {},
   "outputs": [
    {
     "data": {
      "text/plain": [
       "builtin_function_or_method"
      ]
     },
     "execution_count": 17,
     "metadata": {},
     "output_type": "execute_result"
    }
   ],
   "source": [
    "print.__class__"
   ]
  },
  {
   "cell_type": "code",
   "execution_count": 99,
   "id": "5e8e1500-1a1b-4603-8dc0-c83ab415888f",
   "metadata": {},
   "outputs": [
    {
     "name": "stdout",
     "output_type": "stream",
     "text": [
      "<class 'type'>\n"
     ]
    }
   ],
   "source": [
    "class Chair:\n",
    "    count = 0\n",
    "    max_occupants = 4\n",
    "    \n",
    "    def load(self, integer):\n",
    "        self.count += integer\n",
    "n = Chair()\n",
    "\n",
    "print(type(Chair))"
   ]
  },
  {
   "cell_type": "code",
   "execution_count": 100,
   "id": "8d06ea02-e296-48a7-b72a-f4f5964ead5d",
   "metadata": {},
   "outputs": [
    {
     "data": {
      "text/plain": [
       "4"
      ]
     },
     "execution_count": 100,
     "metadata": {},
     "output_type": "execute_result"
    }
   ],
   "source": [
    "# Точка в Python обозначает поиск\n",
    "\n",
    "# атрибута (если только она не следует за числовым литералом). Когда вы\n",
    "\n",
    "# видите, что за экземпляром следует точка, помните, что Python будет\n",
    "\n",
    "# искать то, что идет после точки.\n",
    "\n",
    "n.load(4)\n",
    "n.count"
   ]
  },
  {
   "cell_type": "markdown",
   "id": "61b753fb-83c3-4358-a003-3f073e45aece",
   "metadata": {},
   "source": [
    "Когда вы используете вызов вида\n",
    "```python\n",
    " chair.load(3)\n",
    "```\n",
    "во внутренней реализации используется вызов следующего вида:\n",
    "\n",
    "```python\n",
    "Chair.load(chair, 3)\n",
    "```"
   ]
  },
  {
   "cell_type": "code",
   "execution_count": 102,
   "id": "7b78bac8-c11a-4e2a-9625-3bf8a03b2525",
   "metadata": {},
   "outputs": [
    {
     "data": {
      "text/plain": [
       "['__class__',\n",
       " '__delattr__',\n",
       " '__dict__',\n",
       " '__dir__',\n",
       " '__doc__',\n",
       " '__eq__',\n",
       " '__format__',\n",
       " '__ge__',\n",
       " '__getattribute__',\n",
       " '__gt__',\n",
       " '__hash__',\n",
       " '__init__',\n",
       " '__init_subclass__',\n",
       " '__le__',\n",
       " '__lt__',\n",
       " '__module__',\n",
       " '__ne__',\n",
       " '__new__',\n",
       " '__reduce__',\n",
       " '__reduce_ex__',\n",
       " '__repr__',\n",
       " '__setattr__',\n",
       " '__sizeof__',\n",
       " '__str__',\n",
       " '__subclasshook__',\n",
       " '__weakref__',\n",
       " 'count',\n",
       " 'load',\n",
       " 'max_occupants']"
      ]
     },
     "execution_count": 102,
     "metadata": {},
     "output_type": "execute_result"
    }
   ],
   "source": [
    "# узнать атрибуты экземпляра\n",
    "dir(n)"
   ]
  },
  {
   "cell_type": "code",
   "execution_count": 103,
   "id": "54d01a9b-72e0-4bfd-8223-46b0a67a1930",
   "metadata": {},
   "outputs": [
    {
     "data": {
      "text/plain": [
       "{'count': 4}"
      ]
     },
     "execution_count": 103,
     "metadata": {},
     "output_type": "execute_result"
    }
   ],
   "source": [
    "# Фактическое состояние экземпляра хранится в атрибуте __dict__\n",
    "\n",
    "n.__dict__"
   ]
  },
  {
   "cell_type": "code",
   "execution_count": 104,
   "id": "bca0334f-3d01-4db4-94c3-0ccae0eda8c8",
   "metadata": {},
   "outputs": [
    {
     "data": {
      "text/plain": [
       "__main__.Chair"
      ]
     },
     "execution_count": 104,
     "metadata": {},
     "output_type": "execute_result"
    }
   ],
   "source": [
    "# В атрибуте __class__ хранится класс:\n",
    "\n",
    "n.__class__"
   ]
  },
  {
   "cell_type": "code",
   "execution_count": 107,
   "id": "2a851014-0df2-4aaa-87fe-23aceed5bc2d",
   "metadata": {},
   "outputs": [],
   "source": [
    "# Чтобы пользователь понимал, какие методы являются элементами внутренней реализации и к ним не стоит обрщаться без понимания,\n",
    "# таки методы начинаюются с нижнего подчеркивания\n",
    "\n",
    "# def load(self, number):\n",
    "# ... new_val = self._check(self.count + number)\n",
    "# ... self.count = new_val\n",
    "# ...\n",
    "# ... def unload(self, number):\n",
    "# ... new_val = self._check(self.count - number)\n",
    "# ... self.count = new_val\n",
    "# ...\n",
    "# ... def _check(self, number):\n",
    "# ... if number < 0 or number > self.max_occupants:\n",
    "# ... raise ValueError('Invalid count:{}'.format(\n",
    "# ... number))\n",
    "# ... return number\n",
    "\n",
    "# Метод ._check считается приватным — к нему должны обращаться только\n",
    "# экземпляры. Приватные методы вызываются методами .load и .unload\n",
    "# класса.\n",
    "\n",
    "# При желании вы сможете вызвать их за пределами класса. Тем не\n",
    "# менее делать этого не следует — все компоненты с символом подчеркивания считаются подробностями реализации, которые могут отсутствовать\n",
    "# в будущих версиях класса."
   ]
  },
  {
   "cell_type": "code",
   "execution_count": 109,
   "id": "554377c1-6323-4c4a-94e1-0e67b12aed9e",
   "metadata": {},
   "outputs": [],
   "source": [
    "class CorrectChair:\n",
    "    ''' A Chair on a chairlift '''\n",
    "    \n",
    "    max_occupants = 4\n",
    "\n",
    "\n",
    "    def __init__(self, id):\n",
    "        self.id = id\n",
    "        self.count = 0\n",
    "\n",
    "    def load(self, number):\n",
    "        new_val = self._check(self.count + number)\n",
    "        self.count = new_val\n",
    "\n",
    "    def unload(self, number):\n",
    "        new_val = self._check(self.count - number)\n",
    "        self.count = new_val\n",
    "        \n",
    "    def _check(self, number):\n",
    "        if number < 0 or number > self.max_occupants:\n",
    "            raise ValueError('Invalid count:{}'.format(number))\n",
    "        return number"
   ]
  },
  {
   "cell_type": "code",
   "execution_count": 115,
   "id": "b056bf3b-c4b2-441b-9c51-3431211ab22b",
   "metadata": {},
   "outputs": [
    {
     "data": {
      "text/plain": [
       "1"
      ]
     },
     "execution_count": 115,
     "metadata": {},
     "output_type": "execute_result"
    }
   ],
   "source": [
    "test = CorrectChair(123)\n",
    "\n",
    "test.load(1)\n",
    "\n",
    "test.count"
   ]
  },
  {
   "cell_type": "code",
   "execution_count": 116,
   "id": "3a935b58-a728-4a3f-9345-6168caa14bca",
   "metadata": {},
   "outputs": [
    {
     "ename": "ValueError",
     "evalue": "Invalid count:46",
     "output_type": "error",
     "traceback": [
      "\u001b[0;31m---------------------------------------------------------------------------\u001b[0m",
      "\u001b[0;31mValueError\u001b[0m                                Traceback (most recent call last)",
      "\u001b[0;32m/tmp/ipykernel_79580/2678727668.py\u001b[0m in \u001b[0;36m<module>\u001b[0;34m\u001b[0m\n\u001b[0;32m----> 1\u001b[0;31m \u001b[0mtest\u001b[0m\u001b[0;34m.\u001b[0m\u001b[0mload\u001b[0m\u001b[0;34m(\u001b[0m\u001b[0;36m45\u001b[0m\u001b[0;34m)\u001b[0m\u001b[0;34m\u001b[0m\u001b[0;34m\u001b[0m\u001b[0m\n\u001b[0m",
      "\u001b[0;32m/tmp/ipykernel_79580/1470257896.py\u001b[0m in \u001b[0;36mload\u001b[0;34m(self, number)\u001b[0m\n\u001b[1;32m     10\u001b[0m \u001b[0;34m\u001b[0m\u001b[0m\n\u001b[1;32m     11\u001b[0m     \u001b[0;32mdef\u001b[0m \u001b[0mload\u001b[0m\u001b[0;34m(\u001b[0m\u001b[0mself\u001b[0m\u001b[0;34m,\u001b[0m \u001b[0mnumber\u001b[0m\u001b[0;34m)\u001b[0m\u001b[0;34m:\u001b[0m\u001b[0;34m\u001b[0m\u001b[0;34m\u001b[0m\u001b[0m\n\u001b[0;32m---> 12\u001b[0;31m         \u001b[0mnew_val\u001b[0m \u001b[0;34m=\u001b[0m \u001b[0mself\u001b[0m\u001b[0;34m.\u001b[0m\u001b[0m_check\u001b[0m\u001b[0;34m(\u001b[0m\u001b[0mself\u001b[0m\u001b[0;34m.\u001b[0m\u001b[0mcount\u001b[0m \u001b[0;34m+\u001b[0m \u001b[0mnumber\u001b[0m\u001b[0;34m)\u001b[0m\u001b[0;34m\u001b[0m\u001b[0;34m\u001b[0m\u001b[0m\n\u001b[0m\u001b[1;32m     13\u001b[0m         \u001b[0mself\u001b[0m\u001b[0;34m.\u001b[0m\u001b[0mcount\u001b[0m \u001b[0;34m=\u001b[0m \u001b[0mnew_val\u001b[0m\u001b[0;34m\u001b[0m\u001b[0;34m\u001b[0m\u001b[0m\n\u001b[1;32m     14\u001b[0m \u001b[0;34m\u001b[0m\u001b[0m\n",
      "\u001b[0;32m/tmp/ipykernel_79580/1470257896.py\u001b[0m in \u001b[0;36m_check\u001b[0;34m(self, number)\u001b[0m\n\u001b[1;32m     19\u001b[0m     \u001b[0;32mdef\u001b[0m \u001b[0m_check\u001b[0m\u001b[0;34m(\u001b[0m\u001b[0mself\u001b[0m\u001b[0;34m,\u001b[0m \u001b[0mnumber\u001b[0m\u001b[0;34m)\u001b[0m\u001b[0;34m:\u001b[0m\u001b[0;34m\u001b[0m\u001b[0;34m\u001b[0m\u001b[0m\n\u001b[1;32m     20\u001b[0m         \u001b[0;32mif\u001b[0m \u001b[0mnumber\u001b[0m \u001b[0;34m<\u001b[0m \u001b[0;36m0\u001b[0m \u001b[0;32mor\u001b[0m \u001b[0mnumber\u001b[0m \u001b[0;34m>\u001b[0m \u001b[0mself\u001b[0m\u001b[0;34m.\u001b[0m\u001b[0mmax_occupants\u001b[0m\u001b[0;34m:\u001b[0m\u001b[0;34m\u001b[0m\u001b[0;34m\u001b[0m\u001b[0m\n\u001b[0;32m---> 21\u001b[0;31m             \u001b[0;32mraise\u001b[0m \u001b[0mValueError\u001b[0m\u001b[0;34m(\u001b[0m\u001b[0;34m'Invalid count:{}'\u001b[0m\u001b[0;34m.\u001b[0m\u001b[0mformat\u001b[0m\u001b[0;34m(\u001b[0m\u001b[0mnumber\u001b[0m\u001b[0;34m)\u001b[0m\u001b[0;34m)\u001b[0m\u001b[0;34m\u001b[0m\u001b[0;34m\u001b[0m\u001b[0m\n\u001b[0m\u001b[1;32m     22\u001b[0m         \u001b[0;32mreturn\u001b[0m \u001b[0mnumber\u001b[0m\u001b[0;34m\u001b[0m\u001b[0;34m\u001b[0m\u001b[0m\n",
      "\u001b[0;31mValueError\u001b[0m: Invalid count:46"
     ]
    }
   ],
   "source": [
    "test.load(45)"
   ]
  },
  {
   "cell_type": "markdown",
   "id": "fe6c5f12-6344-4483-bb31-6840cc26111d",
   "metadata": {},
   "source": [
    "#### Простая программа, моделирующая поток посетителей"
   ]
  },
  {
   "cell_type": "code",
   "execution_count": 138,
   "id": "584ba214-9fc7-46dc-9df5-4ae0f867fba3",
   "metadata": {
    "tags": []
   },
   "outputs": [
    {
     "name": "stdout",
     "output_type": "stream",
     "text": [
      "Loading Chair 1 Count:2 Avg:2.0 Total:0\n",
      "Loading Chair 2 Count:0 Avg:1.0 Total:0\n",
      "Loading Chair 3 Count:3 Avg:1.7 Total:0\n",
      "Loading Chair 4 Count:0 Avg:1.2 Total:0\n",
      "Loading Chair 5 Count:0 Avg:1.0 Total:0\n",
      "Loading Chair 6 Count:1 Avg:1.0 Total:0\n",
      "Loading Chair 7 Count:0 Avg:0.86 Total:0\n",
      "Loading Chair 8 Count:1 Avg:0.88 Total:0\n",
      "Loading Chair 9 Count:2 Avg:1.0 Total:0\n",
      "Loading Chair 10 Count:2 Avg:1.1 Total:0\n",
      "Loading Chair 11 Count:1 Avg:1.1 Total:0\n",
      "Loading Chair 12 Count:4 Avg:1.3 Total:0\n",
      "Loading Chair 13 Count:4 Avg:1.5 Total:0\n"
     ]
    },
    {
     "ename": "KeyboardInterrupt",
     "evalue": "",
     "output_type": "error",
     "traceback": [
      "\u001b[0;31m---------------------------------------------------------------------------\u001b[0m",
      "\u001b[0;31mKeyboardInterrupt\u001b[0m                         Traceback (most recent call last)",
      "\u001b[0;32m/tmp/ipykernel_79580/3544000381.py\u001b[0m in \u001b[0;36m<module>\u001b[0;34m\u001b[0m\n\u001b[1;32m     55\u001b[0m         \u001b[0mchairs\u001b[0m\u001b[0;34m.\u001b[0m\u001b[0mappend\u001b[0m\u001b[0;34m(\u001b[0m\u001b[0munloading\u001b[0m\u001b[0;34m)\u001b[0m\u001b[0;34m\u001b[0m\u001b[0;34m\u001b[0m\u001b[0m\n\u001b[1;32m     56\u001b[0m     \u001b[0mprint\u001b[0m\u001b[0;34m(\u001b[0m\u001b[0;34m'Loading Chair {} Count:{} Avg:{:.2} Total:{}'\u001b[0m\u001b[0;34m.\u001b[0m\u001b[0mformat\u001b[0m\u001b[0;34m(\u001b[0m\u001b[0mloading\u001b[0m\u001b[0;34m.\u001b[0m\u001b[0mid\u001b[0m\u001b[0;34m,\u001b[0m \u001b[0mloading\u001b[0m\u001b[0;34m.\u001b[0m\u001b[0mcount\u001b[0m\u001b[0;34m,\u001b[0m \u001b[0mavg\u001b[0m\u001b[0;34m(\u001b[0m\u001b[0min_use\u001b[0m\u001b[0;34m)\u001b[0m\u001b[0;34m,\u001b[0m \u001b[0mtransported\u001b[0m\u001b[0;34m)\u001b[0m\u001b[0;34m)\u001b[0m\u001b[0;34m\u001b[0m\u001b[0;34m\u001b[0m\u001b[0m\n\u001b[0;32m---> 57\u001b[0;31m     \u001b[0mtime\u001b[0m\u001b[0;34m.\u001b[0m\u001b[0msleep\u001b[0m\u001b[0;34m(\u001b[0m\u001b[0;36m.25\u001b[0m\u001b[0;34m)\u001b[0m\u001b[0;34m\u001b[0m\u001b[0;34m\u001b[0m\u001b[0m\n\u001b[0m",
      "\u001b[0;31mKeyboardInterrupt\u001b[0m: "
     ]
    }
   ],
   "source": [
    "# Воспользуемся классом для моделирования потока лыжников на горнолыжном курорте. Мы сделаем ряд базовых допущений — например, что на\n",
    "# каждом кресле могут с равной вероятностью ехать от 0 до max_occupants\n",
    "# лыжников. Класс включает подъемник, загружает его и работает в бесконечном цикле. Четыре раза в секунду выводится текущая статистика:\n",
    "\n",
    "\n",
    "import random\n",
    "import time\n",
    "\n",
    "class CorrectChair:\n",
    "    ''' A Chair on a chairlift '''\n",
    "    max_occupants = 4\n",
    "        \n",
    "\n",
    "    def __init__(self, id):\n",
    "        self.id = id\n",
    "        self.count = 0\n",
    "            \n",
    "    def load(self, number):\n",
    "        new_val = self._check(self.count + number)\n",
    "        self.count = new_val\n",
    "\n",
    "    def unload(self, number):\n",
    "        new_val = self._check(self.count - number)\n",
    "        self.count = new_val\n",
    "\n",
    "    def _check(self, number):\n",
    "        if number < 0 or number > self.max_occupants:\n",
    "            raise ValueError('Invalid count:{}'.format(number))\n",
    "        return number\n",
    "\n",
    "NUM_CHAIRS = 100\n",
    "chairs = []\n",
    "for num in range(1, NUM_CHAIRS + 1):\n",
    "    chairs.append(CorrectChair(num))\n",
    "\n",
    "def avg(chairs):\n",
    "    total = 0\n",
    "    for c in chairs:\n",
    "        total += c.count\n",
    "    return total/len(chairs)\n",
    "\n",
    "in_use = []\n",
    "transported = 0\n",
    "while True:\n",
    "    # загрузка\n",
    "    loading = chairs.pop(0)\n",
    "    in_use.append(loading)\n",
    "    in_use[-1].load(random.randint(0, CorrectChair.max_occupants))\n",
    "\n",
    "    # выгрузка\n",
    "    if len(in_use) > NUM_CHAIRS / 2:\n",
    "        unloading = in_use.pop(0)\n",
    "        transported += unloading.count\n",
    "        unloading.unload(unloading.count)\n",
    "        chairs.append(unloading)\n",
    "    print('Loading Chair {} Count:{} Avg:{:.2} Total:{}'.format(loading.id, loading.count, avg(in_use), transported))\n",
    "    time.sleep(.25)"
   ]
  }
 ],
 "metadata": {
  "kernelspec": {
   "display_name": "Python 3 (ipykernel)",
   "language": "python",
   "name": "python3"
  },
  "language_info": {
   "codemirror_mode": {
    "name": "ipython",
    "version": 3
   },
   "file_extension": ".py",
   "mimetype": "text/x-python",
   "name": "python",
   "nbconvert_exporter": "python",
   "pygments_lexer": "ipython3",
   "version": "3.8.11"
  }
 },
 "nbformat": 4,
 "nbformat_minor": 5
}
