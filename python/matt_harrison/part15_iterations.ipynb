{
 "cells": [
  {
   "cell_type": "code",
   "execution_count": 11,
   "id": "099a8976-a53c-434b-8b58-1de61354b3a4",
   "metadata": {},
   "outputs": [
    {
     "name": "stdout",
     "output_type": "stream",
     "text": [
      "c\n",
      "a\n",
      "t\n"
     ]
    }
   ],
   "source": [
    "for letter in ['c', 'a', 't']:\n",
    "    print(letter)"
   ]
  },
  {
   "cell_type": "code",
   "execution_count": 12,
   "id": "584b16f4-e27e-4ff5-9aba-7768fad231d3",
   "metadata": {},
   "outputs": [
    {
     "data": {
      "text/plain": [
       "'t'"
      ]
     },
     "execution_count": 12,
     "metadata": {},
     "output_type": "execute_result"
    }
   ],
   "source": [
    "# python не очищает переменную после завершения цикла\n",
    "letter"
   ]
  },
  {
   "cell_type": "code",
   "execution_count": 25,
   "id": "01892d6b-2162-4c2f-a47a-62ebd32ef587",
   "metadata": {},
   "outputs": [
    {
     "name": "stdout",
     "output_type": "stream",
     "text": [
      "1 cat\n",
      "2 dog\n",
      "3 bird\n"
     ]
    }
   ],
   "source": [
    "# Функция enumerate возвращает кортеж (индекс,\n",
    "# элемент) для каждого элемента в последовательности:\n",
    "\n",
    "animals = (\"cat\", \"dog\", \"bird\")\n",
    "for index, value in enumerate(animals, 1):\n",
    "    print(index, value)"
   ]
  },
  {
   "cell_type": "code",
   "execution_count": 33,
   "id": "0b127b25-1089-4b9b-88b3-c112324009d2",
   "metadata": {},
   "outputs": [
    {
     "name": "stdout",
     "output_type": "stream",
     "text": [
      "['George', 'Ringo']\n"
     ]
    }
   ],
   "source": [
    "# хороший способ фильтрации списка\n",
    "\n",
    "names = ['John', 'Paul', 'George', 'Ringo']\n",
    "new_names = []\n",
    "for name in names:\n",
    "    if name not in {'John', 'Paul'}:\n",
    "        new_names.append(name)\n",
    "        \n",
    "print(new_names)"
   ]
  },
  {
   "cell_type": "code",
   "execution_count": 37,
   "id": "78e6f591-add9-480e-ae55-b114e0a2c634",
   "metadata": {},
   "outputs": [
    {
     "data": {
      "text/plain": [
       "['George', 'Ringo', 'Andrey']"
      ]
     },
     "execution_count": 37,
     "metadata": {},
     "output_type": "execute_result"
    }
   ],
   "source": [
    "names = ['John', 'Paul', 'George', 'Ringo', 'Andrey']\n",
    "[name for name in names if name  not in {'John', 'Paul'}]"
   ]
  },
  {
   "cell_type": "code",
   "execution_count": 36,
   "id": "d1843e66-b223-4271-b4a2-ef35ac13b16b",
   "metadata": {},
   "outputs": [
    {
     "name": "stdout",
     "output_type": "stream",
     "text": [
      "['George', 'Ringo']\n"
     ]
    }
   ],
   "source": [
    "# Другое решение — перебор по копии списка. \n",
    "names = ['John', 'Paul', 'George', 'Ringo']\n",
    "\n",
    "for name in names[:]: # copy of names\n",
    "    if name in ['John', 'Paul']:\n",
    "        names.remove(name)\n",
    "print(names)"
   ]
  },
  {
   "cell_type": "code",
   "execution_count": 51,
   "id": "e3522676-b2db-49ed-ba3a-1c48270441b6",
   "metadata": {},
   "outputs": [
    {
     "name": "stdout",
     "output_type": "stream",
     "text": [
      "False\n"
     ]
    }
   ],
   "source": [
    "# проверить, являются ли все числа полоительными\n",
    "\n",
    "all_positive = True\n",
    "for num in {1, 2, 3, 4, -4}:\n",
    "    if num < 0:\n",
    "        all_positive = False\n",
    "        break\n",
    "\n",
    "   \n",
    "print(all_positive)"
   ]
  },
  {
   "cell_type": "code",
   "execution_count": 52,
   "id": "4028b2ee-57af-4958-82e1-c9659cc93cc1",
   "metadata": {},
   "outputs": [
    {
     "name": "stdout",
     "output_type": "stream",
     "text": [
      "True\n"
     ]
    }
   ],
   "source": [
    "positive = False\n",
    "for num in {1, 2, 3, 4}:\n",
    "    if num < 0:\n",
    "        break\n",
    "    else:\n",
    "        positive = True\n",
    "    \n",
    "print(positive)"
   ]
  },
  {
   "cell_type": "code",
   "execution_count": 53,
   "id": "1c30a151-479d-40da-b0bb-d9c61c36feef",
   "metadata": {},
   "outputs": [],
   "source": [
    "# Если вам понадобится получить при\n",
    "# переборе как индекс, так и значение, используйте enumerate."
   ]
  },
  {
   "cell_type": "code",
   "execution_count": 72,
   "id": "e3de1246-de30-4c32-97b8-cc311ea7a445",
   "metadata": {},
   "outputs": [
    {
     "name": "stdout",
     "output_type": "stream",
     "text": [
      "('John', 'A', None) Age is not stated\n",
      "('Paul', 'B', 37) Old\n",
      "('George', 'C', 20) Old\n",
      "('Ringo', 'D', 15) Young\n"
     ]
    }
   ],
   "source": [
    "# 3. Создайте список кортежей из имени, фамилии и возраста ваших\n",
    "# друзей и коллег. Если возраст неизвестен, занесите значение None.\n",
    "# Вычислите средний возраст, пропустив все значения None. Выведите каждое имя, за которым следует строка Old (возраст выше среднего) или Young (возраст ниже среднего).\n",
    "\n",
    "friends = [('John', 'A', None), ('Paul', 'B', 37),  ('George', 'C', 20), ('Ringo', 'D', 15)]\n",
    "\n",
    "avg_age = sum(friend[2] for friend in friends if friend[2])/len(friends)\n",
    "\n",
    "for friend in friends:\n",
    "    age = friend[2]\n",
    "    if age and age > avg_age:\n",
    "        print(friend, \"Old\")\n",
    "    elif not age:\n",
    "        print(friend, \"Age is not stated\")\n",
    "    else:\n",
    "        print(friend, \"Young\")\n",
    "\n"
   ]
  }
 ],
 "metadata": {
  "kernelspec": {
   "display_name": "Python 3 (ipykernel)",
   "language": "python",
   "name": "python3"
  },
  "language_info": {
   "codemirror_mode": {
    "name": "ipython",
    "version": 3
   },
   "file_extension": ".py",
   "mimetype": "text/x-python",
   "name": "python",
   "nbconvert_exporter": "python",
   "pygments_lexer": "ipython3",
   "version": "3.8.11"
  }
 },
 "nbformat": 4,
 "nbformat_minor": 5
}
