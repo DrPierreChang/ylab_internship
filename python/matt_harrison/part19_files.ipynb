{
 "cells": [
  {
   "cell_type": "markdown",
   "id": "245d1f7c-89e2-4f6a-bada-dea3ab35f8cd",
   "metadata": {},
   "source": [
    "<h1 align=\"center\">Files</h1>"
   ]
  },
  {
   "cell_type": "code",
   "execution_count": 41,
   "id": "76d612b0-3e98-44df-80bc-90f9002421d7",
   "metadata": {},
   "outputs": [],
   "source": [
    "a_file = open(\"hello\", \"r\")"
   ]
  },
  {
   "cell_type": "code",
   "execution_count": 37,
   "id": "d47d3008-555d-43f7-af04-0ab83099c393",
   "metadata": {},
   "outputs": [
    {
     "name": "stdout",
     "output_type": "stream",
     "text": [
      "#!/usr/bin/env python\n",
      "\n",
      "\n",
      "\n",
      "print(\"Hello from IDLE!\")\n",
      "\n"
     ]
    }
   ],
   "source": [
    "\n",
    "for line in a_file:\n",
    "    print(line)"
   ]
  },
  {
   "cell_type": "code",
   "execution_count": 42,
   "id": "5c60e618-ca5a-4b7d-b27c-7844fe6af0b4",
   "metadata": {},
   "outputs": [
    {
     "data": {
      "text/plain": [
       "'#!/usr/bin/env python\\n'"
      ]
     },
     "execution_count": 42,
     "metadata": {},
     "output_type": "execute_result"
    }
   ],
   "source": [
    "# последовательное чтение строк\n",
    "a_file.readline()"
   ]
  },
  {
   "cell_type": "code",
   "execution_count": 43,
   "id": "ac3fa9e8-2eaf-433b-a1a4-e5d2492d3ad1",
   "metadata": {},
   "outputs": [],
   "source": [
    "# Функция open возвращает экземпляр объекта файла. У этого объекта есть\n",
    "# методы для чтения и записи данных."
   ]
  },
  {
   "cell_type": "markdown",
   "id": "59c35115-5884-4e4d-ba2f-9b7efac9d916",
   "metadata": {},
   "source": [
    "Стандартные имена переменных для объектов файлов\n",
    "\n",
    "- fin (file input)\n",
    "\n",
    "- fout (file output)\n",
    "\n",
    "- fp (file pointer — используется для ввода или вывода)\n",
    "\n",
    "или такие имена, как passwd_file.\n",
    "\n",
    "Такие имена, как fin и fout, удобны\n",
    "тем, что они показывают, что файл используется для чтения или записи\n",
    "соответственно."
   ]
  },
  {
   "cell_type": "code",
   "execution_count": 44,
   "id": "3a41342e-61fe-4b50-b17d-9aff3018ef3f",
   "metadata": {},
   "outputs": [],
   "source": [
    "# .readlines для получения списка, содержащего\n",
    "# все строки."
   ]
  },
  {
   "cell_type": "code",
   "execution_count": 47,
   "id": "3e399172-7c00-4747-907d-25c22ce057ef",
   "metadata": {},
   "outputs": [
    {
     "name": "stdout",
     "output_type": "stream",
     "text": [
      "#!/usr/bin/env python\n",
      "\n",
      "print(\"Hello from IDLE!\")\n",
      "\n"
     ]
    }
   ],
   "source": [
    "# Чтобы прочитать все содержимое файла в одну строку, используйте\n",
    "# метод .read:\n",
    "\n",
    "a_file = open(\"hello\", \"r\")\n",
    "\n",
    "print(a_file.read())"
   ]
  },
  {
   "cell_type": "code",
   "execution_count": 51,
   "id": "77f6fa12-8848-477a-ac50-eaa935f24f47",
   "metadata": {
    "tags": []
   },
   "outputs": [],
   "source": [
    "# Всегда закрывайте файлы после завершения работы с ними; для этого\n",
    "# следует вызвать метод .close:\n",
    "a_file.close()"
   ]
  },
  {
   "cell_type": "code",
   "execution_count": 52,
   "id": "a31a8db1-ab01-45a4-a06a-e24ed2c10563",
   "metadata": {},
   "outputs": [],
   "source": [
    "# Чтобы прочитать данные из двоичного файла, передайте в themode строку 'rb' (Read Binary). "
   ]
  },
  {
   "cell_type": "code",
   "execution_count": 55,
   "id": "7247f6a9-edad-4ab1-b576-9905ec5b35c2",
   "metadata": {},
   "outputs": [
    {
     "name": "stdout",
     "output_type": "stream",
     "text": [
      "#!/usr/bin/env python\n",
      "\n",
      "\n",
      "\n",
      "print(\"Hello from IDLE!\")\n",
      "\n"
     ]
    }
   ],
   "source": [
    "# При работе с текстовым файлом можно провести перебор по методу .readlines для того,\n",
    "# чтобы получать строки одну за одной:\n",
    "fin = open('hello')\n",
    "for line in fin.readlines():\n",
    "    print(line)\n",
    "    \n",
    "fin.close()"
   ]
  },
  {
   "cell_type": "code",
   "execution_count": 54,
   "id": "316a1e66-85a9-4e94-abdd-dc66ae4d6723",
   "metadata": {},
   "outputs": [],
   "source": [
    "# Но поскольку .readlines возвращает список, Python придется прочитать\n",
    "# весь файл для создания списка, а это может создать проблемы."
   ]
  },
  {
   "cell_type": "code",
   "execution_count": 57,
   "id": "3331c6ae-db7d-4138-bef7-073877906f1d",
   "metadata": {},
   "outputs": [
    {
     "name": "stdout",
     "output_type": "stream",
     "text": [
      "#!/usr/bin/env python\n",
      "\n",
      "\n",
      "\n",
      "print(\"Hello from IDLE!\")\n",
      "\n"
     ]
    }
   ],
   "source": [
    "# При прямом переборе по файлу\n",
    "# Python не выполняет работу заранее и читает строки текста только по\n",
    "# мере надобности:\n",
    "fin = open('hello')\n",
    "for line in fin:\n",
    "    print(line)\n",
    "    \n",
    "fin.close()"
   ]
  },
  {
   "cell_type": "code",
   "execution_count": 58,
   "id": "07018044-ba74-451c-afe8-9658a06f656c",
   "metadata": {},
   "outputs": [],
   "source": [
    "# Метод .readlines следует применять только в том случае, если вы уверены, что файл поместится в памяти, а вам потребуется обращаться\n",
    "# к строкам неоднократно. В противном случае прямой перебор по файлу\n",
    "# является предпочтительным."
   ]
  },
  {
   "cell_type": "code",
   "execution_count": 68,
   "id": "e6e1e1d6-cff0-45b0-a422-d80c49993502",
   "metadata": {},
   "outputs": [],
   "source": [
    "# Если выбрать режим 'w', файл будет открыт для записи\n",
    "# текстовых данных:\n",
    "\n",
    "# существующий файл перезаписывается, а несуществующий создается\n",
    "\n",
    "fout = open('fout', 'w')\n",
    "fout.write('George')\n",
    "fout.close()"
   ]
  },
  {
   "cell_type": "code",
   "execution_count": 64,
   "id": "d4fa6b6f-a9dd-43e7-a4f9-c81c686c6723",
   "metadata": {},
   "outputs": [],
   "source": [
    "# Для размещения данных в файле используются два метода — .write\n",
    "# и .writelines. Метод .write получает строку в параметре и записывает\n",
    "# данные в файл. Метод .writelines получает последовательность со строковыми данными и записывает ее в файл."
   ]
  },
  {
   "cell_type": "code",
   "execution_count": 65,
   "id": "0b8bd9b2-15a0-4296-989a-80bbdf248fd2",
   "metadata": {},
   "outputs": [],
   "source": [
    "# Чтобы включить в файл символы новой строки, вы должны явно передать их методам файла. На платформах UNIX строки, передаваемые\n",
    "# .write, должны завершаться комбинацией \\n. Аналогичным образом все\n",
    "# строки последовательности, передаваемой .writelines, тоже должны\n",
    "# завершаться \\n. В системе Windows признаком новой строки служит комбинация \\r\\n."
   ]
  },
  {
   "cell_type": "code",
   "execution_count": 66,
   "id": "688fd4c8-702e-4a40-a959-a3914f95b1de",
   "metadata": {},
   "outputs": [
    {
     "data": {
      "text/plain": [
       "'\\n'"
      ]
     },
     "execution_count": 66,
     "metadata": {},
     "output_type": "execute_result"
    }
   ],
   "source": [
    "# Чтобы вы могли писать кроссплатформенный код, строка linesep из модуля\n",
    "# os определяет правильную комбинацию новой строки для платформы:\n",
    "\n",
    "import os\n",
    "os.linesep # Платформа UNIX"
   ]
  },
  {
   "cell_type": "code",
   "execution_count": 71,
   "id": "f9a0cefe-b210-4229-9384-c228d82042b4",
   "metadata": {},
   "outputs": [],
   "source": [
    "# Логика выхода файлового менеджера контекста приказывает\n",
    "# Python автоматически закрыть файл при завершении блока.\n",
    "\n",
    "with open('fout', 'w') as fout:\n",
    "    fout.write('Ringo\\n')\n",
    "    \n",
    "    \n",
    "# Этот фрагмент эквивалентен следующему:\n",
    "# >>> fout = open('fout', 'w')\n",
    "# >>> fout.write('Ringo\\n')\n",
    "# >>> fout.close()"
   ]
  },
  {
   "cell_type": "code",
   "execution_count": 73,
   "id": "2c0369ba-7e35-4835-9773-59ab876f1828",
   "metadata": {},
   "outputs": [
    {
     "name": "stdout",
     "output_type": "stream",
     "text": [
      "['0-#!/usr/bin/env python\\n', '1-\\n', '2-print(\"Hello from IDLE!\")\\n']\n"
     ]
    }
   ],
   "source": [
    "# код, который получает имя файла\n",
    "# и создает последовательность строк из файла, причем перед каждой\n",
    "# строкой вставляется ее номер.\n",
    "\n",
    "def add_numbers(filename):\n",
    "    with open(filename) as fin:\n",
    "        return add_nums_to_seq(fin)\n",
    "    \n",
    "def add_nums_to_seq(seq):\n",
    "    results = []\n",
    "    for num, line in enumerate(seq):\n",
    "        results.append('{0}-{1}'.format(num, line))\n",
    "    return results\n",
    "\n",
    "print(add_numbers('hello'))"
   ]
  },
  {
   "cell_type": "code",
   "execution_count": 74,
   "id": "a9c29821-92ff-4f8e-8315-98c0b0e16093",
   "metadata": {},
   "outputs": [
    {
     "data": {
      "text/plain": [
       "['0-a', '1-b', '2-c']"
      ]
     },
     "execution_count": 74,
     "metadata": {},
     "output_type": "execute_result"
    }
   ],
   "source": [
    "add_nums_to_seq([\"a\", \"b\", \"c\"])"
   ]
  },
  {
   "cell_type": "code",
   "execution_count": 75,
   "id": "89246a6d-a085-4b36-a04a-4752f93b1e9b",
   "metadata": {},
   "outputs": [],
   "source": [
    "# В любой момент, когда вам приходится использовать имя файла при программировании, спросите себя,\n",
    "# можно ли применить эту логику к другим видам последовательностей. "
   ]
  },
  {
   "cell_type": "code",
   "execution_count": 1,
   "id": "03fb22eb-b554-41e1-99fe-0f192ded21c7",
   "metadata": {},
   "outputs": [],
   "source": [
    "############"
   ]
  },
  {
   "cell_type": "code",
   "execution_count": 14,
   "id": "85655d54-3066-4740-ab1e-2a2f16ca80c4",
   "metadata": {},
   "outputs": [
    {
     "name": "stdout",
     "output_type": "stream",
     "text": [
      "None\n"
     ]
    }
   ],
   "source": [
    "from os import linesep\n",
    "\n",
    "def create_csv(filename, data):\n",
    "    with open(filename, \"w\") as fin:\n",
    "        fin.write(\"name,address,age\" + linesep)\n",
    "        for line in data:\n",
    "            fin.write(\",\".join(str(i) for i in line) + linesep)\n",
    "\n",
    "            \n",
    "data = [('George', '4312 Abbey Road', 22), ('John', '54 Love Ave', 21)]    \n",
    "\n",
    "print(create_csv(\"fout\", data))"
   ]
  },
  {
   "cell_type": "code",
   "execution_count": 30,
   "id": "469ff4b6-d8aa-441c-8c1c-cc01ffe9d93b",
   "metadata": {},
   "outputs": [
    {
     "name": "stdout",
     "output_type": "stream",
     "text": [
      "[{'name': 'George', 'address': '4312 Abbey Road', 'age': '22'}, {'name': 'John', 'address': '54 Love Ave', 'age': '21'}]\n"
     ]
    }
   ],
   "source": [
    "import csv\n",
    "\n",
    "def read_csv(filename):\n",
    "    l = []\n",
    "    with open(filename) as fin:\n",
    "        reader = csv.DictReader(fin)\n",
    "        for row in reader:\n",
    "            l.append(row)\n",
    "        \n",
    "        return l\n",
    "\n",
    "    \n",
    "\n",
    "            \n",
    "print(read_csv(\"fout\"))"
   ]
  },
  {
   "cell_type": "code",
   "execution_count": null,
   "id": "7b12209f-513c-4e72-bdb3-572f47c0da1d",
   "metadata": {},
   "outputs": [],
   "source": []
  },
  {
   "cell_type": "markdown",
   "id": "f7f32033-12b7-40b8-9320-2e487cc5b37d",
   "metadata": {},
   "source": [
    "References\n",
    "\n",
    "- [CSV File Reading and Writing](https://docs.python.org/3/library/csv.html)"
   ]
  }
 ],
 "metadata": {
  "kernelspec": {
   "display_name": "Python 3 (ipykernel)",
   "language": "python",
   "name": "python3"
  },
  "language_info": {
   "codemirror_mode": {
    "name": "ipython",
    "version": 3
   },
   "file_extension": ".py",
   "mimetype": "text/x-python",
   "name": "python",
   "nbconvert_exporter": "python",
   "pygments_lexer": "ipython3",
   "version": "3.8.11"
  }
 },
 "nbformat": 4,
 "nbformat_minor": 5
}
