{
 "cells": [
  {
   "cell_type": "markdown",
   "id": "f0f0be1d-4fb1-4603-ba30-1d55028832c1",
   "metadata": {},
   "source": [
    "# dir, help и pdb"
   ]
  },
  {
   "cell_type": "code",
   "execution_count": 2,
   "id": "497c5759-92c7-4c48-bf25-68806129b352",
   "metadata": {},
   "outputs": [
    {
     "name": "stdout",
     "output_type": "stream",
     "text": [
      "['__add__', '__class__', '__contains__', '__delattr__', '__dir__', '__doc__', '__eq__', '__format__', '__ge__', '__getattribute__', '__getitem__', '__getnewargs__', '__gt__', '__hash__', '__init__', '__init_subclass__', '__iter__', '__le__', '__len__', '__lt__', '__mod__', '__mul__', '__ne__', '__new__', '__reduce__', '__reduce_ex__', '__repr__', '__rmod__', '__rmul__', '__setattr__', '__sizeof__', '__str__', '__subclasshook__', 'capitalize', 'casefold', 'center', 'count', 'encode', 'endswith', 'expandtabs', 'find', 'format', 'format_map', 'index', 'isalnum', 'isalpha', 'isascii', 'isdecimal', 'isdigit', 'isidentifier', 'islower', 'isnumeric', 'isprintable', 'isspace', 'istitle', 'isupper', 'join', 'ljust', 'lower', 'lstrip', 'maketrans', 'partition', 'replace', 'rfind', 'rindex', 'rjust', 'rpartition', 'rsplit', 'rstrip', 'split', 'splitlines', 'startswith', 'strip', 'swapcase', 'title', 'translate', 'upper', 'zfill']\n"
     ]
    }
   ],
   "source": [
    "# Как узнать атрибуты строки\n",
    "print(dir(\"some string\"))"
   ]
  },
  {
   "cell_type": "code",
   "execution_count": 31,
   "id": "b0623a39-1084-4a70-86d0-35d4366223ac",
   "metadata": {},
   "outputs": [
    {
     "name": "stdout",
     "output_type": "stream",
     "text": [
      "Some string\n",
      "False\n",
      "False\n",
      "True\n",
      "SOME STRING\n"
     ]
    },
    {
     "data": {
      "text/plain": [
       "'some string'"
      ]
     },
     "execution_count": 31,
     "metadata": {},
     "output_type": "execute_result"
    }
   ],
   "source": [
    "# пример\n",
    "some_string = \"some string\"\n",
    "\n",
    "# делаем первую букуву строки заглавной\n",
    "print(some_string.capitalize())\n",
    "\n",
    "# Проверяет, что строка состоит только из буквенных символов.\n",
    "print(some_string.isalpha())\n",
    "\n",
    "# Проверяет, что строка состоит только из числовых символов\n",
    "print(some_string.isalnum())\n",
    "\n",
    "# Проверяет начинается ли строка с определенного символа\n",
    "print(some_string.startswith('s'))\n",
    "\n",
    "# Приведение строки к верхнему регистру\n",
    "print(some_string.upper())\n",
    "\n",
    "# изначальная строка осталась неизменной\n",
    "some_string"
   ]
  },
  {
   "cell_type": "code",
   "execution_count": 35,
   "id": "640c044e-aa82-4718-b23e-4eb30eb51aff",
   "metadata": {},
   "outputs": [],
   "source": [
    "# в документации можно почитать о специальных методах\n",
    "# help('SPECIALMETHODS')\n",
    "# https://docs.python.org/3/reference/datamodel.html"
   ]
  },
  {
   "cell_type": "code",
   "execution_count": 1,
   "id": "7edae742-61d9-40eb-b9ce-f704b56b8566",
   "metadata": {},
   "outputs": [
    {
     "name": "stdout",
     "output_type": "stream",
     "text": [
      "Help on built-in function upper:\n",
      "\n",
      "upper() method of builtins.str instance\n",
      "    Return a copy of the string converted to uppercase.\n",
      "\n"
     ]
    }
   ],
   "source": [
    "# почитать о конкретном методе\n",
    "help(\"some string\".upper)"
   ]
  },
  {
   "cell_type": "code",
   "execution_count": 2,
   "id": "263bcedb-535d-4e02-985b-a27318e096ee",
   "metadata": {},
   "outputs": [],
   "source": [
    "# две команды можно использовать в одной строке ; Чтобы после использования сразу удалить в одном месте\n",
    "# import pdb; pdb.set_trace()"
   ]
  },
  {
   "cell_type": "code",
   "execution_count": 55,
   "id": "90a2dfae-1fcf-4fba-8bff-27f261a8279e",
   "metadata": {},
   "outputs": [
    {
     "name": "stdout",
     "output_type": "stream",
     "text": [
      "0 0 0\n",
      "1 1 1\n"
     ]
    }
   ],
   "source": [
    "for i in range(2):\n",
    "#     import pdb; pdb.set_trace()\n",
    "    print(i, i ,i)"
   ]
  },
  {
   "cell_type": "code",
   "execution_count": 59,
   "id": "76c7a898-b42b-47b9-96a8-0518f91b7576",
   "metadata": {},
   "outputs": [
    {
     "name": "stdout",
     "output_type": "stream",
     "text": [
      "Help on built-in function find:\n",
      "\n",
      "find(...) method of builtins.str instance\n",
      "    S.find(sub[, start[, end]]) -> int\n",
      "    \n",
      "    Return the lowest index in S where substring sub is found,\n",
      "    such that sub is contained within S[start:end].  Optional\n",
      "    arguments start and end are interpreted as in slice notation.\n",
      "    \n",
      "    Return -1 on failure.\n",
      "\n"
     ]
    }
   ],
   "source": [
    "help(some_string.find)"
   ]
  },
  {
   "cell_type": "code",
   "execution_count": 61,
   "id": "9417c051-e3c8-4b6a-9111-128a02fdba79",
   "metadata": {},
   "outputs": [
    {
     "data": {
      "text/plain": [
       "0"
      ]
     },
     "execution_count": 61,
     "metadata": {},
     "output_type": "execute_result"
    }
   ],
   "source": [
    "# возвращает индекс первого вхождения определенного символа в строку\n",
    "some_string.find('s')"
   ]
  },
  {
   "cell_type": "code",
   "execution_count": 62,
   "id": "f693857d-0048-4d70-80c8-b7cc6700fa59",
   "metadata": {},
   "outputs": [
    {
     "name": "stdout",
     "output_type": "stream",
     "text": [
      "Help on built-in function title:\n",
      "\n",
      "title() method of builtins.str instance\n",
      "    Return a version of the string where each word is titlecased.\n",
      "    \n",
      "    More specifically, words start with uppercased characters and all remaining\n",
      "    cased characters have lower case.\n",
      "\n"
     ]
    }
   ],
   "source": [
    "help(some_string.title)"
   ]
  },
  {
   "cell_type": "code",
   "execution_count": 64,
   "id": "659de7af-7395-4966-9b65-dc6ddcac0ad8",
   "metadata": {},
   "outputs": [
    {
     "data": {
      "text/plain": [
       "'Some String'"
      ]
     },
     "execution_count": 64,
     "metadata": {},
     "output_type": "execute_result"
    }
   ],
   "source": [
    "# каждое слово в строке с заглавной буквы\n",
    "some_string.title()"
   ]
  },
  {
   "cell_type": "code",
   "execution_count": 66,
   "id": "b286df63-9463-4d82-9bc9-c5c4296caee1",
   "metadata": {},
   "outputs": [
    {
     "name": "stdout",
     "output_type": "stream",
     "text": [
      "['__abs__', '__add__', '__and__', '__bool__', '__ceil__', '__class__', '__delattr__', '__dir__', '__divmod__', '__doc__', '__eq__', '__float__', '__floor__', '__floordiv__', '__format__', '__ge__', '__getattribute__', '__getnewargs__', '__gt__', '__hash__', '__index__', '__init__', '__init_subclass__', '__int__', '__invert__', '__le__', '__lshift__', '__lt__', '__mod__', '__mul__', '__ne__', '__neg__', '__new__', '__or__', '__pos__', '__pow__', '__radd__', '__rand__', '__rdivmod__', '__reduce__', '__reduce_ex__', '__repr__', '__rfloordiv__', '__rlshift__', '__rmod__', '__rmul__', '__ror__', '__round__', '__rpow__', '__rrshift__', '__rshift__', '__rsub__', '__rtruediv__', '__rxor__', '__setattr__', '__sizeof__', '__str__', '__sub__', '__subclasshook__', '__truediv__', '__trunc__', '__xor__', 'as_integer_ratio', 'bit_length', 'conjugate', 'denominator', 'from_bytes', 'imag', 'numerator', 'real', 'to_bytes']\n"
     ]
    }
   ],
   "source": [
    "# атрибуты целого числа\n",
    "print(dir(12))"
   ]
  },
  {
   "cell_type": "code",
   "execution_count": 84,
   "id": "cd2a8aec-00e4-4f23-b643-a69802eb044d",
   "metadata": {},
   "outputs": [
    {
     "name": "stdout",
     "output_type": "stream",
     "text": [
      "Help on getset descriptor builtins.int.numerator:\n",
      "\n",
      "numerator\n",
      "    the numerator of a rational number in lowest terms\n",
      "\n"
     ]
    }
   ],
   "source": [
    "help(int.numerator)"
   ]
  }
 ],
 "metadata": {
  "kernelspec": {
   "display_name": "Python 3 (ipykernel)",
   "language": "python",
   "name": "python3"
  },
  "language_info": {
   "codemirror_mode": {
    "name": "ipython",
    "version": 3
   },
   "file_extension": ".py",
   "mimetype": "text/x-python",
   "name": "python",
   "nbconvert_exporter": "python",
   "pygments_lexer": "ipython3",
   "version": "3.8.11"
  }
 },
 "nbformat": 4,
 "nbformat_minor": 5
}
