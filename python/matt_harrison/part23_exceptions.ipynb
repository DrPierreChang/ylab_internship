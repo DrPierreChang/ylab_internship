{
 "cells": [
  {
   "cell_type": "code",
   "execution_count": 6,
   "id": "45620857-50c6-4219-ae5f-59d27ccc110b",
   "metadata": {},
   "outputs": [
    {
     "ename": "ZeroDivisionError",
     "evalue": "division by zero",
     "output_type": "error",
     "traceback": [
      "\u001b[0;31m---------------------------------------------------------------------------\u001b[0m",
      "\u001b[0;31mZeroDivisionError\u001b[0m                         Traceback (most recent call last)",
      "\u001b[0;32m/tmp/ipykernel_16739/3073032114.py\u001b[0m in \u001b[0;36m<module>\u001b[0;34m\u001b[0m\n\u001b[0;32m----> 1\u001b[0;31m \u001b[0;36m3\u001b[0m \u001b[0;34m/\u001b[0m \u001b[0;36m0\u001b[0m\u001b[0;34m\u001b[0m\u001b[0;34m\u001b[0m\u001b[0m\n\u001b[0m",
      "\u001b[0;31mZeroDivisionError\u001b[0m: division by zero"
     ]
    }
   ],
   "source": [
    "3 / 0"
   ]
  },
  {
   "cell_type": "code",
   "execution_count": 5,
   "id": "689eb19c-5a20-42f0-9ebd-424d4abb5497",
   "metadata": {},
   "outputs": [
    {
     "ename": "ZeroDivisionError",
     "evalue": "division by zero",
     "output_type": "error",
     "traceback": [
      "\u001b[0;31m---------------------------------------------------------------------------\u001b[0m",
      "\u001b[0;31mZeroDivisionError\u001b[0m                         Traceback (most recent call last)",
      "\u001b[0;32m/tmp/ipykernel_16739/1632334537.py\u001b[0m in \u001b[0;36m<module>\u001b[0;34m\u001b[0m\n\u001b[1;32m     16\u001b[0m \u001b[0;34m\u001b[0m\u001b[0m\n\u001b[1;32m     17\u001b[0m \u001b[0;34m\u001b[0m\u001b[0m\n\u001b[0;32m---> 18\u001b[0;31m \u001b[0mstart\u001b[0m\u001b[0;34m(\u001b[0m\u001b[0;34m)\u001b[0m\u001b[0;34m\u001b[0m\u001b[0;34m\u001b[0m\u001b[0m\n\u001b[0m",
      "\u001b[0;32m/tmp/ipykernel_16739/1632334537.py\u001b[0m in \u001b[0;36mstart\u001b[0;34m()\u001b[0m\n\u001b[1;32m      9\u001b[0m  \u001b[0;36m1\u001b[0m\u001b[0;34m/\u001b[0m\u001b[0;36m0\u001b[0m\u001b[0;34m\u001b[0m\u001b[0;34m\u001b[0m\u001b[0m\n\u001b[1;32m     10\u001b[0m \u001b[0;32mdef\u001b[0m \u001b[0mstart\u001b[0m\u001b[0;34m(\u001b[0m\u001b[0;34m)\u001b[0m\u001b[0;34m:\u001b[0m\u001b[0;34m\u001b[0m\u001b[0;34m\u001b[0m\u001b[0m\n\u001b[0;32m---> 11\u001b[0;31m  \u001b[0;32mreturn\u001b[0m \u001b[0mmiddle\u001b[0m\u001b[0;34m(\u001b[0m\u001b[0;34m)\u001b[0m\u001b[0;34m\u001b[0m\u001b[0;34m\u001b[0m\u001b[0m\n\u001b[0m\u001b[1;32m     12\u001b[0m \u001b[0;32mdef\u001b[0m \u001b[0mmiddle\u001b[0m\u001b[0;34m(\u001b[0m\u001b[0;34m)\u001b[0m\u001b[0;34m:\u001b[0m\u001b[0;34m\u001b[0m\u001b[0;34m\u001b[0m\u001b[0m\n\u001b[1;32m     13\u001b[0m  \u001b[0;32mreturn\u001b[0m \u001b[0mmore\u001b[0m\u001b[0;34m(\u001b[0m\u001b[0;34m)\u001b[0m\u001b[0;34m\u001b[0m\u001b[0;34m\u001b[0m\u001b[0m\n",
      "\u001b[0;32m/tmp/ipykernel_16739/1632334537.py\u001b[0m in \u001b[0;36mmiddle\u001b[0;34m()\u001b[0m\n\u001b[1;32m     11\u001b[0m  \u001b[0;32mreturn\u001b[0m \u001b[0mmiddle\u001b[0m\u001b[0;34m(\u001b[0m\u001b[0;34m)\u001b[0m\u001b[0;34m\u001b[0m\u001b[0;34m\u001b[0m\u001b[0m\n\u001b[1;32m     12\u001b[0m \u001b[0;32mdef\u001b[0m \u001b[0mmiddle\u001b[0m\u001b[0;34m(\u001b[0m\u001b[0;34m)\u001b[0m\u001b[0;34m:\u001b[0m\u001b[0;34m\u001b[0m\u001b[0;34m\u001b[0m\u001b[0m\n\u001b[0;32m---> 13\u001b[0;31m  \u001b[0;32mreturn\u001b[0m \u001b[0mmore\u001b[0m\u001b[0;34m(\u001b[0m\u001b[0;34m)\u001b[0m\u001b[0;34m\u001b[0m\u001b[0;34m\u001b[0m\u001b[0m\n\u001b[0m\u001b[1;32m     14\u001b[0m \u001b[0;32mdef\u001b[0m \u001b[0mmore\u001b[0m\u001b[0;34m(\u001b[0m\u001b[0;34m)\u001b[0m\u001b[0;34m:\u001b[0m\u001b[0;34m\u001b[0m\u001b[0;34m\u001b[0m\u001b[0m\n\u001b[1;32m     15\u001b[0m  \u001b[0merr\u001b[0m\u001b[0;34m(\u001b[0m\u001b[0;34m)\u001b[0m\u001b[0;34m\u001b[0m\u001b[0;34m\u001b[0m\u001b[0m\n",
      "\u001b[0;32m/tmp/ipykernel_16739/1632334537.py\u001b[0m in \u001b[0;36mmore\u001b[0;34m()\u001b[0m\n\u001b[1;32m     13\u001b[0m  \u001b[0;32mreturn\u001b[0m \u001b[0mmore\u001b[0m\u001b[0;34m(\u001b[0m\u001b[0;34m)\u001b[0m\u001b[0;34m\u001b[0m\u001b[0;34m\u001b[0m\u001b[0m\n\u001b[1;32m     14\u001b[0m \u001b[0;32mdef\u001b[0m \u001b[0mmore\u001b[0m\u001b[0;34m(\u001b[0m\u001b[0;34m)\u001b[0m\u001b[0;34m:\u001b[0m\u001b[0;34m\u001b[0m\u001b[0;34m\u001b[0m\u001b[0m\n\u001b[0;32m---> 15\u001b[0;31m  \u001b[0merr\u001b[0m\u001b[0;34m(\u001b[0m\u001b[0;34m)\u001b[0m\u001b[0;34m\u001b[0m\u001b[0;34m\u001b[0m\u001b[0m\n\u001b[0m\u001b[1;32m     16\u001b[0m \u001b[0;34m\u001b[0m\u001b[0m\n\u001b[1;32m     17\u001b[0m \u001b[0;34m\u001b[0m\u001b[0m\n",
      "\u001b[0;32m/tmp/ipykernel_16739/1632334537.py\u001b[0m in \u001b[0;36merr\u001b[0;34m()\u001b[0m\n\u001b[1;32m      7\u001b[0m \u001b[0;34m\u001b[0m\u001b[0m\n\u001b[1;32m      8\u001b[0m \u001b[0;32mdef\u001b[0m \u001b[0merr\u001b[0m\u001b[0;34m(\u001b[0m\u001b[0;34m)\u001b[0m\u001b[0;34m:\u001b[0m\u001b[0;34m\u001b[0m\u001b[0;34m\u001b[0m\u001b[0m\n\u001b[0;32m----> 9\u001b[0;31m  \u001b[0;36m1\u001b[0m\u001b[0;34m/\u001b[0m\u001b[0;36m0\u001b[0m\u001b[0;34m\u001b[0m\u001b[0;34m\u001b[0m\u001b[0m\n\u001b[0m\u001b[1;32m     10\u001b[0m \u001b[0;32mdef\u001b[0m \u001b[0mstart\u001b[0m\u001b[0;34m(\u001b[0m\u001b[0;34m)\u001b[0m\u001b[0;34m:\u001b[0m\u001b[0;34m\u001b[0m\u001b[0;34m\u001b[0m\u001b[0m\n\u001b[1;32m     11\u001b[0m  \u001b[0;32mreturn\u001b[0m \u001b[0mmiddle\u001b[0m\u001b[0;34m(\u001b[0m\u001b[0;34m)\u001b[0m\u001b[0;34m\u001b[0m\u001b[0;34m\u001b[0m\u001b[0m\n",
      "\u001b[0;31mZeroDivisionError\u001b[0m: division by zero"
     ]
    }
   ],
   "source": [
    "# Обычно при возникновении исключения Python прерывает выполнение\n",
    "# и выводит трассировку стека, по которой можно определить, где именно возникла проблема. \n",
    "\n",
    "# Трассировки проще всего читаются в обратном направлении: начните снизу, найдите ошибку и посмотрите, где она произошла.\n",
    "\n",
    "#Допустим, файл содержит следующий код:\n",
    "\n",
    "def err():\n",
    " 1/0\n",
    "def start():\n",
    " return middle()\n",
    "def middle():\n",
    " return more()\n",
    "def more():\n",
    " err()\n",
    "\n",
    "\n",
    "start()"
   ]
  },
  {
   "cell_type": "code",
   "execution_count": 15,
   "id": "a386b030-7762-416e-b2b5-4b8fb054de14",
   "metadata": {},
   "outputs": [
    {
     "name": "stdout",
     "output_type": "stream",
     "text": [
      "None\n"
     ]
    }
   ],
   "source": [
    "# В Python стиль LBYL  (Look Before You Leap, то есть «Посмотри, прежде чем прыгнуть») можно реализовать с помощью команд if:\n",
    "\n",
    "numerator = 10\n",
    "divisor = 0\n",
    "if divisor != 0:\n",
    "    result = numerator / divisor\n",
    "else:\n",
    "    result = None\n",
    "    \n",
    "print(result)"
   ]
  },
  {
   "cell_type": "code",
   "execution_count": 36,
   "id": "51ea8ea6-81f0-445b-833f-384602c78c11",
   "metadata": {},
   "outputs": [
    {
     "name": "stdout",
     "output_type": "stream",
     "text": [
      "None\n"
     ]
    }
   ],
   "source": [
    "# Другой стиль обработки исключений обычно обозначается сокращением\n",
    "# EAFP (Easier to Ask for Forgiveness than Permission, то есть «Проще попросить прощения, чем разрешения»).\n",
    "\n",
    "# Если операция завершается неудачей,\n",
    "# исключение будет перехвачено в блоке исключения.\n",
    "\n",
    "numerator = 10\n",
    "divisor = 0\n",
    "try:\n",
    "    result = numerator / divisor\n",
    "except ZeroDivisionError as e:\n",
    "    result = None\n",
    "    \n",
    "print(result)\n",
    "\n",
    "# Если вы не включите секцию as e в конце команды except, активное\n",
    "# исключение в программе все равно будет, но вы не сможете обратиться\n",
    "# к его экземпляру"
   ]
  },
  {
   "cell_type": "markdown",
   "id": "ec6abcbb-8c41-41a4-9cef-31abf287280f",
   "metadata": {},
   "source": [
    "Несколько практических правил обработки исключений:\n",
    "\n",
    "```\n",
    "- Обрабатывайте те ошибки, которые вы можете обработать и которые\n",
    "можно ожидать в программе.\n",
    "- Не подавляйте те исключения, которые вы не можете обработать,\n",
    "и те, которые вряд ли возникнут в вашей программе.\n",
    "- Используйте глобальный обработчик исключений для корректной\n",
    "обработки непредвиденных ошибок.\n",
    "```"
   ]
  },
  {
   "cell_type": "code",
   "execution_count": 40,
   "id": "cb88384b-64fa-4b3b-9929-0d102fed5267",
   "metadata": {},
   "outputs": [],
   "source": [
    "# Если есть сразу несколько исключений, которые должны обрабатываться\n",
    "# вашим кодом, перечислите их в нескольких командах except, следующих\n",
    "# друг за другом:\n",
    "    \n",
    "try:\n",
    "    some_function()\n",
    "except ZeroDivisionError as e:\n",
    "    pass\n",
    "    # Обработка конкретного исключения\n",
    "except Exception as e:\n",
    "    pass\n",
    "    # Обработка других исключений"
   ]
  },
  {
   "cell_type": "code",
   "execution_count": 45,
   "id": "534f631b-3a32-4922-bc55-595198af76a8",
   "metadata": {},
   "outputs": [],
   "source": [
    "# Одна команда except может перехватывать сразу несколько типов исключений, для чего следует передать кортеж классов\n",
    "# исключений:\n",
    "\n",
    "try:\n",
    "    pass\n",
    "except (TypeError, ValueError):\n",
    "    pass"
   ]
  },
  {
   "cell_type": "code",
   "execution_count": 56,
   "id": "8900d2c3-b21f-4d97-b5fe-117bb6d1adff",
   "metadata": {},
   "outputs": [
    {
     "name": "stdout",
     "output_type": "stream",
     "text": [
      "# Завершающие действиe в блоке finally выполняется всегда!\n"
     ]
    }
   ],
   "source": [
    "# Блок finally выполняется всегда.\n",
    "\n",
    "# Обычно секция finally используется для освобождения внешних ресурсов: файлов, сетевых подключений, баз данных и т. д. Эти ресурсы\n",
    "# должны освобождаться независимо от того, была операция выполнена\n",
    "# успешно или нет.\n",
    "\n",
    "try:\n",
    "    some_function()\n",
    "except Exception as e:\n",
    "    pass\n",
    "     # Обработка ошибок\n",
    "finally:\n",
    "     print(\"# Завершающие действиe в блоке finally выполняется всегда!\")"
   ]
  },
  {
   "cell_type": "code",
   "execution_count": 66,
   "id": "46f164a4-870d-4d53-948e-c2eddf2b6352",
   "metadata": {},
   "outputs": [],
   "source": [
    "# Пример из модуля timeit, входящего в стандартную библиотеку, помогает понять полезность команды finally. Модуль timeit позволяет\n",
    "# разработчику проводить хронометраж кода. В частности, во время проведения хронометража модуль приказывает уборщику мусора прекратить\n",
    "# работу. Однако после завершения хронометража уборщик мусора должен\n",
    "# быть снова включен независимо от того, был ли хронометраж завершен\n",
    "# успешно или произошла ошибка.\n",
    "\n",
    "default_number = 10000\n",
    "\n",
    "def timeit(self, number=default_number):\n",
    "    \"\"\"Хронометраж 'number' выполнений основной команды.\n",
    "    Для повышения точности команда подготовки выполняется однократно,\n",
    "    после чего время, необходимое для многократного выполнения основной\n",
    "    команды, возвращается как вещественное число (в секундах). Аргумент\n",
    "    определяет количество выполнений цикла (по умолчанию один миллион).\n",
    "    Основная команда, команда подготовки и используемая функция таймера\n",
    "    передаются конструктору.\n",
    "    \"\"\"\n",
    "    \n",
    "    it = itertools.repeat(None, number)\n",
    "    gcold = gc.isenabled()\n",
    "    gc.disable()\n",
    "    try:\n",
    "        timing = self.inner(it, self.timer)\n",
    "    finally:\n",
    "        if gcold:\n",
    "            gc.enable()\n",
    "    return timing"
   ]
  },
  {
   "cell_type": "markdown",
   "id": "e6993bc0-00d0-4e9d-9853-448ba5409bfe",
   "metadata": {},
   "source": [
    "```\n",
    "Комбинация try/finally в Python считается кодом «с душком». Опытные\n",
    "программисты Python в таких случаях применяют менеджер контекста.\n",
    "Включите эту тему в список вопросов, которые вам будет нужно изучить\n",
    "после освоения базовых возможностей Python.\n",
    "```"
   ]
  },
  {
   "cell_type": "code",
   "execution_count": 75,
   "id": "6a84e675-b089-4934-8a36-cdc58a5a6efe",
   "metadata": {},
   "outputs": [
    {
     "name": "stdout",
     "output_type": "stream",
     "text": [
      "hi\n",
      "Success\n",
      "at last\n"
     ]
    }
   ],
   "source": [
    "# Необязательная секция else в команде try выполняется в том случае,\n",
    "# если не было выдано никаких исключений. Она должна следовать за\n",
    "# всеми секциями except и выполняется перед блоком finally. Простой\n",
    "# пример:\n",
    "\n",
    "try:\n",
    "    print('hi')\n",
    "except Exception as e:\n",
    "    print('Error')\n",
    "else:\n",
    "    print('Success')\n",
    "finally:\n",
    "    print('at last')"
   ]
  },
  {
   "cell_type": "code",
   "execution_count": 80,
   "id": "73c7ae55-2f7b-41f0-bea7-021060639757",
   "metadata": {},
   "outputs": [
    {
     "ename": "SystemError",
     "evalue": "Logging not up",
     "output_type": "error",
     "traceback": [
      "\u001b[0;31m---------------------------------------------------------------------------\u001b[0m",
      "\u001b[0;31mZeroDivisionError\u001b[0m                         Traceback (most recent call last)",
      "\u001b[0;32m/tmp/ipykernel_16739/664120325.py\u001b[0m in \u001b[0;36mdivide_work\u001b[0;34m(x, y)\u001b[0m\n\u001b[1;32m     11\u001b[0m     \u001b[0;32mtry\u001b[0m\u001b[0;34m:\u001b[0m\u001b[0;34m\u001b[0m\u001b[0;34m\u001b[0m\u001b[0m\n\u001b[0;32m---> 12\u001b[0;31m         \u001b[0;32mreturn\u001b[0m \u001b[0mx\u001b[0m\u001b[0;34m/\u001b[0m\u001b[0my\u001b[0m\u001b[0;34m\u001b[0m\u001b[0;34m\u001b[0m\u001b[0m\n\u001b[0m\u001b[1;32m     13\u001b[0m     \u001b[0;32mexcept\u001b[0m \u001b[0mZeroDivisionError\u001b[0m \u001b[0;32mas\u001b[0m \u001b[0mex\u001b[0m\u001b[0;34m:\u001b[0m\u001b[0;34m\u001b[0m\u001b[0;34m\u001b[0m\u001b[0m\n",
      "\u001b[0;31mZeroDivisionError\u001b[0m: division by zero",
      "\nDuring handling of the above exception, another exception occurred:\n",
      "\u001b[0;31mSystemError\u001b[0m                               Traceback (most recent call last)",
      "\u001b[0;32m/tmp/ipykernel_16739/664120325.py\u001b[0m in \u001b[0;36m<module>\u001b[0;34m\u001b[0m\n\u001b[1;32m     14\u001b[0m         \u001b[0mlog\u001b[0m\u001b[0;34m(\u001b[0m\u001b[0;34m\"System is down\"\u001b[0m\u001b[0;34m)\u001b[0m\u001b[0;34m\u001b[0m\u001b[0;34m\u001b[0m\u001b[0m\n\u001b[1;32m     15\u001b[0m \u001b[0;34m\u001b[0m\u001b[0m\n\u001b[0;32m---> 16\u001b[0;31m \u001b[0mdivide_work\u001b[0m\u001b[0;34m(\u001b[0m\u001b[0;36m10\u001b[0m\u001b[0;34m,\u001b[0m \u001b[0;36m0\u001b[0m\u001b[0;34m)\u001b[0m\u001b[0;34m\u001b[0m\u001b[0;34m\u001b[0m\u001b[0m\n\u001b[0m",
      "\u001b[0;32m/tmp/ipykernel_16739/664120325.py\u001b[0m in \u001b[0;36mdivide_work\u001b[0;34m(x, y)\u001b[0m\n\u001b[1;32m     12\u001b[0m         \u001b[0;32mreturn\u001b[0m \u001b[0mx\u001b[0m\u001b[0;34m/\u001b[0m\u001b[0my\u001b[0m\u001b[0;34m\u001b[0m\u001b[0;34m\u001b[0m\u001b[0m\n\u001b[1;32m     13\u001b[0m     \u001b[0;32mexcept\u001b[0m \u001b[0mZeroDivisionError\u001b[0m \u001b[0;32mas\u001b[0m \u001b[0mex\u001b[0m\u001b[0;34m:\u001b[0m\u001b[0;34m\u001b[0m\u001b[0;34m\u001b[0m\u001b[0m\n\u001b[0;32m---> 14\u001b[0;31m         \u001b[0mlog\u001b[0m\u001b[0;34m(\u001b[0m\u001b[0;34m\"System is down\"\u001b[0m\u001b[0;34m)\u001b[0m\u001b[0;34m\u001b[0m\u001b[0;34m\u001b[0m\u001b[0m\n\u001b[0m\u001b[1;32m     15\u001b[0m \u001b[0;34m\u001b[0m\u001b[0m\n\u001b[1;32m     16\u001b[0m \u001b[0mdivide_work\u001b[0m\u001b[0;34m(\u001b[0m\u001b[0;36m10\u001b[0m\u001b[0;34m,\u001b[0m \u001b[0;36m0\u001b[0m\u001b[0;34m)\u001b[0m\u001b[0;34m\u001b[0m\u001b[0;34m\u001b[0m\u001b[0m\n",
      "\u001b[0;32m/tmp/ipykernel_16739/664120325.py\u001b[0m in \u001b[0;36mlog\u001b[0;34m(msg)\u001b[0m\n\u001b[1;32m      7\u001b[0m \u001b[0;34m\u001b[0m\u001b[0m\n\u001b[1;32m      8\u001b[0m \u001b[0;32mdef\u001b[0m \u001b[0mlog\u001b[0m\u001b[0;34m(\u001b[0m\u001b[0mmsg\u001b[0m\u001b[0;34m)\u001b[0m\u001b[0;34m:\u001b[0m\u001b[0;34m\u001b[0m\u001b[0;34m\u001b[0m\u001b[0m\n\u001b[0;32m----> 9\u001b[0;31m     \u001b[0;32mraise\u001b[0m \u001b[0mSystemError\u001b[0m\u001b[0;34m(\u001b[0m\u001b[0;34m\"Logging not up\"\u001b[0m\u001b[0;34m)\u001b[0m\u001b[0;34m\u001b[0m\u001b[0;34m\u001b[0m\u001b[0m\n\u001b[0m\u001b[1;32m     10\u001b[0m \u001b[0;32mdef\u001b[0m \u001b[0mdivide_work\u001b[0m\u001b[0;34m(\u001b[0m\u001b[0mx\u001b[0m\u001b[0;34m,\u001b[0m \u001b[0my\u001b[0m\u001b[0;34m)\u001b[0m\u001b[0;34m:\u001b[0m\u001b[0;34m\u001b[0m\u001b[0;34m\u001b[0m\u001b[0m\n\u001b[1;32m     11\u001b[0m     \u001b[0;32mtry\u001b[0m\u001b[0;34m:\u001b[0m\u001b[0;34m\u001b[0m\u001b[0;34m\u001b[0m\u001b[0m\n",
      "\u001b[0;31mSystemError\u001b[0m: Logging not up"
     ]
    }
   ],
   "source": [
    "# При обработке исключения в коде обработки может произойти другое исключение. В подобных ситуациях бывает полезно знать\n",
    "# об обоих исключениях.\n",
    "# Ниже приведен пример кода. У функции divide_work могут возникнуть\n",
    "# проблемы с делением на 0. Вы можете перехватить эту ошибку и зарегистрировать ее в журнале. Предположим, функция регистрации обращает-\n",
    "# ся к облачному сервису, который в настоящее время недоступен (чтобы\n",
    "# смоделировать эту ситуацию, мы заставим log выдать исключение):\n",
    "\n",
    "def log(msg):\n",
    "    raise SystemError(\"Logging not up\")\n",
    "def divide_work(x, y):\n",
    "    try:\n",
    "        return x/y\n",
    "    except ZeroDivisionError as ex:\n",
    "        log(\"System is down\")\n",
    "        \n",
    "divide_work(10, 0)"
   ]
  },
  {
   "cell_type": "code",
   "execution_count": 89,
   "id": "c0a3cef6-f04a-4e0e-93b2-b66416b68082",
   "metadata": {},
   "outputs": [
    {
     "ename": "DataError",
     "evalue": "important_data missing",
     "output_type": "error",
     "traceback": [
      "\u001b[0;31m---------------------------------------------------------------------------\u001b[0m",
      "\u001b[0;31mDataError\u001b[0m                                 Traceback (most recent call last)",
      "\u001b[0;32m/tmp/ipykernel_16739/1017761853.py\u001b[0m in \u001b[0;36m<module>\u001b[0;34m\u001b[0m\n\u001b[1;32m     11\u001b[0m \u001b[0mdata\u001b[0m \u001b[0;34m=\u001b[0m \u001b[0;34m{\u001b[0m\u001b[0;34m}\u001b[0m\u001b[0;34m\u001b[0m\u001b[0;34m\u001b[0m\u001b[0m\n\u001b[1;32m     12\u001b[0m \u001b[0;32mif\u001b[0m \u001b[0;34m'important_data'\u001b[0m \u001b[0;32mnot\u001b[0m \u001b[0;32min\u001b[0m \u001b[0mdata\u001b[0m\u001b[0;34m:\u001b[0m\u001b[0;34m\u001b[0m\u001b[0;34m\u001b[0m\u001b[0m\n\u001b[0;32m---> 13\u001b[0;31m     \u001b[0;32mraise\u001b[0m \u001b[0mDataError\u001b[0m\u001b[0;34m(\u001b[0m\u001b[0;34m'important_data missing'\u001b[0m\u001b[0;34m)\u001b[0m\u001b[0;34m\u001b[0m\u001b[0;34m\u001b[0m\u001b[0m\n\u001b[0m",
      "\u001b[0;31mDataError\u001b[0m: important_data missing"
     ]
    }
   ],
   "source": [
    "# Для определения собственных исключений субклассируйте класс\n",
    "# Exception или один из его субклассов. \n",
    "\n",
    "# Вот как выглядит исключение для определения нехватки информации\n",
    "# в программе:\n",
    "\n",
    "class DataError(Exception):\n",
    "    def __init__(self, missing):\n",
    "        self.missing = missing\n",
    "\n",
    "data = {}\n",
    "if 'important_data' not in data:\n",
    "    raise DataError('important_data missing')"
   ]
  },
  {
   "cell_type": "code",
   "execution_count": 6,
   "id": "5984a234-e5a0-4f0a-a7ff-8d84fcd0177e",
   "metadata": {},
   "outputs": [
    {
     "name": "stdin",
     "output_type": "stream",
     "text": [
      "Choose operator: +, -, *, / -\n"
     ]
    },
    {
     "name": "stdout",
     "output_type": "stream",
     "text": [
      "2\n"
     ]
    }
   ],
   "source": [
    "def calculator(a, b):\n",
    "    op = input(\"Choose operator: +, -, *, /\")\n",
    "    try:\n",
    "        print(eval(f\"{a} {op} {b}\"))\n",
    "    except:\n",
    "        print(\"Error\")\n",
    "        \n",
    "calculator(2, 0)"
   ]
  }
 ],
 "metadata": {
  "kernelspec": {
   "display_name": "Python 3 (ipykernel)",
   "language": "python",
   "name": "python3"
  },
  "language_info": {
   "codemirror_mode": {
    "name": "ipython",
    "version": 3
   },
   "file_extension": ".py",
   "mimetype": "text/x-python",
   "name": "python",
   "nbconvert_exporter": "python",
   "pygments_lexer": "ipython3",
   "version": "3.8.11"
  }
 },
 "nbformat": 4,
 "nbformat_minor": 5
}
