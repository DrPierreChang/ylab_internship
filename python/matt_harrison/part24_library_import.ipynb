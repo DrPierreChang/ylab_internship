{
 "cells": [
  {
   "cell_type": "code",
   "execution_count": 3,
   "id": "79be7b22-c55c-44ad-ae6b-2190ac32e807",
   "metadata": {},
   "outputs": [
    {
     "data": {
      "text/plain": [
       "True"
      ]
     },
     "execution_count": 3,
     "metadata": {},
     "output_type": "execute_result"
    }
   ],
   "source": [
    "# Приведенный фрагмент загружает модуль math. Тем не менее он не помещает math в ваше пространство имен. Вместо этого он создает переменную,\n",
    "# которая указывает на функцию sin из модуля math. \n",
    "\n",
    "from math import sin\n",
    "'sin' in dir()"
   ]
  }
 ],
 "metadata": {
  "kernelspec": {
   "display_name": "Python 3 (ipykernel)",
   "language": "python",
   "name": "python3"
  },
  "language_info": {
   "codemirror_mode": {
    "name": "ipython",
    "version": 3
   },
   "file_extension": ".py",
   "mimetype": "text/x-python",
   "name": "python",
   "nbconvert_exporter": "python",
   "pygments_lexer": "ipython3",
   "version": "3.8.11"
  }
 },
 "nbformat": 4,
 "nbformat_minor": 5
}
