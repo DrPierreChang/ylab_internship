{
 "cells": [
  {
   "cell_type": "markdown",
   "id": "442cc353",
   "metadata": {},
   "source": [
    "# Строки"
   ]
  },
  {
   "cell_type": "markdown",
   "id": "46d0e3a1",
   "metadata": {},
   "source": [
    "[Таблица эмоджи в Юникоде](https://unicode-table.com/ru/sets/emoji/)"
   ]
  },
  {
   "cell_type": "code",
   "execution_count": 34,
   "id": "d94541cc",
   "metadata": {},
   "outputs": [
    {
     "name": "stdout",
     "output_type": "stream",
     "text": [
      "I love 🐰\n"
     ]
    }
   ],
   "source": [
    "# строка может содержать эмоджи\n",
    "unicode_rabbit = \"I love \\N{Rabbit Face}\"\n",
    "print(unicode_rabbit)"
   ]
  },
  {
   "cell_type": "code",
   "execution_count": 39,
   "id": "e7938948",
   "metadata": {},
   "outputs": [
    {
     "name": "stdout",
     "output_type": "stream",
     "text": [
      "I ain't gonna\n",
      "I ain\"t gonna\n",
      "I ain't gonna\n"
     ]
    }
   ],
   "source": [
    "# несколько способов использовать кавычки\n",
    "with_quote1 = \"I ain't gonna\"\n",
    "with_quote2 = 'I ain\"t gonna'\n",
    "with_quote3 = 'I ain\\'t gonna'\n",
    "print(with_quote1, with_quote2, with_quote3, sep=\"\\n\")"
   ]
  },
  {
   "cell_type": "code",
   "execution_count": 42,
   "id": "8227d91c",
   "metadata": {},
   "outputs": [
    {
     "name": "stdout",
     "output_type": "stream",
     "text": [
      "\\\n"
     ]
    }
   ],
   "source": [
    "# если необходимо использовать в строке косую черту, то ее тоже можно экранировать\n",
    "print(\"\\\\\")"
   ]
  },
  {
   "cell_type": "code",
   "execution_count": 43,
   "id": "e2aaa548",
   "metadata": {},
   "outputs": [
    {
     "name": "stdout",
     "output_type": "stream",
     "text": [
      "\\tText \\\\\n"
     ]
    }
   ],
   "source": [
    "# строку можно вывести в необработанном виде\n",
    "slash_t = r'\\tText \\\\'\n",
    "print(slash_t)"
   ]
  },
  {
   "cell_type": "code",
   "execution_count": 45,
   "id": "169bb139",
   "metadata": {},
   "outputs": [
    {
     "name": "stdout",
     "output_type": "stream",
     "text": [
      "Lorem ipsum dolor\n",
      "sit amet, consectetur adipisicing\n",
      "elit, sed do eiusmod tempor incididunt\n",
      "ut labore et dolore magna aliqua. Ut\n",
      "enimad minim veniam, quis nostrud\n",
      "exercitation ullamco laboris nisi ut\n",
      "aliquip ex ea commodo consequat. Duis\n",
      "aute irure dolor in reprehenderit in\n",
      "voluptate velit esse cillum dolore eu\n",
      "fugiat nulla pariatur. Excepteur sint\n",
      "occaecat cupidatat non proident, sunt\n",
      "in culpa qui officia deserunt mollit\n",
      "anim id est laborum.\n"
     ]
    }
   ],
   "source": [
    "# тройные кавычки удобны для создания строк, разделенных на абзацы\n",
    "paragraph = \"\"\"Lorem ipsum dolor\n",
    "sit amet, consectetur adipisicing\n",
    "elit, sed do eiusmod tempor incididunt\n",
    "ut labore et dolore magna aliqua. Ut\n",
    "enimad minim veniam, quis nostrud\n",
    "exercitation ullamco laboris nisi ut\n",
    "aliquip ex ea commodo consequat. Duis\n",
    "aute irure dolor in reprehenderit in\n",
    "voluptate velit esse cillum dolore eu\n",
    "fugiat nulla pariatur. Excepteur sint\n",
    "occaecat cupidatat non proident, sunt\n",
    "in culpa qui officia deserunt mollit\n",
    "anim id est laborum.\"\"\"\n",
    "\n",
    "print(paragraph)"
   ]
  },
  {
   "cell_type": "code",
   "execution_count": 55,
   "id": "1f140a2c",
   "metadata": {
    "scrolled": false
   },
   "outputs": [
    {
     "name": "stdout",
     "output_type": "stream",
     "text": [
      "This string has double \" and single '\n",
      "quotes inside of it \n",
      "\n",
      "This string has double \" and single '\n",
      "quotes inside of it\"\n"
     ]
    }
   ],
   "source": [
    "# в строках с тройными кавычками можно использовать двойные и одинарные без форматирования\n",
    "print(\"\"\"This string has double \" and single '\n",
    "quotes inside of it \\n\"\"\")\n",
    "\n",
    "# но если они находятся в конце строки, то нужно экранировать\n",
    "print(\"\"\"This string has double \" and single '\n",
    "quotes inside of it\\\"\"\"\")"
   ]
  },
  {
   "cell_type": "markdown",
   "id": "d5b6c107",
   "metadata": {},
   "source": [
    "##  Синтаксис форматирования"
   ]
  },
  {
   "cell_type": "code",
   "execution_count": 86,
   "id": "58fe748f",
   "metadata": {},
   "outputs": [
    {
     "name": "stdout",
     "output_type": "stream",
     "text": [
      "Name: Paul \n",
      "\n",
      "Name: John \n",
      "\n",
      "Name: George \n",
      "\n",
      "Last: John First: Paul\n"
     ]
    }
   ],
   "source": [
    "# имена полей могут быть пустыми\n",
    "print('Name: {} \\n'.format('Paul'))\n",
    "\n",
    "# содержать имя аргумент\n",
    "print('Name: {name} \\n'.format(name='John'))\n",
    "\n",
    "# индекс в списке или словаре\n",
    "print('Name: {[name]} \\n'.format({'name':'George'}))\n",
    "\n",
    "# позицию\n",
    "print('Last: {2} First: {0}'.format('Paul', 'George', 'John'))"
   ]
  },
  {
   "cell_type": "code",
   "execution_count": 99,
   "id": "bbf9f23c",
   "metadata": {},
   "outputs": [
    {
     "name": "stdout",
     "output_type": "stream",
     "text": [
      "Name: ***Ringo****\n"
     ]
    }
   ],
   "source": [
    "# выравниваение вывода\n",
    "# * символ заполнитель\n",
    "# ^ поле выравниваения\n",
    "# 12 поле ширины (количество символов)\n",
    "\n",
    "print(\"Name: {:*^12}\".format(\"Ringo\"))"
   ]
  },
  {
   "cell_type": "code",
   "execution_count": 119,
   "id": "5b9517e3",
   "metadata": {},
   "outputs": [
    {
     "data": {
      "text/plain": [
       "'Percent: -44.0%'"
      ]
     },
     "execution_count": 119,
     "metadata": {},
     "output_type": "execute_result"
    }
   ],
   "source": [
    "# = выравнивание\n",
    "# + гарантирует вывод знака для отрицательных и положительных значений\n",
    "# 10.1 поле ширины и точности\n",
    "# % преобразование числа в проценты\n",
    "\"Percent: {:=+6.1%}\".format(-44/100)"
   ]
  },
  {
   "cell_type": "code",
   "execution_count": 123,
   "id": "1c7c7ad9",
   "metadata": {},
   "outputs": [
    {
     "name": "stdout",
     "output_type": "stream",
     "text": [
      "Binary: 1100 \n",
      "\n",
      "Binary: \f",
      "\n"
     ]
    }
   ],
   "source": [
    "# двоиичное преобразование\n",
    "print(\"Binary: {:b} \\n\".format(12))\n",
    "\n",
    "# шестнадцатеричное преобразование\n",
    "print(\"Binary: {:c}\".format(12))"
   ]
  },
  {
   "cell_type": "code",
   "execution_count": 128,
   "id": "5cb6c197",
   "metadata": {},
   "outputs": [
    {
     "name": "stdout",
     "output_type": "stream",
     "text": [
      "Num: 12 Hex: d\n",
      "hello world\n"
     ]
    }
   ],
   "source": [
    "# еще один способ форматирования\n",
    "print( \"Num: %d Hex: %x\" % (12, 13))\n",
    "print(\"%s %s\" % ('hello', 'world'))"
   ]
  },
  {
   "cell_type": "code",
   "execution_count": 136,
   "id": "d0cc30c0",
   "metadata": {
    "scrolled": false
   },
   "outputs": [],
   "source": [
    "# документация по форматированию\n",
    "# help('FORMATTING')\n",
    "# https://pyformat.info/\n",
    "# https://docs.python.org/3/library/string.html"
   ]
  },
  {
   "cell_type": "markdown",
   "id": "475eedf5",
   "metadata": {},
   "source": [
    "## F строки"
   ]
  },
  {
   "cell_type": "code",
   "execution_count": 138,
   "id": "de235f22",
   "metadata": {},
   "outputs": [
    {
     "name": "stdout",
     "output_type": "stream",
     "text": [
      "My name is Andrey\n"
     ]
    }
   ],
   "source": [
    "name = \"andrey\"\n",
    "print(f'My name is {name.capitalize()}')"
   ]
  },
  {
   "cell_type": "code",
   "execution_count": 153,
   "id": "81a51c60",
   "metadata": {},
   "outputs": [
    {
     "name": "stdout",
     "output_type": "stream",
     "text": [
      "Square root of two: 1.414\n"
     ]
    }
   ],
   "source": [
    "print(f'Square root of two: {2**.5:5.3f}')"
   ]
  },
  {
   "cell_type": "markdown",
   "id": "feaf5da9",
   "metadata": {},
   "source": [
    "#######################################"
   ]
  },
  {
   "cell_type": "code",
   "execution_count": 155,
   "id": "f4f9739f",
   "metadata": {},
   "outputs": [
    {
     "name": "stdout",
     "output_type": "stream",
     "text": [
      "Fred is 29\n"
     ]
    }
   ],
   "source": [
    "name = 'Fred'\n",
    "age = 29\n",
    "print(f\"{name} is {age}\")"
   ]
  },
  {
   "cell_type": "code",
   "execution_count": 168,
   "id": "d973ab9b",
   "metadata": {},
   "outputs": [
    {
     "name": "stdout",
     "output_type": "stream",
     "text": [
      "\"Python is a great language!\", said Fred. \"I don't\n",
      "ever remember having this much fun before.\"\n"
     ]
    }
   ],
   "source": [
    "print(\"\"\"\"Python is a great language!\", said Fred. \"I don't\n",
    "ever remember having this much fun before.\\\"\"\"\")"
   ]
  },
  {
   "cell_type": "code",
   "execution_count": 173,
   "id": "a4509160",
   "metadata": {},
   "outputs": [
    {
     "name": "stdout",
     "output_type": "stream",
     "text": [
      "This is omega: ω\n"
     ]
    }
   ],
   "source": [
    "print(\"This is omega: \\N{Greek Small Letter Omega}\")"
   ]
  },
  {
   "cell_type": "code",
   "execution_count": 201,
   "id": "8c666978",
   "metadata": {},
   "outputs": [
    {
     "name": "stdout",
     "output_type": "stream",
     "text": [
      "This is omega: ω\n"
     ]
    }
   ],
   "source": [
    "print(\"This is omega: \\u03C9\")"
   ]
  },
  {
   "cell_type": "code",
   "execution_count": 222,
   "id": "f2ec9d13",
   "metadata": {},
   "outputs": [
    {
     "name": "stdout",
     "output_type": "stream",
     "text": [
      "car        **********13,499.99***********\n"
     ]
    }
   ],
   "source": [
    "item = \"car\"\n",
    "cost = 13499.99\n",
    "print(f\"{item:<10} {cost:*^30,}\")"
   ]
  }
 ],
 "metadata": {
  "kernelspec": {
   "display_name": "Python 3 (ipykernel)",
   "language": "python",
   "name": "python3"
  },
  "language_info": {
   "codemirror_mode": {
    "name": "ipython",
    "version": 3
   },
   "file_extension": ".py",
   "mimetype": "text/x-python",
   "name": "python",
   "nbconvert_exporter": "python",
   "pygments_lexer": "ipython3",
   "version": "3.8.11"
  }
 },
 "nbformat": 4,
 "nbformat_minor": 5
}
