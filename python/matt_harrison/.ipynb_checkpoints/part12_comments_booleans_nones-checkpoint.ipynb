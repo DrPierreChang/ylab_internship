{
 "cells": [
  {
   "cell_type": "markdown",
   "id": "135c3642-8fb0-499a-8ab0-8ef1a8f9faed",
   "metadata": {},
   "source": [
    "# Комментарии"
   ]
  },
  {
   "cell_type": "markdown",
   "id": "fff0864a-b4f5-46fb-b9b8-8931059971ba",
   "metadata": {},
   "source": [
    "- Как правило, хороший комментарий должен\n",
    "объяснять почему, а не как (для ответа на вопрос как должно быть достаточного самого кода)."
   ]
  },
  {
   "cell_type": "markdown",
   "id": "21a99026-5b5c-4329-a209-5ffe6b10fcca",
   "metadata": {},
   "source": [
    "- Перед тем, как передавать код для распространения, закомментированные участки лучше удалить."
   ]
  },
  {
   "cell_type": "markdown",
   "id": "8f6b11cc-6ed9-437b-a95c-f482105fc746",
   "metadata": {},
   "source": [
    "- Возможно, у вас появилась соблазнительная мысль создать комментарий\n",
    "из нескольких строк при помощи строки, заключенной в тройные кавычки.\n",
    "Такие конструкции получаются уродливыми и непонятными, не используйте их."
   ]
  },
  {
   "cell_type": "markdown",
   "id": "828424be-7c64-4324-9756-b14929c63c79",
   "metadata": {},
   "source": [
    "# Логические значения"
   ]
  },
  {
   "cell_type": "code",
   "execution_count": 22,
   "id": "63111f26-7e41-44ac-9375-fddd7832027f",
   "metadata": {},
   "outputs": [
    {
     "name": "stdout",
     "output_type": "stream",
     "text": [
      "False\n"
     ]
    }
   ],
   "source": [
    "# пустая строка обладает «квазиложным» поведением\n",
    "# непустая строка обладает квазиистинным поведением\n",
    "if \"\":\n",
    "    print(\"True\")\n",
    "else:\n",
    "    print(\"False\")"
   ]
  },
  {
   "cell_type": "code",
   "execution_count": 31,
   "id": "44813b8d-6c2c-47ad-97ae-60cf6575a689",
   "metadata": {},
   "outputs": [
    {
     "name": "stdout",
     "output_type": "stream",
     "text": [
      "True\n"
     ]
    }
   ],
   "source": [
    "# Для чисел ноль интерпретируется как False, тогда как другие числа обладают поведением True:\n",
    "if 12234:\n",
    "    print(\"True\")\n",
    "else:\n",
    "    print(\"False\")"
   ]
  },
  {
   "cell_type": "code",
   "execution_count": 17,
   "id": "2ab48262-d3e2-4559-8699-cd969102c4d8",
   "metadata": {},
   "outputs": [
    {
     "name": "stdout",
     "output_type": "stream",
     "text": [
      "The name is Paul\n"
     ]
    }
   ],
   "source": [
    "name = 'Paul'\n",
    "if name:\n",
    "    print(\"The name is {}\".format(name))\n",
    "else:\n",
    "    print(\"Name is missing\")"
   ]
  },
  {
   "cell_type": "code",
   "execution_count": 19,
   "id": "82110d64-30d1-4368-aed1-00f4b37820da",
   "metadata": {},
   "outputs": [
    {
     "name": "stdout",
     "output_type": "stream",
     "text": [
      "The name is Paul\n"
     ]
    }
   ],
   "source": [
    "# Необязательно проверять длину name. Не делайте так:\n",
    "if len(name) > 0:\n",
    "    print(\"The name is {}\".format(name))"
   ]
  },
  {
   "cell_type": "code",
   "execution_count": 26,
   "id": "a9b37579-2ad2-4624-82e5-70338593664a",
   "metadata": {},
   "outputs": [
    {
     "name": "stdout",
     "output_type": "stream",
     "text": [
      "The name is Paul\n"
     ]
    }
   ],
   "source": [
    "# И так тоже поступать не нужно:\n",
    "if bool(name):\n",
    "    print(\"The name is {}\".format(name))"
   ]
  },
  {
   "cell_type": "code",
   "execution_count": 27,
   "id": "c2e834b5-fc3e-42ee-8cb0-89a83accbe89",
   "metadata": {},
   "outputs": [
    {
     "name": "stdout",
     "output_type": "stream",
     "text": [
      "The name is Paul\n"
     ]
    }
   ],
   "source": [
    "# Поскольку непустая строка интерпретируется как True, достаточно использовать конструкцию вида\n",
    "if name:\n",
    "    print(\"The name is {}\".format(name))"
   ]
  },
  {
   "cell_type": "code",
   "execution_count": 30,
   "id": "71916b6b-70f2-4dc1-9ae0-14c231e17fdf",
   "metadata": {},
   "outputs": [],
   "source": [
    "# Встроенные типы int, float, str и bool являются классами.\n",
    "# help(str)"
   ]
  },
  {
   "cell_type": "code",
   "execution_count": 36,
   "id": "1748a142-2784-4871-82a3-5d2b6c1b175b",
   "metadata": {},
   "outputs": [
    {
     "name": "stdout",
     "output_type": "stream",
     "text": [
      "[1]\n"
     ]
    }
   ],
   "source": [
    "# типы-контейнеры\n",
    "# (такие, как списки и словари), не содержащие элементов, обладают «квазиложным» поведением\n",
    "ls = []\n",
    "if not ls:\n",
    "    ls.append(1)\n",
    "    \n",
    "# при появлении элементов\n",
    "# они интерпретируются как «квазиистинные».\n",
    "if ls:\n",
    "    print(ls)"
   ]
  },
  {
   "cell_type": "code",
   "execution_count": 37,
   "id": "3b4ca753-c7ee-4309-b029-075190ba36e8",
   "metadata": {},
   "outputs": [
    {
     "name": "stdout",
     "output_type": "stream",
     "text": [
      "some string\n"
     ]
    }
   ],
   "source": [
    "# None обладает квазиложностью\n",
    "\n",
    "example = None\n",
    "\n",
    "if not example:\n",
    "    example = \"some string\"\n",
    "    \n",
    "if example:\n",
    "    print(example)"
   ]
  },
  {
   "cell_type": "code",
   "execution_count": 46,
   "id": "055615e7-cc92-43bd-a5c0-4db5f43b1367",
   "metadata": {},
   "outputs": [
    {
     "data": {
      "text/plain": [
       "False"
      ]
     },
     "execution_count": 46,
     "metadata": {},
     "output_type": "execute_result"
    }
   ],
   "source": [
    "# Если вы хотите определить неявную квазиистинность для объектов,\n",
    "# определяемых пользователем,\n",
    "# это поведение определяется методом .__bool__.\n",
    "class Nope:\n",
    "    def __bool__(self):\n",
    "        return False\n",
    "    \n",
    "n = Nope()\n",
    "bool(n)"
   ]
  },
  {
   "cell_type": "code",
   "execution_count": 47,
   "id": "e21fe03a-952f-44ee-8570-e05a2f48caa8",
   "metadata": {},
   "outputs": [
    {
     "data": {
      "text/plain": [
       "True"
      ]
     },
     "execution_count": 47,
     "metadata": {},
     "output_type": "execute_result"
    }
   ],
   "source": [
    "# Если и этот метод не определен,\n",
    "# объект по умолчанию интерпретируется как True:\n",
    "class Test:\n",
    "    pass\n",
    "    \n",
    "t = Test()\n",
    "bool(t)"
   ]
  },
  {
   "cell_type": "markdown",
   "id": "44a013d4-119f-4e53-9d50-6e530fa4732c",
   "metadata": {},
   "source": [
    "# None"
   ]
  },
  {
   "cell_type": "markdown",
   "id": "31caf7fe-6423-4a01-ba8f-e90478396a25",
   "metadata": {},
   "source": [
    "None является экземпляром NoneType"
   ]
  },
  {
   "cell_type": "markdown",
   "id": "d428fcfd-1b59-4a27-b5cc-27afd87daabe",
   "metadata": {},
   "source": [
    "Это одиночный объект,\n",
    "обозначающий переменные, значение которых должно быть присвоено\n",
    "в будущем. Он также является результатом функции, которая не возвращает значение явно."
   ]
  },
  {
   "cell_type": "code",
   "execution_count": 53,
   "id": "f58801f5-e217-4b79-ac86-916faaedafb3",
   "metadata": {},
   "outputs": [],
   "source": [
    "# Функция Python при отсутствии команды return по умолчанию возвращает\n",
    "# None:"
   ]
  },
  {
   "cell_type": "code",
   "execution_count": 54,
   "id": "77c9c9f8-2406-4aee-8742-21f80388b5df",
   "metadata": {},
   "outputs": [
    {
     "name": "stdout",
     "output_type": "stream",
     "text": [
      "hey\n",
      "None\n"
     ]
    }
   ],
   "source": [
    "def hello():\n",
    "    print(\"hey\")\n",
    "    \n",
    "result = hello()\n",
    "print(result)"
   ]
  },
  {
   "cell_type": "code",
   "execution_count": 61,
   "id": "c38948d9-ebd8-4d20-b843-cab87cf6ea49",
   "metadata": {},
   "outputs": [
    {
     "name": "stdout",
     "output_type": "stream",
     "text": [
      "94444495023552\n",
      "94444495023552\n",
      "94444495023552\n"
     ]
    }
   ],
   "source": [
    "# None является одиночным (синглетным) экземпляром\n",
    "# (то есть в интерпретаторе Python всегда хранится только одна копия None). \n",
    "# все переменные указывают на один и тот же объект\n",
    "\n",
    "a = None\n",
    "print(id(a))\n",
    "\n",
    "b = None\n",
    "print(id(b))\n",
    "\n",
    "c = None\n",
    "print(id(c))"
   ]
  },
  {
   "cell_type": "code",
   "execution_count": 65,
   "id": "c22dc105-da2b-4b0f-a4a9-4188f7188aed",
   "metadata": {},
   "outputs": [],
   "source": [
    "# Обычно для таких\n",
    "# переменных используется проверка тождественности оператором is вместо\n",
    "# проверки равенства оператором ==:"
   ]
  },
  {
   "cell_type": "code",
   "execution_count": 66,
   "id": "93bbf530-17b9-43c7-a2ed-4dd9bd6a51c9",
   "metadata": {},
   "outputs": [
    {
     "data": {
      "text/plain": [
       "True"
      ]
     },
     "execution_count": 66,
     "metadata": {},
     "output_type": "execute_result"
    }
   ],
   "source": [
    "a is b"
   ]
  },
  {
   "cell_type": "code",
   "execution_count": 67,
   "id": "8213503d-2193-4b26-b0de-8c8e29898c13",
   "metadata": {},
   "outputs": [
    {
     "data": {
      "text/plain": [
       "True"
      ]
     },
     "execution_count": 67,
     "metadata": {},
     "output_type": "execute_result"
    }
   ],
   "source": [
    "b is c"
   ]
  },
  {
   "cell_type": "code",
   "execution_count": 68,
   "id": "17373b5d-988c-4266-8630-bd1b0baace2d",
   "metadata": {},
   "outputs": [
    {
     "name": "stdout",
     "output_type": "stream",
     "text": [
      "A is not set!\n"
     ]
    }
   ],
   "source": [
    "# Оператор is работает быстрее ==\n",
    "# и напоминает программисту, что сравниваются идентификаторы, а не значения.\n",
    "\n",
    "if a is None:\n",
    "    print(\"A is not set!\")"
   ]
  },
  {
   "cell_type": "code",
   "execution_count": 70,
   "id": "8be74ffb-7a97-42db-b12b-bad327b88e98",
   "metadata": {},
   "outputs": [
    {
     "name": "stdout",
     "output_type": "stream",
     "text": [
      "A is not set!\n"
     ]
    }
   ],
   "source": [
    "# Так как None в логическом контексте интерпретируется как False, также\n",
    "# возможно такое решение:\n",
    "\n",
    "if not a:\n",
    "    print(\"A is not set!\")\n",
    "    \n",
    "# Тем не менее будьте осторожны с другими значениями,\n",
    "# которые также интерпретируются как False — такими, как 0, [] или '' (пустая строка). Проверка\n",
    "# на None должна осуществляться явно."
   ]
  },
  {
   "cell_type": "code",
   "execution_count": 71,
   "id": "d3d20ec8-9b09-4467-9f4b-b5a3bcd8e364",
   "metadata": {},
   "outputs": [],
   "source": [
    "#########################"
   ]
  },
  {
   "cell_type": "code",
   "execution_count": 73,
   "id": "24b6ddbf-d465-4873-b56d-0146046b5a05",
   "metadata": {},
   "outputs": [
    {
     "name": "stdout",
     "output_type": "stream",
     "text": [
      "True\n"
     ]
    }
   ],
   "source": [
    "age = 28\n",
    "old = age > 18\n",
    "print(old)"
   ]
  },
  {
   "cell_type": "code",
   "execution_count": 81,
   "id": "76ce14b6-0ffa-425d-bfd4-d888321bbb23",
   "metadata": {},
   "outputs": [
    {
     "data": {
      "text/plain": [
       "False"
      ]
     },
     "execution_count": 81,
     "metadata": {},
     "output_type": "execute_result"
    }
   ],
   "source": [
    "name = \"andrey\"\n",
    "alphabet = [chr(i) for i in range(97, 123)]\n",
    "second_half = alphabet.index(name[0]) > len(alphabet)/2\n",
    "second_half"
   ]
  },
  {
   "cell_type": "code",
   "execution_count": 90,
   "id": "9af6bb4b-3a8d-4058-9d6e-b9a95b3922ce",
   "metadata": {},
   "outputs": [
    {
     "name": "stdout",
     "output_type": "stream",
     "text": [
      "The class is empty!\n"
     ]
    }
   ],
   "source": [
    "classmates = []\n",
    "print(\"Class has enrollents!\" if classmates else 'The class is empty!')"
   ]
  },
  {
   "cell_type": "code",
   "execution_count": 92,
   "id": "4232eced-b69a-4c4b-b9ea-1a7f3a963aa7",
   "metadata": {},
   "outputs": [
    {
     "name": "stdout",
     "output_type": "stream",
     "text": [
      "Taxi for you!\n"
     ]
    }
   ],
   "source": [
    "car = None\n",
    "print(\"Taxi for you!\" if not car else \"You have a car!\")"
   ]
  }
 ],
 "metadata": {
  "kernelspec": {
   "display_name": "Python 3 (ipykernel)",
   "language": "python",
   "name": "python3"
  },
  "language_info": {
   "codemirror_mode": {
    "name": "ipython",
    "version": 3
   },
   "file_extension": ".py",
   "mimetype": "text/x-python",
   "name": "python",
   "nbconvert_exporter": "python",
   "pygments_lexer": "ipython3",
   "version": "3.8.11"
  }
 },
 "nbformat": 4,
 "nbformat_minor": 5
}
