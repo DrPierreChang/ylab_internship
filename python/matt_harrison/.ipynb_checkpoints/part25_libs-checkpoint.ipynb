{
 "cells": [
  {
   "cell_type": "markdown",
   "id": "b2464c5c-9f46-4827-b72a-3aea8dfd3485",
   "metadata": {
    "tags": []
   },
   "source": [
    "# 25.1. Модули"
   ]
  },
  {
   "cell_type": "markdown",
   "id": "78d9ad8a-49d9-4b29-96d8-adbb0c91f648",
   "metadata": {},
   "source": [
    "```\n",
    "Модули представляют собой файлы Python с расширением .py и именем,\n",
    "пригодным для импортирования. Согласно PEP 8, имена файлов модулей\n",
    "должны быть короткими и записываться в нижнем регистре. Символы\n",
    "подчеркивания могут использоваться для удобства чтения.\n",
    "```"
   ]
  },
  {
   "cell_type": "markdown",
   "id": "7726ba0c-9f96-4c99-b8c2-3a85d9d1b743",
   "metadata": {},
   "source": [
    "# 25.2. Пакеты"
   ]
  },
  {
   "cell_type": "markdown",
   "id": "99cea97f-abf5-439f-aa0e-6985d61958c6",
   "metadata": {},
   "source": [
    "```\n",
    "Пакет в Python представляет собой каталог, содержащий файл с именем\n",
    "__init__.py. Файл __init__.py может содержать любую реализацию (или вообще быть пустым). Кроме того, каталог может содержать произвольное\n",
    "количество модулей и субпакетов.\n",
    "\n",
    "Согласно PEP 8, имена каталогов пакетов должны быть короткими\n",
    "и записываться в нижнем регистре. Символы подчеркивания в них недопустимы.\n",
    "```"
   ]
  },
  {
   "cell_type": "markdown",
   "id": "957547c3-a4c4-4e6d-9839-6e042c9ce547",
   "metadata": {},
   "source": [
    "## 25.4. PYTHONPATH"
   ]
  },
  {
   "cell_type": "markdown",
   "id": "4d638b30-7751-4f59-b259-f8e40107a0fa",
   "metadata": {},
   "source": [
    "```\n",
    "Переменная среды PYTHONPATH содержит список нестандартных каталогов, в которых Python ищет модули или пакеты.\n",
    "\n",
    "Если вы запустите Python с присваиванием значения переменной\n",
    "PYTHONPATH, она укажет Python, где нужно искать библиотеки:\n",
    "\n",
    "$ PYTHONPATH=/home/test/a python3\n",
    "Python 3.6.0 (default, Dec 24 2016, 08:01:42)\n",
    ">>> import plot\n",
    ">>> plot.histogram()\n",
    "```"
   ]
  },
  {
   "cell_type": "markdown",
   "id": "a3b3fc36-4943-46b2-85a3-d3bb2c8bd443",
   "metadata": {},
   "source": [
    "# 25.5. sys.path"
   ]
  },
  {
   "cell_type": "markdown",
   "id": "96dfc4fb-0da7-4138-ac3f-b0f709a81b5e",
   "metadata": {},
   "source": [
    "```\n",
    "У модуля sys имеется атрибут path со списком каталогов, в которых\n",
    "Python ищет библиотеки. Просмотрев sys.path, вы увидите все просмотренные каталоги:\n",
    "```"
   ]
  },
  {
   "cell_type": "code",
   "execution_count": 3,
   "id": "e31377b5-3b8d-4f38-bdc8-10571385a3cd",
   "metadata": {},
   "outputs": [
    {
     "data": {
      "text/plain": [
       "['/home/drpierrechang/git_workspace/ylab_internship/python/matt_harrison',\n",
       " '/home/drpierrechang/anaconda3/envs/ylab/lib/python38.zip',\n",
       " '/home/drpierrechang/anaconda3/envs/ylab/lib/python3.8',\n",
       " '/home/drpierrechang/anaconda3/envs/ylab/lib/python3.8/lib-dynload',\n",
       " '',\n",
       " '/home/drpierrechang/anaconda3/envs/ylab/lib/python3.8/site-packages',\n",
       " '/home/drpierrechang/anaconda3/envs/ylab/lib/python3.8/site-packages/IPython/extensions',\n",
       " '/home/drpierrechang/.ipython']"
      ]
     },
     "execution_count": 3,
     "metadata": {},
     "output_type": "execute_result"
    }
   ],
   "source": [
    "import sys\n",
    "sys.path"
   ]
  },
  {
   "cell_type": "markdown",
   "id": "df25c359-cb45-4fed-a377-50365f97d2ea",
   "metadata": {},
   "source": [
    "```\n",
    "Обычно задавать вручную sys.path или PYTHONPATH\n",
    "не нужно. В нормальной ситуации вы устанавливаете библиотеки, а программа установки размещает их в правильном каталоге.\n",
    "```"
   ]
  },
  {
   "cell_type": "markdown",
   "id": "66ed5e4c-00dc-41d9-86bc-7fed6c0f82f8",
   "metadata": {},
   "source": [
    "```python\n",
    "sys.path.append('/home/test/a')\n",
    "```"
   ]
  },
  {
   "cell_type": "code",
   "execution_count": 6,
   "id": "2f166b7b-4af1-4ecd-8d7b-d151c73aff0d",
   "metadata": {},
   "outputs": [
    {
     "data": {
      "text/plain": [
       "'/home/drpierrechang/anaconda3/envs/ylab/lib/python3.8/json/__init__.py'"
      ]
     },
     "execution_count": 6,
     "metadata": {},
     "output_type": "execute_result"
    }
   ],
   "source": [
    "# Если вы хотите узнать местонахождение библиотеки(реализованной на Python) в файловой системе,\n",
    "# проверьте атрибут __file__:\n",
    "\n",
    "import json\n",
    "json.__file__"
   ]
  }
 ],
 "metadata": {
  "kernelspec": {
   "display_name": "Python 3 (ipykernel)",
   "language": "python",
   "name": "python3"
  },
  "language_info": {
   "codemirror_mode": {
    "name": "ipython",
    "version": 3
   },
   "file_extension": ".py",
   "mimetype": "text/x-python",
   "name": "python",
   "nbconvert_exporter": "python",
   "pygments_lexer": "ipython3",
   "version": "3.8.11"
  }
 },
 "nbformat": 4,
 "nbformat_minor": 5
}
