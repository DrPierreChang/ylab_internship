{
 "cells": [
  {
   "cell_type": "markdown",
   "id": "208d754f-9dcd-467c-8290-9e78359dc09d",
   "metadata": {
    "tags": []
   },
   "source": [
    "# <div align=\"center\">Строки и методы</div>"
   ]
  },
  {
   "cell_type": "code",
   "execution_count": 5,
   "id": "e49510f9-5d82-4338-85d1-6a336ee15d96",
   "metadata": {},
   "outputs": [
    {
     "name": "stdout",
     "output_type": "stream",
     "text": [
      "140198630391472\n",
      "140198644991536\n"
     ]
    }
   ],
   "source": [
    "# строковые методы не изменяют объекты, так как строки неизменяемы. Вместо этого в памяти создается новый объек.\n",
    "some_string = \"hey\"\n",
    "\n",
    "print(id(some_stirng))\n",
    "print(id(some_string.capitalize()))"
   ]
  },
  {
   "cell_type": "code",
   "execution_count": 15,
   "id": "c36abf89-30aa-4d26-bfab-a38603d24b73",
   "metadata": {},
   "outputs": [
    {
     "name": "stdout",
     "output_type": "stream",
     "text": [
      "140198650169920\n",
      "<class 'builtin_function_or_method'>\n"
     ]
    }
   ],
   "source": [
    "# методы тоже явяются объектами\n",
    "object_attributes = [id, type]\n",
    "for i in object_attributes:\n",
    "    print(i(some_stirng.capitalize))"
   ]
  },
  {
   "cell_type": "code",
   "execution_count": 17,
   "id": "d4940440-6702-45cb-8f68-616265c2849e",
   "metadata": {},
   "outputs": [
    {
     "ename": "SyntaxError",
     "evalue": "invalid syntax (4037261458.py, line 2)",
     "output_type": "error",
     "traceback": [
      "\u001b[0;36m  File \u001b[0;32m\"/tmp/ipykernel_73527/4037261458.py\"\u001b[0;36m, line \u001b[0;32m2\u001b[0m\n\u001b[0;31m    5.conjugate()\u001b[0m\n\u001b[0m      ^\u001b[0m\n\u001b[0;31mSyntaxError\u001b[0m\u001b[0;31m:\u001b[0m invalid syntax\n"
     ]
    }
   ],
   "source": [
    "# при вызове метода для числа можно получить ошибку, так как точка встречается в числах с плавающей точкой\n",
    "5.conjugate()"
   ]
  },
  {
   "cell_type": "code",
   "execution_count": 18,
   "id": "b6c9a164-a9f0-4b64-b54f-d1544c6313d8",
   "metadata": {},
   "outputs": [
    {
     "data": {
      "text/plain": [
       "5"
      ]
     },
     "execution_count": 18,
     "metadata": {},
     "output_type": "execute_result"
    }
   ],
   "source": [
    "# можно заключить число в скобки или создать переменную и вызвать метод для нее \n",
    "(5).conjugate()"
   ]
  },
  {
   "cell_type": "markdown",
   "id": "43ffce54-0e7a-4a85-8d61-2c4931afbb9b",
   "metadata": {},
   "source": [
    "## Основыне строковые методы"
   ]
  },
  {
   "cell_type": "markdown",
   "id": "bddde6e4-e20f-43c7-a7b2-9131cadae390",
   "metadata": {},
   "source": [
    "### endswith"
   ]
  },
  {
   "cell_type": "code",
   "execution_count": 21,
   "id": "3f27d374-e0ab-487c-ba9d-094c345324c4",
   "metadata": {},
   "outputs": [
    {
     "data": {
      "text/plain": [
       "True"
      ]
     },
     "execution_count": 21,
     "metadata": {},
     "output_type": "execute_result"
    }
   ],
   "source": [
    "# например, проверить расширение по имени файла\n",
    "file_name = \"data.csv\"\n",
    "\n",
    "file_name.endswith(\".csv\")"
   ]
  },
  {
   "cell_type": "code",
   "execution_count": 22,
   "id": "ff429b0e-d835-4fff-b670-d285d573c13a",
   "metadata": {},
   "outputs": [
    {
     "name": "stdout",
     "output_type": "stream",
     "text": [
      "Help on built-in function endswith:\n",
      "\n",
      "endswith(...) method of builtins.str instance\n",
      "    S.endswith(suffix[, start[, end]]) -> bool\n",
      "    \n",
      "    Return True if S ends with the specified suffix, False otherwise.\n",
      "    With optional start, test S beginning at that position.\n",
      "    With optional end, stop comparing S at that position.\n",
      "    suffix can also be a tuple of strings to try.\n",
      "\n"
     ]
    }
   ],
   "source": [
    "# в справке можно узнать, какие аргументы для метода являются обязательными\n",
    "help(file_name.endswith)"
   ]
  },
  {
   "cell_type": "code",
   "execution_count": 23,
   "id": "883b5426-c22c-47eb-bb2d-b4908aaf0bce",
   "metadata": {},
   "outputs": [
    {
     "data": {
      "text/plain": [
       "True"
      ]
     },
     "execution_count": 23,
     "metadata": {},
     "output_type": "execute_result"
    }
   ],
   "source": [
    "# указываем start и end параметры\n",
    "file_name.endswith(\"ta\", 0, 4) "
   ]
  },
  {
   "cell_type": "code",
   "execution_count": 24,
   "id": "e802c73e-2d47-49cf-9666-06a0171e46a7",
   "metadata": {},
   "outputs": [
    {
     "data": {
      "text/plain": [
       "True"
      ]
     },
     "execution_count": 24,
     "metadata": {},
     "output_type": "execute_result"
    }
   ],
   "source": [
    "# парный метод\n",
    "file_name.startswith(\"da\")"
   ]
  },
  {
   "cell_type": "markdown",
   "id": "86578350-708b-4357-8044-101e67dbc749",
   "metadata": {},
   "source": [
    "### find"
   ]
  },
  {
   "cell_type": "code",
   "execution_count": 25,
   "id": "028f61b0-7f9d-4d01-ad20-1e1c2abf1d1d",
   "metadata": {},
   "outputs": [
    {
     "data": {
      "text/plain": [
       "2"
      ]
     },
     "execution_count": 25,
     "metadata": {},
     "output_type": "execute_result"
    }
   ],
   "source": [
    "# поиска пдстроки в строке\n",
    "file_name.find(\"ta\")"
   ]
  },
  {
   "cell_type": "code",
   "execution_count": 27,
   "id": "9a0b1bc6-a672-489f-aaca-22c9d2766263",
   "metadata": {},
   "outputs": [
    {
     "data": {
      "text/plain": [
       "-1"
      ]
     },
     "execution_count": 27,
     "metadata": {},
     "output_type": "execute_result"
    }
   ],
   "source": [
    "# если подстрока не входит в строку возварщается -1\n",
    "file_name.find(\"date\")"
   ]
  },
  {
   "cell_type": "markdown",
   "id": "ab0bfe6a-99d9-4378-bdb8-26170c75acd9",
   "metadata": {},
   "source": [
    "### format"
   ]
  },
  {
   "cell_type": "code",
   "execution_count": 31,
   "id": "0a4d1c33-8f31-4477-92bd-38c28dbe575d",
   "metadata": {},
   "outputs": [
    {
     "name": "stdout",
     "output_type": "stream",
     "text": [
      "name: Matt, age: 10\n"
     ]
    }
   ],
   "source": [
    "# \\ символ переноса строки\n",
    "print('name: {}, age: {}'.\\\n",
    "    format('Matt', 10))"
   ]
  },
  {
   "cell_type": "code",
   "execution_count": 35,
   "id": "d6f6e3c6-6fbd-41e1-85ba-4164a04a0c27",
   "metadata": {},
   "outputs": [
    {
     "name": "stdout",
     "output_type": "stream",
     "text": [
      "name: Matt, age: 10\n",
      "1\n",
      "1\n"
     ]
    }
   ],
   "source": [
    "# но можно и не пользоваться \\ если открыта левая круглая скобка\n",
    "print('name: {}, age: {}'.\n",
    "    format('Matt', 10))\n",
    "\n",
    "print(\"word\".\n",
    "    find('ord'))\n",
    "\n",
    "print(\"word\".find(\n",
    "    'ord'))"
   ]
  },
  {
   "cell_type": "code",
   "execution_count": 36,
   "id": "e0bf3562-38ae-4bd6-afa3-e0b281bb64f3",
   "metadata": {},
   "outputs": [
    {
     "name": "stdout",
     "output_type": "stream",
     "text": [
      "hello to you and you\n"
     ]
    }
   ],
   "source": [
    "# На практике каждый аргумент метода\n",
    "# нередко размещается в отдельной строке:\n",
    "\n",
    "print('{} {} {} {} {}'.format(\n",
    "    'hello',\n",
    "    'to',\n",
    "    'you',\n",
    "    'and',\n",
    "    'you'\n",
    "))"
   ]
  },
  {
   "cell_type": "markdown",
   "id": "5a28865e-bd44-46cd-84cf-5d3071cf5c25",
   "metadata": {},
   "source": [
    "### join "
   ]
  },
  {
   "cell_type": "code",
   "execution_count": 42,
   "id": "398d001b-449b-4985-849b-fbd9ab760303",
   "metadata": {},
   "outputs": [
    {
     "data": {
      "text/plain": [
       "'1, 1, 1, 1, 1, 1, 1, 1, 1, 1'"
      ]
     },
     "execution_count": 42,
     "metadata": {},
     "output_type": "execute_result"
    }
   ],
   "source": [
    "# делает строку из списка, используюя разделитель\n",
    "\n",
    "ls = ['1']*10\n",
    "\n",
    "', '.join(ls)"
   ]
  },
  {
   "cell_type": "markdown",
   "id": "138698b5-1740-473d-97b1-96e6a6d062a4",
   "metadata": {},
   "source": [
    "### lower"
   ]
  },
  {
   "cell_type": "code",
   "execution_count": 51,
   "id": "51e2bdb5-5dfe-4383-a720-443cad766140",
   "metadata": {},
   "outputs": [
    {
     "data": {
      "text/plain": [
       "True"
      ]
     },
     "execution_count": 51,
     "metadata": {},
     "output_type": "execute_result"
    }
   ],
   "source": [
    "# например, приведение к нижнему регстру перед проверкой расширения файла. Противоположен методу upper\n",
    "\n",
    "file_name.lower().endswith(\"csv\")"
   ]
  },
  {
   "cell_type": "markdown",
   "id": "ce5bfeeb-3f5f-4777-a7dc-b0aeadaff301",
   "metadata": {},
   "source": [
    "### strip"
   ]
  },
  {
   "cell_type": "code",
   "execution_count": 49,
   "id": "fa607090-13b1-4068-9183-edbe67d820f9",
   "metadata": {},
   "outputs": [
    {
     "data": {
      "text/plain": [
       "'test_string'"
      ]
     },
     "execution_count": 49,
     "metadata": {},
     "output_type": "execute_result"
    }
   ],
   "source": [
    "# удаление из строки начальных и конечных пропусков (пробелы, табуляции, символы новой строки)\n",
    "test_string = ' test_string '\n",
    "test_string.strip()"
   ]
  },
  {
   "cell_type": "code",
   "execution_count": 50,
   "id": "bd8264cb-bafa-4086-8c48-0671e997002c",
   "metadata": {},
   "outputs": [],
   "source": [
    "# для удаления только начальных или конечных пропусков можно использовать lstrip rstrip "
   ]
  },
  {
   "cell_type": "code",
   "execution_count": 53,
   "id": "fcc7e4a5-fc0a-4466-a473-9b7e60790b10",
   "metadata": {},
   "outputs": [],
   "source": [
    "# документация по строковым методам\n",
    "# help(\"STRINGMETHODS\")"
   ]
  },
  {
   "cell_type": "code",
   "execution_count": 54,
   "id": "a2e70b14-8870-4242-a032-e3497b660c6f",
   "metadata": {},
   "outputs": [],
   "source": [
    "##############"
   ]
  },
  {
   "cell_type": "code",
   "execution_count": 56,
   "id": "74d41f45-5772-4e3b-8486-54966f6e3b5a",
   "metadata": {},
   "outputs": [
    {
     "name": "stdout",
     "output_type": "stream",
     "text": [
      "['__add__', '__class__', '__contains__', '__delattr__', '__dir__', '__doc__', '__eq__', '__format__', '__ge__', '__getattribute__', '__getitem__', '__getnewargs__', '__gt__', '__hash__', '__init__', '__init_subclass__', '__iter__', '__le__', '__len__', '__lt__', '__mod__', '__mul__', '__ne__', '__new__', '__reduce__', '__reduce_ex__', '__repr__', '__rmod__', '__rmul__', '__setattr__', '__sizeof__', '__str__', '__subclasshook__', 'capitalize', 'casefold', 'center', 'count', 'encode', 'endswith', 'expandtabs', 'find', 'format', 'format_map', 'index', 'isalnum', 'isalpha', 'isascii', 'isdecimal', 'isdigit', 'isidentifier', 'islower', 'isnumeric', 'isprintable', 'isspace', 'istitle', 'isupper', 'join', 'ljust', 'lower', 'lstrip', 'maketrans', 'partition', 'replace', 'rfind', 'rindex', 'rjust', 'rpartition', 'rsplit', 'rstrip', 'split', 'splitlines', 'startswith', 'strip', 'swapcase', 'title', 'translate', 'upper', 'zfill']\n"
     ]
    }
   ],
   "source": [
    "my_school = \"FEFU\"\n",
    "print(dir(my_school))"
   ]
  },
  {
   "cell_type": "code",
   "execution_count": 57,
   "id": "aa1f0dc0-afa4-45b6-ac00-edbcb02f6787",
   "metadata": {},
   "outputs": [
    {
     "name": "stdout",
     "output_type": "stream",
     "text": [
      "Help on built-in function replace:\n",
      "\n",
      "replace(old, new, count=-1, /) method of builtins.str instance\n",
      "    Return a copy with all occurrences of substring old replaced by new.\n",
      "    \n",
      "      count\n",
      "        Maximum number of occurrences to replace.\n",
      "        -1 (the default value) means replace all occurrences.\n",
      "    \n",
      "    If the optional argument count is given, only the first count occurrences are\n",
      "    replaced.\n",
      "\n"
     ]
    }
   ],
   "source": [
    "help(my_school.replace)"
   ]
  },
  {
   "cell_type": "code",
   "execution_count": 58,
   "id": "e1da0282-41bb-44c5-9f00-78a510b46253",
   "metadata": {},
   "outputs": [
    {
     "data": {
      "text/plain": [
       "'USA'"
      ]
     },
     "execution_count": 58,
     "metadata": {},
     "output_type": "execute_result"
    }
   ],
   "source": [
    "'usa'.upper()"
   ]
  },
  {
   "cell_type": "code",
   "execution_count": 59,
   "id": "015499b3-1f35-4784-bc57-07cd62d70647",
   "metadata": {},
   "outputs": [],
   "source": [
    "file_name = \"hello.py\""
   ]
  },
  {
   "cell_type": "code",
   "execution_count": 60,
   "id": "88911bdc-3acd-492b-8809-bad14dce1b1c",
   "metadata": {},
   "outputs": [
    {
     "data": {
      "text/plain": [
       "False"
      ]
     },
     "execution_count": 60,
     "metadata": {},
     "output_type": "execute_result"
    }
   ],
   "source": [
    "# завершается ли суффиксом java\n",
    "file_name.endswith('java')"
   ]
  },
  {
   "cell_type": "code",
   "execution_count": 62,
   "id": "4fdbdd41-a51e-45db-8ede-f9527972e098",
   "metadata": {},
   "outputs": [
    {
     "data": {
      "text/plain": [
       "6"
      ]
     },
     "execution_count": 62,
     "metadata": {},
     "output_type": "execute_result"
    }
   ],
   "source": [
    "# определить индекс подстроки py\n",
    "file_name.find('py')"
   ]
  },
  {
   "cell_type": "code",
   "execution_count": 63,
   "id": "7e57122c-f1d8-463c-8540-477ab7769c11",
   "metadata": {},
   "outputs": [
    {
     "data": {
      "text/plain": [
       "False"
      ]
     },
     "execution_count": 63,
     "metadata": {},
     "output_type": "execute_result"
    }
   ],
   "source": [
    "# начинается ли строка с подстроки world\n",
    "file_name.startswith('world')"
   ]
  },
  {
   "cell_type": "code",
   "execution_count": null,
   "id": "c21e7a54-296b-4454-8286-645ced67a229",
   "metadata": {},
   "outputs": [],
   "source": []
  }
 ],
 "metadata": {
  "kernelspec": {
   "display_name": "Python 3 (ipykernel)",
   "language": "python",
   "name": "python3"
  },
  "language_info": {
   "codemirror_mode": {
    "name": "ipython",
    "version": 3
   },
   "file_extension": ".py",
   "mimetype": "text/x-python",
   "name": "python",
   "nbconvert_exporter": "python",
   "pygments_lexer": "ipython3",
   "version": "3.8.11"
  }
 },
 "nbformat": 4,
 "nbformat_minor": 5
}
