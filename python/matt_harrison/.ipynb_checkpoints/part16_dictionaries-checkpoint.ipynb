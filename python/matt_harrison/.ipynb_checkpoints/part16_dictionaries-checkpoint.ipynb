{
 "cells": [
  {
   "cell_type": "code",
   "execution_count": 1,
   "id": "3e203b7f-7ea5-41af-98be-9d06a230011e",
   "metadata": {},
   "outputs": [
    {
     "data": {
      "text/plain": [
       "{'first': 'Pete', 'last': 'Best'}"
      ]
     },
     "execution_count": 1,
     "metadata": {},
     "output_type": "execute_result"
    }
   ],
   "source": [
    "# Если передать классу список пар кортежей, он вернет словарь:\n",
    "info = dict([('first', 'Pete'), ('last', 'Best')])\n",
    "info"
   ]
  },
  {
   "cell_type": "code",
   "execution_count": 2,
   "id": "69f272a0-8a29-4beb-ab00-ef1679f001f4",
   "metadata": {},
   "outputs": [],
   "source": [
    "#  При вызове dict также можно использовать именованные параметры\n",
    "info = dict(first='Pete', last='Best')"
   ]
  },
  {
   "cell_type": "markdown",
   "id": "31d30a05-cde3-43fd-aaf9-d2941bc08f84",
   "metadata": {},
   "source": [
    "Если вы используете именованные параметры, они должны быть допустимыми именами переменных Python, тогда они будут преобразованы в строки."
   ]
  },
  {
   "cell_type": "code",
   "execution_count": 3,
   "id": "752e00d5-a130-475e-908d-33c0bcdb201c",
   "metadata": {},
   "outputs": [
    {
     "data": {
      "text/plain": [
       "True"
      ]
     },
     "execution_count": 3,
     "metadata": {},
     "output_type": "execute_result"
    }
   ],
   "source": [
    "# Оператор in может использоваться со  строкой для\n",
    "# проверки принадлежности:\n",
    "\n",
    "'P' in 'Paul'"
   ]
  },
  {
   "cell_type": "code",
   "execution_count": 9,
   "id": "175a5fe4-7fb3-45e1-b651-aea25ef7ea71",
   "metadata": {},
   "outputs": [
    {
     "name": "stdout",
     "output_type": "stream",
     "text": [
      "{'first': 'Pete', 'last': 'Best'}\n"
     ]
    },
    {
     "data": {
      "text/plain": [
       "'Rock'"
      ]
     },
     "execution_count": 9,
     "metadata": {},
     "output_type": "execute_result"
    }
   ],
   "source": [
    "# Метод .get словаря получает значение, соответствующее ключу. Метод\n",
    "# .get также может получать необязательный параметр для значения по\n",
    "# умолчанию, если ключ не найден. Если вы хотите, чтобы genre по умолчанию присваивалось значение 'Rock', это можно сделать так:\n",
    "\n",
    "genre = info.get('Genre', 'Rock')\n",
    "print(info)\n",
    "genre"
   ]
  },
  {
   "cell_type": "code",
   "execution_count": 10,
   "id": "fb88b215-cc98-4b43-a071-cbe073b31a7e",
   "metadata": {},
   "outputs": [
    {
     "data": {
      "text/plain": [
       "{'Ringo': 2, 'Paul': 1, 'John': 1}"
      ]
     },
     "execution_count": 10,
     "metadata": {},
     "output_type": "execute_result"
    }
   ],
   "source": [
    "# Метод .setdefault может использоваться для создания накопителя или\n",
    "# счетчика ключей. Например, если вы хотите подсчитать количество\n",
    "# людей с одним именем, это можно сделать так:\n",
    "\n",
    "names = ['Ringo', 'Paul', 'John', 'Ringo']\n",
    "count = {}\n",
    "for name in names:\n",
    "    count.setdefault(name, 0)\n",
    "    count[name] += 1\n",
    "    \n",
    "count"
   ]
  },
  {
   "cell_type": "code",
   "execution_count": 15,
   "id": "54e2ee0f-4f01-4d9b-ac1d-510580ffe23d",
   "metadata": {},
   "outputs": [
    {
     "name": "stdout",
     "output_type": "stream",
     "text": [
      "Counter({'Ringo': 2, 'Paul': 1, 'John': 1})\n",
      "2\n",
      "0\n"
     ]
    }
   ],
   "source": [
    "# Подобные операции подсчета встречаются настолько часто, что позднее\n",
    "# в стандартную библиотеку Python был добавлен класс collections.Counter.\n",
    "# Этот класс позволяет выполнять такие операции в более компактном виде:\n",
    "\n",
    "import collections\n",
    "\n",
    "count = collections.Counter(['Ringo', 'Paul', 'John', 'Ringo'])\n",
    "print(count)\n",
    "\n",
    "print(count['Ringo'])\n",
    "\n",
    "print(count['Fred'])\n"
   ]
  },
  {
   "cell_type": "code",
   "execution_count": 17,
   "id": "4b967e84-4f03-4dbd-aadf-57cd7693dd9e",
   "metadata": {},
   "outputs": [
    {
     "name": "stdout",
     "output_type": "stream",
     "text": [
      "{'John': ['Beatles'], 'George': ['Beatles'], 'Paul': ['Beatles', 'Wings'], 'Ringo': ['Beatles']}\n"
     ]
    }
   ],
   "source": [
    "# Предположим, имеется словарь,\n",
    "# связывающий имя музыканта с названием группы, в которой он играл.\n",
    "# Если человек по имени Paul участвует в двух группах, результат должен\n",
    "# связывать имя Paul со списком, содержащим обе группы:\n",
    "\n",
    "band1_names = ['John', 'George', 'Paul', 'Ringo']\n",
    "band2_names = ['Paul']\n",
    "\n",
    "names_to_bands = {}\n",
    "\n",
    "for name in band1_names:\n",
    "    names_to_bands.setdefault(name, []).append('Beatles')\n",
    "    \n",
    "for name in band2_names:\n",
    "    names_to_bands.setdefault(name, []).append('Wings')\n",
    "    \n",
    "print(names_to_bands)"
   ]
  },
  {
   "cell_type": "code",
   "execution_count": 18,
   "id": "310b4aaa-0dc5-4893-8ce0-9d4227b07fda",
   "metadata": {},
   "outputs": [
    {
     "name": "stdout",
     "output_type": "stream",
     "text": [
      "defaultdict(<class 'list'>, {'John': ['Beatles'], 'George': ['Beatles'], 'Paul': ['Beatles', 'Wings'], 'Ringo': ['Beatles']})\n"
     ]
    }
   ],
   "source": [
    "# Предыдущий пример может быть переписан с defaultdict\n",
    "# в следующем виде:\n",
    "\n",
    "from collections import defaultdict\n",
    "\n",
    "names_to_bands = defaultdict(list)\n",
    "\n",
    "for name in band1_names:\n",
    "    names_to_bands[name].append('Beatles')\n",
    "    \n",
    "for name in band2_names:\n",
    "    names_to_bands[name].append('Wings')\n",
    "\n",
    "print(names_to_bands)"
   ]
  },
  {
   "cell_type": "code",
   "execution_count": 19,
   "id": "81187923-effb-4fbb-ab43-215469e834e9",
   "metadata": {},
   "outputs": [],
   "source": [
    "#  Для удаления элемента из словаря используется команда del:\n",
    "\n",
    "# Удаление 'Ringo' из словаря\n",
    "del names_to_bands['Ringo']"
   ]
  },
  {
   "cell_type": "markdown",
   "id": "e1f54d51-5656-427a-99fb-568724200164",
   "metadata": {},
   "source": [
    "Python не позволяет добавлять и удалять данные из словаря во время его\n",
    "перебора."
   ]
  },
  {
   "cell_type": "code",
   "execution_count": 20,
   "id": "85b1cb67-2b88-435e-8ea0-f68d324a495e",
   "metadata": {},
   "outputs": [
    {
     "ename": "RuntimeError",
     "evalue": "dictionary changed size during iteration",
     "output_type": "error",
     "traceback": [
      "\u001b[0;31m---------------------------------------------------------------------------\u001b[0m",
      "\u001b[0;31mRuntimeError\u001b[0m                              Traceback (most recent call last)",
      "\u001b[0;32m/tmp/ipykernel_21126/3982102083.py\u001b[0m in \u001b[0;36m<module>\u001b[0;34m\u001b[0m\n\u001b[1;32m      1\u001b[0m \u001b[0mdata\u001b[0m \u001b[0;34m=\u001b[0m \u001b[0;34m{\u001b[0m\u001b[0;34m'name'\u001b[0m\u001b[0;34m:\u001b[0m \u001b[0;34m'Matt'\u001b[0m\u001b[0;34m}\u001b[0m\u001b[0;34m\u001b[0m\u001b[0;34m\u001b[0m\u001b[0m\n\u001b[0;32m----> 2\u001b[0;31m \u001b[0;32mfor\u001b[0m \u001b[0mkey\u001b[0m \u001b[0;32min\u001b[0m \u001b[0mdata\u001b[0m\u001b[0;34m:\u001b[0m\u001b[0;34m\u001b[0m\u001b[0;34m\u001b[0m\u001b[0m\n\u001b[0m\u001b[1;32m      3\u001b[0m     \u001b[0;32mdel\u001b[0m \u001b[0mdata\u001b[0m\u001b[0;34m[\u001b[0m\u001b[0mkey\u001b[0m\u001b[0;34m]\u001b[0m\u001b[0;34m\u001b[0m\u001b[0;34m\u001b[0m\u001b[0m\n",
      "\u001b[0;31mRuntimeError\u001b[0m: dictionary changed size during iteration"
     ]
    }
   ],
   "source": [
    "data = {'name': 'Matt'}\n",
    "for key in data:\n",
    "    del data[key]\n"
   ]
  },
  {
   "cell_type": "code",
   "execution_count": 21,
   "id": "f4b0a90a-0064-4280-a5b7-eb9be64e3fd7",
   "metadata": {},
   "outputs": [
    {
     "name": "stdout",
     "output_type": "stream",
     "text": [
      "Adam\n",
      "Zeek\n",
      "Fred\n"
     ]
    }
   ],
   "source": [
    "# По умолчанию при\n",
    "# переборе по словарю вы получаете ключи:\n",
    "\n",
    "data = {'Adam': 2, 'Zeek': 5, 'Fred': 3}\n",
    "\n",
    "for name in data:\n",
    "    print(name)"
   ]
  },
  {
   "cell_type": "code",
   "execution_count": 25,
   "id": "6c16c1cb-d89c-45ed-a6eb-cc2deaf7adb7",
   "metadata": {},
   "outputs": [
    {
     "name": "stdout",
     "output_type": "stream",
     "text": [
      "2\n",
      "5\n",
      "3\n"
     ]
    }
   ],
   "source": [
    "# Чтобы перебрать значения в словаре, проведите перебор по методу\n",
    "# .values:\n",
    "\n",
    "for value in data.values():\n",
    "    print(value)"
   ]
  },
  {
   "cell_type": "code",
   "execution_count": 30,
   "id": "9486fef9-8b32-4127-a49b-180530508cf5",
   "metadata": {},
   "outputs": [
    {
     "name": "stdout",
     "output_type": "stream",
     "text": [
      "Adam 2\n",
      "Zeek 5\n",
      "Fred 3\n"
     ]
    }
   ],
   "source": [
    "# Чтобы перебрать пары значенияи ключа в словаре, проведите перебор по методу\n",
    "# .items:\n",
    "\n",
    "\n",
    "for key, value in data.items():\n",
    "    print(key, value)"
   ]
  },
  {
   "cell_type": "code",
   "execution_count": 34,
   "id": "27670815-0a72-4016-829e-7aa023e5a411",
   "metadata": {},
   "outputs": [
    {
     "data": {
      "text/plain": [
       "[('Adam', 2), ('Zeek', 5), ('Fred', 3)]"
      ]
     },
     "execution_count": 34,
     "metadata": {},
     "output_type": "execute_result"
    }
   ],
   "source": [
    "# Если материализовать представление в список, вы увидите, что список\n",
    "# является последовательностью кортежей (ключ, значение) — то, что\n",
    "# получает dict для создания словаря:\n",
    "\n",
    "list(data.items())"
   ]
  },
  {
   "cell_type": "code",
   "execution_count": 37,
   "id": "edac934a-1312-424d-82a7-565ede65b536",
   "metadata": {},
   "outputs": [
    {
     "name": "stdout",
     "output_type": "stream",
     "text": [
      "Adam\n",
      "Fred\n",
      "Zeek\n",
      "\n",
      "Zeek\n",
      "Fred\n",
      "Adam\n"
     ]
    }
   ],
   "source": [
    "# Встроенная функция sorted возвращает новый отсортированный список\n",
    "# для заданной последовательности:\n",
    "\n",
    "for name in sorted(data.keys()):\n",
    "    print(name)\n",
    "\n",
    "    \n",
    "# У функции sorted есть необязательный аргумент reverse для перехода на\n",
    "# противоположный порядок вывода:\n",
    "print()\n",
    "for name in sorted(data.keys(), reverse=True):\n",
    "    print(name)"
   ]
  },
  {
   "cell_type": "code",
   "execution_count": 42,
   "id": "6106d36f-bec7-44f2-aae7-52595da2620b",
   "metadata": {},
   "outputs": [
    {
     "ename": "TypeError",
     "evalue": "'<' not supported between instances of 'str' and 'int'",
     "output_type": "error",
     "traceback": [
      "\u001b[0;31m---------------------------------------------------------------------------\u001b[0m",
      "\u001b[0;31mTypeError\u001b[0m                                 Traceback (most recent call last)",
      "\u001b[0;32m/tmp/ipykernel_21126/1360125560.py\u001b[0m in \u001b[0;36m<module>\u001b[0;34m\u001b[0m\n\u001b[1;32m      6\u001b[0m \u001b[0mweird\u001b[0m \u001b[0;34m=\u001b[0m \u001b[0;34m{\u001b[0m\u001b[0;36m1\u001b[0m\u001b[0;34m:\u001b[0m \u001b[0;34m'first'\u001b[0m\u001b[0;34m,\u001b[0m \u001b[0;34m'1'\u001b[0m\u001b[0;34m:\u001b[0m \u001b[0;34m'another first'\u001b[0m\u001b[0;34m}\u001b[0m\u001b[0;34m\u001b[0m\u001b[0;34m\u001b[0m\u001b[0m\n\u001b[1;32m      7\u001b[0m \u001b[0;34m\u001b[0m\u001b[0m\n\u001b[0;32m----> 8\u001b[0;31m \u001b[0msorted\u001b[0m\u001b[0;34m(\u001b[0m\u001b[0mweird\u001b[0m\u001b[0;34m)\u001b[0m\u001b[0;34m\u001b[0m\u001b[0;34m\u001b[0m\u001b[0m\n\u001b[0m",
      "\u001b[0;31mTypeError\u001b[0m: '<' not supported between instances of 'str' and 'int'"
     ]
    }
   ],
   "source": [
    "# Обычно смешивать разнотипные ключи не рекомендуется, потому что это\n",
    "# делает код менее понятным и усложняет сортировку. Python 3 не сортирует\n",
    "# списки со смешанными типами без функции key, которая явно указывает\n",
    "# Python, как следует сравнивать разные типы. \n",
    "\n",
    "weird = {1: 'first', '1': 'another first'}\n",
    "\n",
    "sorted(weird)"
   ]
  },
  {
   "cell_type": "code",
   "execution_count": 43,
   "id": "4ac25c94-9989-416e-b59c-c8ba63a63504",
   "metadata": {},
   "outputs": [],
   "source": [
    "########\n",
    "\n",
    "text = \"\"\"\n",
    "Напишите абзац текста в строке, заключенной в тройные кавычки. Используйте метод .split для создания списка слов. Создайте\n",
    "словарь для хранения счетчика вхождений каждого слова в абзаце.\n",
    "\"\"\".split()"
   ]
  },
  {
   "cell_type": "code",
   "execution_count": 54,
   "id": "b4f594db-b7ce-4f1b-8dd4-a27508e01e05",
   "metadata": {},
   "outputs": [
    {
     "data": {
      "text/plain": [
       "Counter({'Напишите': 1,\n",
       "         'абзац': 1,\n",
       "         'текста': 1,\n",
       "         'в': 3,\n",
       "         'строке,': 1,\n",
       "         'заключенной': 1,\n",
       "         'тройные': 1,\n",
       "         'кавычки.': 1,\n",
       "         'Используйте': 1,\n",
       "         'метод': 1,\n",
       "         '.split': 1,\n",
       "         'для': 2,\n",
       "         'создания': 1,\n",
       "         'списка': 1,\n",
       "         'слов.': 1,\n",
       "         'Создайте': 1,\n",
       "         'словарь': 1,\n",
       "         'хранения': 1,\n",
       "         'счетчика': 1,\n",
       "         'вхождений': 1,\n",
       "         'каждого': 1,\n",
       "         'слова': 1,\n",
       "         'абзаце.': 1})"
      ]
     },
     "execution_count": 54,
     "metadata": {},
     "output_type": "execute_result"
    }
   ],
   "source": [
    "collections.Counter(text)"
   ]
  },
  {
   "cell_type": "code",
   "execution_count": 74,
   "id": "2b04d3cf-9747-4ad4-a096-c77702a3599b",
   "metadata": {},
   "outputs": [
    {
     "name": "stdout",
     "output_type": "stream",
     "text": [
      "{'act': ['cat', 'cat', 'tac', 'act'], 'rtu': ['tur', 'urt']}\n"
     ]
    }
   ],
   "source": [
    "def find_anagrams(text:str) -> dict:\n",
    "    anagrams = defaultdict(list)\n",
    "\n",
    "    for word in text.split():\n",
    "        anagrams[\"\".join(sorted(tuple(word)))].append(word)\n",
    "        \n",
    "    return anagrams\n",
    "    \n",
    "\n",
    "\n",
    "print(dict(find_anagrams(\"cat cat tac tur act urt\")))"
   ]
  },
  {
   "cell_type": "markdown",
   "id": "3af5a985-7300-4807-8572-969e241f89e5",
   "metadata": {},
   "source": [
    "References\n",
    "\n",
    "- [Using Python, find anagrams for a list of words](https://stackoverflow.com/questions/8286554/using-python-find-anagrams-for-a-list-of-words)"
   ]
  }
 ],
 "metadata": {
  "kernelspec": {
   "display_name": "Python 3 (ipykernel)",
   "language": "python",
   "name": "python3"
  },
  "language_info": {
   "codemirror_mode": {
    "name": "ipython",
    "version": 3
   },
   "file_extension": ".py",
   "mimetype": "text/x-python",
   "name": "python",
   "nbconvert_exporter": "python",
   "pygments_lexer": "ipython3",
   "version": "3.8.11"
  }
 },
 "nbformat": 4,
 "nbformat_minor": 5
}
