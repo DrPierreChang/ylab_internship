{
 "cells": [
  {
   "cell_type": "markdown",
   "id": "3451a23e-7f71-4057-9686-3fccb418d155",
   "metadata": {},
   "source": [
    "<h1 align=\"center\">List</h1>"
   ]
  },
  {
   "cell_type": "code",
   "execution_count": 6,
   "id": "cb6fbe6e-6894-420e-8b2c-d610f6781be8",
   "metadata": {},
   "outputs": [
    {
     "name": "stdout",
     "output_type": "stream",
     "text": [
      "['Fred', 'Matt', 'Fred']\n"
     ]
    }
   ],
   "source": [
    "# вставка в оределенную позицию\n",
    "names = ['Matt', 'Fred']\n",
    "names.insert(0, \"Fred\")\n",
    "print(names)"
   ]
  },
  {
   "cell_type": "markdown",
   "id": "2c21611c-8046-4abb-8b69-93091f6f9d97",
   "metadata": {},
   "source": [
    "В Python списки в действительности реализуются в виде массива указателей.\n",
    "\n",
    "Такая реализация обеспечивает быстрый произвольный доступ к элементам по индексам.\n",
    "\n",
    "Кроме того, операции присоединения и удаления в конце\n",
    "списка выполняются быстро (O(1)), тогда как операции вставки и удаления\n",
    "в середине списка выполняются медленнее (O(n)).\n",
    "\n",
    "Если окажется, что вам\n",
    "часто приходится вставлять и извлекать элементы в начале списка, лучше\n",
    "использовать структуру данных collections.deque."
   ]
  },
  {
   "cell_type": "code",
   "execution_count": 8,
   "id": "c3d79db2-1e2b-4dd2-ad10-2f6ab0b61537",
   "metadata": {},
   "outputs": [
    {
     "data": {
      "text/plain": [
       "['Fred']"
      ]
     },
     "execution_count": 8,
     "metadata": {},
     "output_type": "execute_result"
    }
   ],
   "source": [
    "# Удаление из списка по индексу\n",
    "names = ['Matt', 'Fred']\n",
    "del names[0]\n",
    "names"
   ]
  },
  {
   "cell_type": "code",
   "execution_count": 12,
   "id": "b664989f-511a-426e-b375-59f0fe6dc736",
   "metadata": {},
   "outputs": [
    {
     "data": {
      "text/plain": [
       "[5, 3, 1, -2]"
      ]
     },
     "execution_count": 12,
     "metadata": {},
     "output_type": "execute_result"
    }
   ],
   "source": [
    "# sort сортирует список на месте\n",
    "# sorted возвращает отсортированную копию\n",
    "old = [5, 3, -2, 1]\n",
    "nums_sorted = sorted(old, reverse=True)\n",
    "nums_sorted    "
   ]
  },
  {
   "cell_type": "code",
   "execution_count": 13,
   "id": "b501ab19-96b3-4e58-a750-07d211355c5e",
   "metadata": {},
   "outputs": [
    {
     "ename": "TypeError",
     "evalue": "'<' not supported between instances of 'str' and 'int'",
     "output_type": "error",
     "traceback": [
      "\u001b[0;31m---------------------------------------------------------------------------\u001b[0m",
      "\u001b[0;31mTypeError\u001b[0m                                 Traceback (most recent call last)",
      "\u001b[0;32m/tmp/ipykernel_72068/2020480694.py\u001b[0m in \u001b[0;36m<module>\u001b[0;34m\u001b[0m\n\u001b[1;32m      2\u001b[0m \u001b[0;31m# список с разнотипными элементами может произойти ошибка:\u001b[0m\u001b[0;34m\u001b[0m\u001b[0;34m\u001b[0m\u001b[0;34m\u001b[0m\u001b[0m\n\u001b[1;32m      3\u001b[0m \u001b[0mthings\u001b[0m \u001b[0;34m=\u001b[0m \u001b[0;34m[\u001b[0m\u001b[0;36m2\u001b[0m\u001b[0;34m,\u001b[0m \u001b[0;34m'abc'\u001b[0m\u001b[0;34m,\u001b[0m \u001b[0;34m'Zebra'\u001b[0m\u001b[0;34m,\u001b[0m \u001b[0;34m'1'\u001b[0m\u001b[0;34m]\u001b[0m\u001b[0;34m\u001b[0m\u001b[0;34m\u001b[0m\u001b[0m\n\u001b[0;32m----> 4\u001b[0;31m \u001b[0mthings\u001b[0m\u001b[0;34m.\u001b[0m\u001b[0msort\u001b[0m\u001b[0;34m(\u001b[0m\u001b[0;34m)\u001b[0m\u001b[0;34m\u001b[0m\u001b[0;34m\u001b[0m\u001b[0m\n\u001b[0m",
      "\u001b[0;31mTypeError\u001b[0m: '<' not supported between instances of 'str' and 'int'"
     ]
    }
   ],
   "source": [
    "# В Python 3 при попытке отсортировать\n",
    "# список с разнотипными элементами может произойти ошибка:\n",
    "things = [2, 'abc', 'Zebra', '1']\n",
    "things.sort()"
   ]
  },
  {
   "cell_type": "markdown",
   "id": "aedef9bd-ac82-43cf-9784-40e32da6065b",
   "metadata": {},
   "source": [
    "Как метод .sort, так и функция sorted позволяют управлять сортировкой, для чего в параметре key передается произвольная функция\n",
    "сортировки.\n",
    "\n",
    "Параметр key может содержать функцию (а также класс\n",
    "или метод), которая получает один элемент и возвращает нечто пригодное для сравнения."
   ]
  },
  {
   "cell_type": "code",
   "execution_count": 69,
   "id": "1b221b79-5cef-4808-a6b9-d8c23ae74ea5",
   "metadata": {},
   "outputs": [
    {
     "name": "stdout",
     "output_type": "stream",
     "text": [
      "['1', 2, 'Zebra', 'abc']\n"
     ]
    }
   ],
   "source": [
    "# все элементы списка сортируются по правилам сортировки строк:\n",
    "things.sort(key=str)\n",
    "print(things)"
   ]
  },
  {
   "cell_type": "markdown",
   "id": "07711dab-ba3d-42fd-8f95-47218dceeb28",
   "metadata": {},
   "source": [
    "Конструкция «до, но не включая» более формально называется полуоткрытым интервалом.\n",
    "\n",
    "Обычно полуоткрытые интервалы используются при\n",
    "определении последовательностей натуральных чисел.\n",
    "\n",
    "Они обладают рядом\n",
    "удобных свойств:\n",
    "\n",
    "- Длина серии последовательных чисел равна разности между концом и началом интервала.\n",
    "\n",
    "- Сращивание двух подпоследовательностей обходится без перекрытия."
   ]
  },
  {
   "cell_type": "markdown",
   "id": "e737ff63-0157-4061-b740-d3239d27a325",
   "metadata": {},
   "source": [
    "<h1 align=\"center\">Tuple</h1>"
   ]
  },
  {
   "cell_type": "code",
   "execution_count": 17,
   "id": "22035e49-538e-4736-bcb0-7ad5809a36a5",
   "metadata": {},
   "outputs": [],
   "source": [
    "# После того как кортеж будет создан, изменить его не удастся. "
   ]
  },
  {
   "cell_type": "code",
   "execution_count": 22,
   "id": "7385c252-dbdf-4ff0-a57c-d1850bef1278",
   "metadata": {},
   "outputs": [
    {
     "data": {
      "text/plain": [
       "(1, 2, 3)"
      ]
     },
     "execution_count": 22,
     "metadata": {},
     "output_type": "execute_result"
    }
   ],
   "source": [
    "# один из способов создаения кортежа\n",
    "tuple_example = 1, 2, 3\n",
    "tuple_example"
   ]
  },
  {
   "cell_type": "code",
   "execution_count": 23,
   "id": "33733273-b507-4cd3-942c-0ddf55325418",
   "metadata": {},
   "outputs": [
    {
     "data": {
      "text/plain": [
       "('Steph', 'Curry', 'Guard')"
      ]
     },
     "execution_count": 23,
     "metadata": {},
     "output_type": "execute_result"
    }
   ],
   "source": [
    "# однако благодаря круглым скобкам проще увидеть, что перед нами кортеж\n",
    "tuple_example = ('Steph', 'Curry', 'Guard')\n",
    "tuple_example"
   ]
  },
  {
   "cell_type": "code",
   "execution_count": 27,
   "id": "1cd90f82-0b92-4c17-9f4a-a96c5426b18e",
   "metadata": {},
   "outputs": [
    {
     "data": {
      "text/plain": [
       "('Steph', 'Curry', 'Guard')"
      ]
     },
     "execution_count": 27,
     "metadata": {},
     "output_type": "execute_result"
    }
   ],
   "source": [
    "# кортеж из списка\n",
    "tuple(['Steph', 'Curry', 'Guard'])"
   ]
  },
  {
   "cell_type": "code",
   "execution_count": 36,
   "id": "582179e2-bd03-46ab-8e1a-56dfdac0d55c",
   "metadata": {},
   "outputs": [
    {
     "data": {
      "text/plain": [
       "('Matt', '123 North 456 East', 24)"
      ]
     },
     "execution_count": 36,
     "metadata": {},
     "output_type": "execute_result"
    }
   ],
   "source": [
    "person = ('Matt', '123 North 456 East', 24)\n",
    "person"
   ]
  },
  {
   "cell_type": "markdown",
   "id": "837c9fa9-caca-430a-b448-5055f6f53da4",
   "metadata": {},
   "source": [
    "- Так как кортежи неизменяемы, они могут служить ключами в словарях. \n",
    "- Кортежи часто используются для представления записей данных — например, строк запросов баз данных, которые могут содержать разнородные типы объектов. Например, в кортеже могут храниться имя, адрес и возраст\n",
    "- Кортежи используются для возвращения нескольких элементов из функций. \n",
    "- Они подсказывают разработчику, что этот тип не предназначен для изменения.\n",
    "- Кортежи используют меньше памяти, чем списки.\n",
    "- Если вы работаете с последовательностями, которые не должны изменяться, возможно, вам стоит воспользоваться кортежами ради экономии памяти."
   ]
  },
  {
   "cell_type": "markdown",
   "id": "0846eb64-e256-470e-8bc1-37d3093076fd",
   "metadata": {},
   "source": [
    "<h1 align=\"center\">Set</h1>"
   ]
  },
  {
   "cell_type": "markdown",
   "id": "3723065d-d815-4a16-a1e3-800021e3e336",
   "metadata": {},
   "source": [
    "- неупорядоченные \n",
    "- нет дуликатов"
   ]
  },
  {
   "cell_type": "markdown",
   "id": "2919ab1f-55d7-4f74-9540-03df207e7d5a",
   "metadata": {},
   "source": [
    "- часто использутся для удаления дубликатов\n",
    "- для проверки принадлежности"
   ]
  },
  {
   "cell_type": "markdown",
   "id": "06456098-49e1-45cc-af51-28b58cc570df",
   "metadata": {},
   "source": [
    "- поиск основан на оптимизированной функции хешировании и занмает мало времени даже для больших множеств"
   ]
  },
  {
   "cell_type": "markdown",
   "id": "3656ce0b-1730-478c-96cb-d77e41677963",
   "metadata": {},
   "source": [
    "- Хеш-код представляет собой квазиуникальное число, сгенерированное для заданного объекта. "
   ]
  },
  {
   "cell_type": "markdown",
   "id": "f0cf859a-2b93-4a8a-91be-6bc73da30ec6",
   "metadata": {},
   "source": [
    "- Если\n",
    "объект является хешируемым, для него всегда генерируется одно и то же\n",
    "число."
   ]
  },
  {
   "cell_type": "markdown",
   "id": "197c66f2-be7e-4de5-abd8-96dccc3d274d",
   "metadata": {},
   "source": [
    "- В языке Python изменяемые элементы не являются хешируемыми. Это означает, что хешировать список или словарь невозможно. "
   ]
  },
  {
   "cell_type": "markdown",
   "id": "2126502a-0654-4c1a-933f-bfedfbc8ec05",
   "metadata": {},
   "source": [
    "- Множество можно определить передачей последовательности классу\n",
    "set"
   ]
  },
  {
   "cell_type": "code",
   "execution_count": 47,
   "id": "1144dc7d-64bd-4519-9764-0380fbdf5460",
   "metadata": {},
   "outputs": [
    {
     "data": {
      "text/plain": [
       "{0, 1, 2, 3, 4, 5, 6, 7, 8, 9}"
      ]
     },
     "execution_count": 47,
     "metadata": {},
     "output_type": "execute_result"
    }
   ],
   "source": [
    "# Множества также могут создаваться в синтаксисе литералов с { }:\n",
    "digit_set = {0, 1, 1, 2, 3, 4, 5, 6, 7, 8, 9}\n",
    "digit_set"
   ]
  },
  {
   "cell_type": "markdown",
   "id": "882ef3ac-87ab-455a-95ae-dc964be3abd0",
   "metadata": {},
   "source": [
    "Вследствие особенностей реализации множеств\n",
    "проверка принадлежности для них может выполняться намного быстрее,\n",
    "чем проверки по списку."
   ]
  },
  {
   "cell_type": "markdown",
   "id": "68856184-10c4-444f-acbe-12f7b135c6f6",
   "metadata": {},
   "source": [
    "Множества Python поддерживают классические операции теории множеств, такие как объединение (|), пересечение (&), вычитание (-) и исключающее ИЛИ (^)."
   ]
  },
  {
   "cell_type": "code",
   "execution_count": 50,
   "id": "5625ccbc-59ac-41f7-9a1a-2f9654c2d47b",
   "metadata": {},
   "outputs": [
    {
     "data": {
      "text/plain": [
       "{0, 2, 4, 6, 8}"
      ]
     },
     "execution_count": 50,
     "metadata": {},
     "output_type": "execute_result"
    }
   ],
   "source": [
    "# вычитание\n",
    "odd = {1, 3, 5, 7, 9}\n",
    "even = digit_set - odd\n",
    "even"
   ]
  },
  {
   "cell_type": "code",
   "execution_count": 51,
   "id": "6e5b89a3-2c52-4cb7-80a9-7a18c3d6768f",
   "metadata": {},
   "outputs": [
    {
     "data": {
      "text/plain": [
       "{2}"
      ]
     },
     "execution_count": 51,
     "metadata": {},
     "output_type": "execute_result"
    }
   ],
   "source": [
    "# пересечение\n",
    "\n",
    "prime = set([2, 3, 5, 7])\n",
    "# В обоих множествах\n",
    "prime_even = prime & even\n",
    "prime_even"
   ]
  },
  {
   "cell_type": "code",
   "execution_count": 52,
   "id": "dbdca4d1-13a1-4f94-a9bf-a95cc502c899",
   "metadata": {},
   "outputs": [
    {
     "name": "stdout",
     "output_type": "stream",
     "text": [
      "{0, 1, 2, 3, 4, 5, 6, 7, 8, 9}\n"
     ]
    }
   ],
   "source": [
    "# объединение\n",
    "numbers = odd | even\n",
    "print(numbers)"
   ]
  },
  {
   "cell_type": "code",
   "execution_count": 53,
   "id": "1dd655d0-7cde-4faf-8f41-a1b7e0b10d2f",
   "metadata": {},
   "outputs": [
    {
     "name": "stdout",
     "output_type": "stream",
     "text": [
      "{0, 1, 5, 6}\n"
     ]
    }
   ],
   "source": [
    "# Операция исключающего ИЛИ (^)\n",
    "first_five = set([0, 1, 2, 3, 4])\n",
    "two_to_six = set([2, 3, 4, 5, 6])\n",
    "in_one = first_five ^ two_to_six\n",
    "print(in_one)"
   ]
  },
  {
   "cell_type": "markdown",
   "id": "7c45f64b-da19-4d6a-888b-aa15893445a8",
   "metadata": {},
   "source": [
    "Если вы выполняете операции объединения или вычитания списков,\n",
    "возможно, вам стоит вместо списков использовать множества."
   ]
  },
  {
   "cell_type": "markdown",
   "id": "92a2734f-e743-4897-a1c2-de7fa7475443",
   "metadata": {},
   "source": [
    "Если для вас важен порядок элементов, используйте структуру\n",
    "данных, в которой он сохраняется."
   ]
  },
  {
   "cell_type": "code",
   "execution_count": 54,
   "id": "45383f5f-2f19-41dd-bb54-98c4fcb3d210",
   "metadata": {},
   "outputs": [],
   "source": [
    "#########################"
   ]
  },
  {
   "cell_type": "code",
   "execution_count": 60,
   "id": "9902e9b2-1352-4dd8-bb9d-adcef72901e4",
   "metadata": {},
   "outputs": [
    {
     "data": {
      "text/plain": [
       "[('Andrey', 'Avrentevich', 6)]"
      ]
     },
     "execution_count": 60,
     "metadata": {},
     "output_type": "execute_result"
    }
   ],
   "source": [
    "# список с записями из базы данных\n",
    "# можно исопльзовать  key, для сортировки по определенному полю котрежа: имени, фамилии, возрасту\n",
    "person1 = (\"Andrey\", \"Avrentevich\", 6)\n",
    "people = [(person1)]\n",
    "people"
   ]
  },
  {
   "cell_type": "code",
   "execution_count": 64,
   "id": "22f9ce3a-e1bc-4eb2-b83e-69425a4695b4",
   "metadata": {},
   "outputs": [
    {
     "data": {
      "text/plain": [
       "['c']"
      ]
     },
     "execution_count": 64,
     "metadata": {},
     "output_type": "execute_result"
    }
   ],
   "source": [
    "list((i for i in [\"a\", \"b\", \"c\"] if i in {\"c\", \"d\"}))"
   ]
  }
 ],
 "metadata": {
  "kernelspec": {
   "display_name": "Python 3 (ipykernel)",
   "language": "python",
   "name": "python3"
  },
  "language_info": {
   "codemirror_mode": {
    "name": "ipython",
    "version": 3
   },
   "file_extension": ".py",
   "mimetype": "text/x-python",
   "name": "python",
   "nbconvert_exporter": "python",
   "pygments_lexer": "ipython3",
   "version": "3.8.11"
  }
 },
 "nbformat": 4,
 "nbformat_minor": 5
}
