{
 "cells": [
  {
   "cell_type": "markdown",
   "id": "3c0067b5",
   "metadata": {},
   "source": [
    "Запуск IDLE\n",
    "\n",
    "~~~~shell\n",
    " python3 -m idlelib.idle\n",
    " ~~~~"
   ]
  },
  {
   "cell_type": "markdown",
   "id": "3eb20a06",
   "metadata": {},
   "source": [
    "Сделать файл исполняемы\n",
    "\n",
    "1) в первую строчку файла добавить путь к интерпретатору\n",
    "~~~~python\n",
    "#!/usr/bin/env python3\n",
    "print(\"hello world\")\n",
    "~~~~\n",
    "\n",
    "2) Сделать файл исполняемым\n",
    "\n",
    "В среде UNIX существуют разные разрешения (устанавливаемые при помощи соответствующих битов) для чтения, записи и исполнения файла. Если для файла\n",
    "установлен бит исполнения, то при запуске файла среда UNIX проверяет\n",
    "его первую строку и выполняет файл так, как указано.\n",
    "~~~~shell\n",
    "$ chmod +x hello.py\n",
    "~~~~\n",
    "\n",
    "- Справка по команде chmod\n",
    "~~~~shell\n",
    "man chmod\n",
    "~~~~\n",
    "\n",
    "3) Можно запускать файл\n",
    "~~~~shell\n",
    "$ ./hello.py\n",
    "~~~~\n",
    "\n",
    "Для исполняемого файла можно не указывать расширение .py"
   ]
  }
 ],
 "metadata": {
  "kernelspec": {
   "display_name": "Python 3 (ipykernel)",
   "language": "python",
   "name": "python3"
  },
  "language_info": {
   "codemirror_mode": {
    "name": "ipython",
    "version": 3
   },
   "file_extension": ".py",
   "mimetype": "text/x-python",
   "name": "python",
   "nbconvert_exporter": "python",
   "pygments_lexer": "ipython3",
   "version": "3.8.11"
  }
 },
 "nbformat": 4,
 "nbformat_minor": 5
}
