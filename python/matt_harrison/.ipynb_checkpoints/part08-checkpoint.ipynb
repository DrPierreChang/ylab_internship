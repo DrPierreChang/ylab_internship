{
 "cells": [
  {
   "cell_type": "code",
   "execution_count": 53,
   "id": "6041d018",
   "metadata": {},
   "outputs": [],
   "source": [
    "import operator"
   ]
  },
  {
   "cell_type": "markdown",
   "id": "5298bcb5",
   "metadata": {},
   "source": [
    "- Разработчик всегда должен ожидать, что вычисления выполняются с погрешностью округления. (Если вам потребуется более высокая точность, модуль decimal предоставляет более точную, хотя и более медленную реализацию.)\n",
    "\n",
    "https://docs.python.org/3/library/decimal.html"
   ]
  },
  {
   "cell_type": "code",
   "execution_count": 3,
   "id": "4cec8734",
   "metadata": {},
   "outputs": [
    {
     "data": {
      "text/plain": [
       "10"
      ]
     },
     "execution_count": 3,
     "metadata": {},
     "output_type": "execute_result"
    }
   ],
   "source": [
    "5 + 5"
   ]
  },
  {
   "cell_type": "code",
   "execution_count": 6,
   "id": "6c93bc9d",
   "metadata": {},
   "outputs": [
    {
     "name": "stdout",
     "output_type": "stream",
     "text": [
      "10\n"
     ]
    }
   ],
   "source": [
    "# результат последнего вычисления сохраняется в переменной \"_\"\n",
    "print(_)"
   ]
  },
  {
   "cell_type": "code",
   "execution_count": 7,
   "id": "58a42d38",
   "metadata": {},
   "outputs": [
    {
     "name": "stdout",
     "output_type": "stream",
     "text": [
      "10\n"
     ]
    }
   ],
   "source": [
    "result = _\n",
    "print(result)"
   ]
  },
  {
   "cell_type": "markdown",
   "id": "76fd80cc",
   "metadata": {},
   "source": [
    "- про числа с плавающей точкой\n",
    "https://ru.wikipedia.org/wiki/Число_с_плавающей_запятой"
   ]
  },
  {
   "cell_type": "code",
   "execution_count": 10,
   "id": "c9343c3c",
   "metadata": {},
   "outputs": [
    {
     "data": {
      "text/plain": [
       "6.2"
      ]
     },
     "execution_count": 10,
     "metadata": {},
     "output_type": "execute_result"
    }
   ],
   "source": [
    "# 0 можно не писать\n",
    "6 + .2"
   ]
  },
  {
   "cell_type": "markdown",
   "id": "813bf54c",
   "metadata": {},
   "source": [
    "При использовании % со строкой в левой части (левый операнд) и любым объектом (включая числа) в правой части (правый операнд) Python выполняет\n",
    "операцию форматирования:"
   ]
  },
  {
   "cell_type": "code",
   "execution_count": 31,
   "id": "bc89b006",
   "metadata": {},
   "outputs": [
    {
     "name": "stdout",
     "output_type": "stream",
     "text": [
      "1\n",
      "num: 1 2 3\n"
     ]
    }
   ],
   "source": [
    "print(11 % 5)\n",
    "print('num: %s %s %s' % (1, 2, 3))"
   ]
  },
  {
   "cell_type": "markdown",
   "id": "52af146b",
   "metadata": {},
   "source": [
    "Если левый операнд является строкой, то при применении оператора умножения * Python выполняет повторение:"
   ]
  },
  {
   "cell_type": "code",
   "execution_count": 32,
   "id": "12148350",
   "metadata": {},
   "outputs": [
    {
     "name": "stdout",
     "output_type": "stream",
     "text": [
      "16\n",
      "4444\n"
     ]
    }
   ],
   "source": [
    "print(4 * 4)\n",
    "print('4' * 4)"
   ]
  },
  {
   "cell_type": "markdown",
   "id": "2427c14b",
   "metadata": {},
   "source": [
    "С классами int и float могут выполняться явные преобразования (несмотря\n",
    "на внешнее сходство с функциями, в действительности это классы):"
   ]
  },
  {
   "cell_type": "code",
   "execution_count": 41,
   "id": "838c3699",
   "metadata": {},
   "outputs": [
    {
     "name": "stdout",
     "output_type": "stream",
     "text": [
      "2\n",
      "2.0\n"
     ]
    }
   ],
   "source": [
    "print(int(2.9))\n",
    "print(float(2))"
   ]
  },
  {
   "cell_type": "markdown",
   "id": "d3c71834",
   "metadata": {},
   "source": [
    "Будьте внимательны и помните о проблемах\n",
    "с погрешностью представления — не стоит полагать, что вам всегда\n",
    "будет везти."
   ]
  },
  {
   "cell_type": "markdown",
   "id": "78040eae",
   "metadata": {},
   "source": [
    "#### Остаток от деления"
   ]
  },
  {
   "cell_type": "code",
   "execution_count": 52,
   "id": "8bb0b8c9",
   "metadata": {},
   "outputs": [
    {
     "name": "stdout",
     "output_type": "stream",
     "text": [
      "0\n",
      "2\n",
      "1\n",
      "\n",
      "0\n",
      "\n",
      "0\n",
      "1\n",
      "2\n",
      "\n",
      "0\n",
      "-1\n",
      "-2\n",
      "\n",
      "0\n",
      "-2\n",
      "-1\n"
     ]
    }
   ],
   "source": [
    "# при отсчете в обратном направлении\n",
    "# остаток должен повторяться с определенной периодичностью:\n",
    "print(3 % 3)\n",
    "print(2 % 3)\n",
    "print(1 % 3)\n",
    "print()\n",
    "print(0 % 3)\n",
    "print()\n",
    "print(-3 % 3)\n",
    "print(-2 % 3)\n",
    "print(-1 % 3)\n",
    "print()\n",
    "print(3 % -3)\n",
    "print(2 % -3)\n",
    "print(1 % -3)\n",
    "print()\n",
    "print(-3 % -3)\n",
    "print(-2 % -3)\n",
    "print(-1 % -3)"
   ]
  },
  {
   "cell_type": "markdown",
   "id": "f3a004f7",
   "metadata": {},
   "source": [
    "#### Примечание"
   ]
  },
  {
   "cell_type": "markdown",
   "id": "e7e1bc45",
   "metadata": {},
   "source": [
    "Python включает модуль operator с функциями для основных математических операций. В частности, он пригодится вам при использовании таких\n",
    "расширенных возможностей Python, как лямбда-функции или генераторы\n",
    "списков:"
   ]
  },
  {
   "cell_type": "code",
   "execution_count": 58,
   "id": "8a324f08",
   "metadata": {},
   "outputs": [
    {
     "data": {
      "text/plain": [
       "9"
      ]
     },
     "execution_count": 58,
     "metadata": {},
     "output_type": "execute_result"
    }
   ],
   "source": [
    "operator.add(4, 5) # 4 + 5 = 9"
   ]
  },
  {
   "cell_type": "markdown",
   "id": "ea2db91e",
   "metadata": {},
   "source": [
    "#### Порядок операций"
   ]
  },
  {
   "cell_type": "markdown",
   "id": "bcb7cbb9",
   "metadata": {},
   "source": [
    "Если вы хотите, чтобы операции сложения\n",
    "(или вычитания) выполнялись в первую очередь, используйте круглые\n",
    "скобки для обозначения порядка операций:"
   ]
  },
  {
   "cell_type": "code",
   "execution_count": 60,
   "id": "807d27f2",
   "metadata": {},
   "outputs": [
    {
     "name": "stdout",
     "output_type": "stream",
     "text": [
      "7\n",
      "10\n"
     ]
    }
   ],
   "source": [
    "print(3 + 2 * 2)\n",
    "print((3 + 2) * 2)"
   ]
  },
  {
   "cell_type": "code",
   "execution_count": 66,
   "id": "753637e1",
   "metadata": {},
   "outputs": [
    {
     "data": {
      "text/plain": [
       "99.0"
      ]
     },
     "execution_count": 66,
     "metadata": {},
     "output_type": "execute_result"
    }
   ],
   "source": [
    "# Формулируется признак делимости на 3 просто:\n",
    "# целое число будет делиться на 3 без остатка,\n",
    "# если сумма входящих в его состав цифр делится на 3. \n",
    "297 / 3 # 2 + 9 + 7 = 18 "
   ]
  },
  {
   "cell_type": "markdown",
   "id": "2fbdb210",
   "metadata": {},
   "source": [
    "<img src=\"images/years.png\">"
   ]
  },
  {
   "cell_type": "code",
   "execution_count": 72,
   "id": "f5aa877b",
   "metadata": {
    "scrolled": false
   },
   "outputs": [
    {
     "name": "stdout",
     "output_type": "stream",
     "text": [
      "4 високосный год\n",
      "200 невисокосный год\n",
      "1800 невисокосный год\n",
      "1900 невисокосный год\n",
      "1903 невисокосный год\n",
      "2000 високосный год\n",
      "2002 невисокосный год\n"
     ]
    }
   ],
   "source": [
    "years_ls = [4, 200, 1800, 1900, 1903, 2000, 2002]\n",
    "for i in years_ls:\n",
    "    if i % 400 == 0:\n",
    "        print(f\"{i} високосный год\")\n",
    "    elif i % 4 == 0 and i % 100 != 0:\n",
    "        print(f\"{i} високосный год\")\n",
    "    else:\n",
    "        print(f\"{i} невисокосный год\")"
   ]
  }
 ],
 "metadata": {
  "kernelspec": {
   "display_name": "Python 3 (ipykernel)",
   "language": "python",
   "name": "python3"
  },
  "language_info": {
   "codemirror_mode": {
    "name": "ipython",
    "version": 3
   },
   "file_extension": ".py",
   "mimetype": "text/x-python",
   "name": "python",
   "nbconvert_exporter": "python",
   "pygments_lexer": "ipython3",
   "version": "3.8.11"
  }
 },
 "nbformat": 4,
 "nbformat_minor": 5
}
