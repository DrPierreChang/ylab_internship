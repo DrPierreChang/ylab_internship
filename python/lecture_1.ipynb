{
 "cells": [
  {
   "cell_type": "markdown",
   "id": "28e53e2c-959a-4ed0-a1d3-f5848a3ce2c5",
   "metadata": {
    "jp-MarkdownHeadingCollapsed": true,
    "tags": []
   },
   "source": [
    "# Operations"
   ]
  },
  {
   "cell_type": "code",
   "execution_count": 49,
   "id": "e7bdde81-3497-4f0d-b178-cfe57857abef",
   "metadata": {},
   "outputs": [],
   "source": [
    "from decimal import Decimal, getcontext\n",
    "from fractions import Fraction"
   ]
  },
  {
   "cell_type": "code",
   "execution_count": 21,
   "id": "b88ea1d5-4949-4a7e-8e3c-9beedd288471",
   "metadata": {},
   "outputs": [],
   "source": [
    "# строковые переменные "
   ]
  },
  {
   "cell_type": "code",
   "execution_count": 22,
   "id": "db400264-ec73-4e40-8c0f-18f6cae0edc8",
   "metadata": {},
   "outputs": [
    {
     "name": "stdout",
     "output_type": "stream",
     "text": [
      "Id: 139921982589280\n",
      "Value: Привет!\n",
      "Type: <class 'str'>\n",
      "\n",
      "Id: 139921984133808\n",
      "Value: Пока!\n",
      "Type: <class 'str'>\n"
     ]
    }
   ],
   "source": [
    "my_str = \"Привет!\"\n",
    "# посмотреть атрибуты объекта\n",
    "print(\"Id:\", id(my_str))\n",
    "print(\"Value:\", my_str)\n",
    "print(\"Type:\", type(my_str))\n",
    "\n",
    "# если поменять значение неизменяемой перемнной, то будет создан новый объект с новыми атрибутами\n",
    "my_str = \"Пока!\"\n",
    "print()\n",
    "print(\"Id:\", id(my_str))\n",
    "print(\"Value:\", my_str)\n",
    "print(\"Type:\", type(my_str))"
   ]
  },
  {
   "cell_type": "code",
   "execution_count": 23,
   "id": "d65cfc5c-18c2-455e-89cb-0a3528f8b232",
   "metadata": {},
   "outputs": [],
   "source": [
    "# булевы значения"
   ]
  },
  {
   "cell_type": "code",
   "execution_count": 36,
   "id": "b9c529cd-7362-4a1c-9c1e-32c836ed3c84",
   "metadata": {},
   "outputs": [
    {
     "name": "stdout",
     "output_type": "stream",
     "text": [
      "Id: 94674554980640\n",
      "Value: True\n",
      "Type: <class 'bool'>\n",
      "\n",
      "Id: 94674554980608\n",
      "Value: False\n",
      "Type: <class 'bool'>\n"
     ]
    }
   ],
   "source": [
    "my_bool = True\n",
    "print(\"Id:\", id(my_bool))\n",
    "print(\"Value:\", my_bool)\n",
    "print(\"Type:\", type(my_bool))\n",
    "\n",
    "my_bool = False\n",
    "print()\n",
    "print(\"Id:\", id(my_bool))\n",
    "print(\"Value:\", my_bool)\n",
    "print(\"Type:\", type(my_bool))"
   ]
  },
  {
   "cell_type": "code",
   "execution_count": 37,
   "id": "4f2180e7-b8e2-4fac-b566-2770034c15ea",
   "metadata": {},
   "outputs": [],
   "source": [
    "# целочисленные переменные"
   ]
  },
  {
   "cell_type": "code",
   "execution_count": 40,
   "id": "4ce5e61b-3146-47f2-a2f4-9a1f94fb12c3",
   "metadata": {},
   "outputs": [
    {
     "name": "stdout",
     "output_type": "stream",
     "text": [
      "Id: 139921982429264\n",
      "Value: 500\n",
      "Type: <class 'int'>\n",
      "\n",
      "Id: 139921982429648\n",
      "Value: 501\n",
      "Type: <class 'int'>\n"
     ]
    }
   ],
   "source": [
    "my_int = 500\n",
    "print(\"Id:\", id(my_int))\n",
    "print(\"Value:\", my_int)\n",
    "print(\"Type:\", type(my_int))\n",
    "\n",
    "my_int = 501\n",
    "print()\n",
    "print(\"Id:\", id(my_int))\n",
    "print(\"Value:\", my_int)\n",
    "print(\"Type:\", type(my_int))"
   ]
  },
  {
   "cell_type": "code",
   "execution_count": 41,
   "id": "e0380130-7123-4e8b-a2ee-99beb408c385",
   "metadata": {},
   "outputs": [],
   "source": [
    "# числа с плавающей точкой"
   ]
  },
  {
   "cell_type": "code",
   "execution_count": 42,
   "id": "8320ab25-44b9-422e-bc10-0e4e7d4a51b2",
   "metadata": {},
   "outputs": [
    {
     "name": "stdout",
     "output_type": "stream",
     "text": [
      "Id: 139921987987824\n",
      "Value: 50.45\n",
      "Type: <class 'float'>\n"
     ]
    }
   ],
   "source": [
    "my_float = 50.45\n",
    "print(\"Id:\", id(my_float))\n",
    "print(\"Value:\", my_float)\n",
    "print(\"Type:\", type(my_float))"
   ]
  },
  {
   "cell_type": "code",
   "execution_count": 51,
   "id": "bec51c03-11a1-40c5-aab3-2991418abbc4",
   "metadata": {},
   "outputs": [
    {
     "name": "stdout",
     "output_type": "stream",
     "text": [
      "0.30000000000000004\n",
      "0.300000\n",
      "3/10\n"
     ]
    }
   ],
   "source": [
    "# странное поведение\n",
    "print(0.1 + 0.1 + 0.1)\n",
    "\n",
    "# как с этим работтать?\n",
    "# from decimal import Decimal, getcontext\n",
    "# from fractions import Fraction\n",
    "\n",
    "getcontext().prec = 6\n",
    "print(Decimal(0.1) + Decimal(0.1) + Decimal(0.1))\n",
    "print(Fraction(1, 10) + Fraction(1, 10) + Fraction(1, 10))"
   ]
  },
  {
   "cell_type": "code",
   "execution_count": 52,
   "id": "de8f7b6a-1520-4658-a8f8-e9f01738dbd9",
   "metadata": {},
   "outputs": [],
   "source": [
    "# массивоподобные структуры"
   ]
  },
  {
   "cell_type": "code",
   "execution_count": 62,
   "id": "4383e7fd-e6f9-4c93-8526-191025be8c11",
   "metadata": {},
   "outputs": [
    {
     "name": "stdout",
     "output_type": "stream",
     "text": [
      "Id: 139921567875520\n",
      "Value: ['Hey!', 100, True]\n",
      "Type: <class 'list'>\n",
      "\n",
      "Id: 139921565323136\n",
      "Value: ['Bay!', 500, False]\n",
      "Type: <class 'list'>\n",
      "\n",
      "['Bay!', 101, False]\n"
     ]
    }
   ],
   "source": [
    "# списки\n",
    "my_list = [\"Hey!\", 100, True]\n",
    "print(\"Id:\", id(my_list))\n",
    "print(\"Value:\", my_list)\n",
    "print(\"Type:\", type(my_list))\n",
    "\n",
    "my_list = [\"Bay!\", 500, False]\n",
    "print()\n",
    "print(\"Id:\", id(my_list))\n",
    "print(\"Value:\", my_list)\n",
    "print(\"Type:\", type(my_list))\n",
    "\n",
    "\n",
    "print()\n",
    "my_list[1] = 101\n",
    "print(my_list)"
   ]
  },
  {
   "cell_type": "code",
   "execution_count": 63,
   "id": "0fa4b0be-c438-4691-8f2f-f7fbd965faf3",
   "metadata": {},
   "outputs": [
    {
     "name": "stdout",
     "output_type": "stream",
     "text": [
      "Id: 139921569904064\n",
      "Value: ('Hey!', 100, True)\n",
      "Type: <class 'tuple'>\n",
      "\n",
      "Id: 139921572411840\n",
      "Value: ('Bay!', 500, False)\n",
      "Type: <class 'tuple'>\n",
      "\n"
     ]
    },
    {
     "ename": "TypeError",
     "evalue": "'tuple' object does not support item assignment",
     "output_type": "error",
     "traceback": [
      "\u001b[0;31m---------------------------------------------------------------------------\u001b[0m",
      "\u001b[0;31mTypeError\u001b[0m                                 Traceback (most recent call last)",
      "\u001b[0;32m/tmp/ipykernel_8851/1542902734.py\u001b[0m in \u001b[0;36m<module>\u001b[0;34m\u001b[0m\n\u001b[1;32m     13\u001b[0m \u001b[0mprint\u001b[0m\u001b[0;34m(\u001b[0m\u001b[0;34m)\u001b[0m\u001b[0;34m\u001b[0m\u001b[0;34m\u001b[0m\u001b[0m\n\u001b[1;32m     14\u001b[0m \u001b[0;31m# получим ошибку,так как tuple не имзменяемый\u001b[0m\u001b[0;34m\u001b[0m\u001b[0;34m\u001b[0m\u001b[0;34m\u001b[0m\u001b[0m\n\u001b[0;32m---> 15\u001b[0;31m \u001b[0mmy_tuple\u001b[0m\u001b[0;34m[\u001b[0m\u001b[0;36m1\u001b[0m\u001b[0;34m]\u001b[0m \u001b[0;34m=\u001b[0m \u001b[0;36m101\u001b[0m\u001b[0;34m\u001b[0m\u001b[0;34m\u001b[0m\u001b[0m\n\u001b[0m",
      "\u001b[0;31mTypeError\u001b[0m: 'tuple' object does not support item assignment"
     ]
    }
   ],
   "source": [
    "# кортежи\n",
    "my_tuple = (\"Hey!\", 100, True)\n",
    "print(\"Id:\", id(my_tuple))\n",
    "print(\"Value:\", my_tuple)\n",
    "print(\"Type:\", type(my_tuple))\n",
    "\n",
    "my_tuple = (\"Bay!\", 500, False)\n",
    "print()\n",
    "print(\"Id:\", id(my_tuple))\n",
    "print(\"Value:\", my_tuple)\n",
    "print(\"Type:\", type(my_tuple))\n",
    "\n",
    "print()\n",
    "# получим ошибку,так как tuple не имзменяемый\n",
    "my_tuple[1] = 101"
   ]
  },
  {
   "cell_type": "code",
   "execution_count": 64,
   "id": "957e31d9-a2a9-4304-a76a-3279d04b1faf",
   "metadata": {},
   "outputs": [],
   "source": [
    "# словари"
   ]
  },
  {
   "cell_type": "code",
   "execution_count": 67,
   "id": "bb5afb2d-7f75-4f30-a05b-a794d48f894d",
   "metadata": {},
   "outputs": [
    {
     "name": "stdout",
     "output_type": "stream",
     "text": [
      "Id: 139921572828160\n",
      "Value: {'str_key': 'Hello!', 'int_key ': 100500, 'bool_key ': True}\n",
      "Type: <class 'dict'>\n"
     ]
    }
   ],
   "source": [
    "my_dict = {\n",
    "    \"str_key\": \"Hello!\",\n",
    "    \"int_key \": 100500,\n",
    "    \"bool_key \": True\n",
    "}\n",
    "\n",
    "print(\"Id:\", id(my_dict))\n",
    "print(\"Value:\", my_dict)\n",
    "print(\"Type:\", type(my_dict))"
   ]
  },
  {
   "cell_type": "code",
   "execution_count": 68,
   "id": "aa023a5d-fc27-417b-9730-57614db9bae9",
   "metadata": {},
   "outputs": [],
   "source": [
    "# множества - не хранят дублирующиеся записи. "
   ]
  },
  {
   "cell_type": "code",
   "execution_count": 71,
   "id": "cc11442e-0b8e-41f8-b102-73a1084d54d0",
   "metadata": {},
   "outputs": [
    {
     "name": "stdout",
     "output_type": "stream",
     "text": [
      "Id: 139921568076064\n",
      "Value: {100, True, 'Hey!'}\n",
      "Type: <class 'set'>\n"
     ]
    }
   ],
   "source": [
    "my_set = {\"Hey!\", 100, True, \"Hey!\", 100, True,}\n",
    "print(\"Id:\", id(my_set))\n",
    "print(\"Value:\", my_set)\n",
    "print(\"Type:\", type(my_set))"
   ]
  },
  {
   "cell_type": "code",
   "execution_count": 72,
   "id": "018a8519-dee1-4c1b-b53b-73d69a1d7632",
   "metadata": {},
   "outputs": [
    {
     "name": "stdout",
     "output_type": "stream",
     "text": [
      "Id: 139921568076064\n",
      "Value: {True, 'Hey!'}\n",
      "Type: <class 'set'>\n"
     ]
    }
   ],
   "source": [
    "# множество - это изменяемая структура\n",
    "my_set.remove(100)\n",
    "print(\"Id:\", id(my_set))\n",
    "print(\"Value:\", my_set)\n",
    "print(\"Type:\", type(my_set))"
   ]
  },
  {
   "cell_type": "code",
   "execution_count": 73,
   "id": "31004c96-dbb0-422f-9f52-e1afa1abc89e",
   "metadata": {},
   "outputs": [],
   "source": [
    "# операции"
   ]
  },
  {
   "cell_type": "code",
   "execution_count": 74,
   "id": "1f25d6f7-fec7-43bd-8f4d-ad5b08aad460",
   "metadata": {},
   "outputs": [],
   "source": [
    "a = 100\n",
    "b = 500"
   ]
  },
  {
   "cell_type": "code",
   "execution_count": 75,
   "id": "7b11aa0a-5b62-485d-92ac-5e6682f4a6df",
   "metadata": {},
   "outputs": [
    {
     "name": "stdout",
     "output_type": "stream",
     "text": [
      "600\n"
     ]
    }
   ],
   "source": [
    "# сложение\n",
    "c = a + b\n",
    "print(c)"
   ]
  },
  {
   "cell_type": "code",
   "execution_count": 77,
   "id": "c91db0d6-8586-40c0-a241-565f770b10f1",
   "metadata": {},
   "outputs": [
    {
     "name": "stdout",
     "output_type": "stream",
     "text": [
      "-400\n"
     ]
    }
   ],
   "source": [
    "# вычитание\n",
    "c = a - b\n",
    "print(c)"
   ]
  },
  {
   "cell_type": "code",
   "execution_count": 78,
   "id": "f95a3ff1-6f1f-43c0-b0cf-06e121ef8281",
   "metadata": {},
   "outputs": [
    {
     "name": "stdout",
     "output_type": "stream",
     "text": [
      "50000\n"
     ]
    }
   ],
   "source": [
    "# умножение\n",
    "c = a * b\n",
    "print(c)"
   ]
  },
  {
   "cell_type": "code",
   "execution_count": 81,
   "id": "cffce1db-b01b-4175-8f00-16f5cce0d7e7",
   "metadata": {},
   "outputs": [
    {
     "name": "stdout",
     "output_type": "stream",
     "text": [
      "0.2\n"
     ]
    }
   ],
   "source": [
    "# обычное деление\n",
    "c = a / b\n",
    "print(c)"
   ]
  },
  {
   "cell_type": "code",
   "execution_count": 82,
   "id": "b1a9f618-1534-4813-a10b-45dd5f41a620",
   "metadata": {},
   "outputs": [
    {
     "name": "stdout",
     "output_type": "stream",
     "text": [
      "0\n"
     ]
    }
   ],
   "source": [
    "# целочисленное деление\n",
    "c = a // b\n",
    "print(c)"
   ]
  },
  {
   "cell_type": "code",
   "execution_count": 83,
   "id": "d9b8d46e-fc5a-4eb3-97d0-7f317bddc8d1",
   "metadata": {},
   "outputs": [
    {
     "name": "stdout",
     "output_type": "stream",
     "text": [
      "100\n"
     ]
    }
   ],
   "source": [
    "# остаток от деления\n",
    "c = a % b\n",
    "print(c)"
   ]
  },
  {
   "cell_type": "code",
   "execution_count": 86,
   "id": "a6261449-db9d-4f53-9d23-d2a13cbf2bcc",
   "metadata": {},
   "outputs": [
    {
     "name": "stdout",
     "output_type": "stream",
     "text": [
      "0\n",
      "1\n"
     ]
    }
   ],
   "source": [
    "# проверка на четность\n",
    "print(100 % 2)\n",
    "print(99 % 2)"
   ]
  },
  {
   "cell_type": "code",
   "execution_count": 87,
   "id": "cadabed0-ee6c-4d5f-bfbd-9f93583f9cf4",
   "metadata": {},
   "outputs": [
    {
     "name": "stdout",
     "output_type": "stream",
     "text": [
      "10000000000000000000000000000000000000000000000000000000000000000000000000000000000000000000000000000000000000000000000000000000000000000000000000000000000000000000000000000000000000000000000000000000000000000000000000000000000000000000000000000000000000000000000000000000000000000000000000000000000000000000000000000000000000000000000000000000000000000000000000000000000000000000000000000000000000000000000000000000000000000000000000000000000000000000000000000000000000000000000000000000000000000000000000000000000000000000000000000000000000000000000000000000000000000000000000000000000000000000000000000000000000000000000000000000000000000000000000000000000000000000000000000000000000000000000000000000000000000000000000000000000000000000000000000000000000000000000000000000000000000000000000000000000000000000000000000000000000000000000000000000000000000000000000000000000000000000000000000000000000000000000000000000000000000000000000000000000000000000000000000000000000000000000000000000000000000\n"
     ]
    }
   ],
   "source": [
    "# возведение в степень\n",
    "# остаток от деления\n",
    "c = a ** b\n",
    "print(c)"
   ]
  },
  {
   "cell_type": "code",
   "execution_count": 97,
   "id": "1e4a6b03-6ed9-46d0-bc83-186082badff2",
   "metadata": {},
   "outputs": [
    {
     "name": "stdout",
     "output_type": "stream",
     "text": [
      "Привет, Andrey! Это Alex\n",
      "Привет, Andrey! Это Alex\n",
      "Привет, Andrey! Это Alex\n",
      "Привет, Andrey! Это Alex\n",
      "a + b = 80\n"
     ]
    }
   ],
   "source": [
    "# форматирование строк\n",
    "\n",
    "# формат\n",
    "my_string = \"Привет, {friend}! Это {me}\".format(friend = \"Andrey\", me = \"Alex\")\n",
    "print(my_string)\n",
    "# позиционные метки\n",
    "my_string = \"Привет, {0}! Это {1}\".format(\"Andrey\", \"Alex\")\n",
    "print(my_string)\n",
    "# пустые метки подставляются позиционно\n",
    "my_string = \"Привет, {}! Это {}\".format(\"Andrey\", \"Alex\")\n",
    "print(my_string)\n",
    "\n",
    "# f-строки\n",
    "friend, me = \"Andrey\", \"Alex\"\n",
    "my_string = f\"Привет, {friend}! Это {me}\"\n",
    "print(my_string)\n",
    "\n",
    "a, b = 50, 30\n",
    "my_string = f\"a + b = {a + b}\"\n",
    "print(my_string)"
   ]
  },
  {
   "cell_type": "markdown",
   "id": "b3cee431-d905-43b0-abf7-ea9d9d51a820",
   "metadata": {
    "jp-MarkdownHeadingCollapsed": true,
    "tags": []
   },
   "source": [
    "# Loops"
   ]
  },
  {
   "cell_type": "code",
   "execution_count": 103,
   "id": "e9859768-1ad8-4391-8594-957a00420394",
   "metadata": {},
   "outputs": [
    {
     "name": "stdout",
     "output_type": "stream",
     "text": [
      "Привет, Миша!\n",
      "Приятно познакомиться, Андрей!\n",
      "Привет, Женя!\n"
     ]
    }
   ],
   "source": [
    "# условия\n",
    "\n",
    "# простое\n",
    "username = \"Миша\"\n",
    "if username == \"Миша\":\n",
    "    print(f\"Привет, {username}!\")\n",
    "    \n",
    "# с иначе\n",
    "username = \"Андрей\"\n",
    "if username == \"Миша\":\n",
    "    print(f\"Привет, {username}!\")\n",
    "else:\n",
    "    print(f\"Приятно познакомиться, {username}!\")\n",
    "    \n",
    "\n",
    "# с разветвлениями\n",
    "username = \"Женя\"\n",
    "if username == \"Миша\":\n",
    "    print(f\"Привет, {username}!\")\n",
    "elif username == \"Женя\":\n",
    "    print(f\"Привет, {username}!\")\n",
    "else:\n",
    "    print(f\"Приятно познакомиться, {username}!\")"
   ]
  },
  {
   "cell_type": "code",
   "execution_count": 106,
   "id": "138bbd88-31ef-4d56-95ef-bed9668b3e65",
   "metadata": {},
   "outputs": [
    {
     "name": "stdout",
     "output_type": "stream",
     "text": [
      "0 1 2 3 4 5 6 7 8 9 \n",
      "Никита Люба Игорь "
     ]
    }
   ],
   "source": [
    "# арифметичкский цикл\n",
    "for num in range(10):\n",
    "    print(num, end=\" \")\n",
    "print()\n",
    "    \n",
    "my_friends = [\"Никита\", \"Люба\", \"Игорь\"]\n",
    "for friend in my_friends:\n",
    "    print(friend, end= \" \")"
   ]
  },
  {
   "cell_type": "code",
   "execution_count": 109,
   "id": "ae3bacbd-6387-42ca-b115-6e07123f79d8",
   "metadata": {},
   "outputs": [
    {
     "name": "stdout",
     "output_type": "stream",
     "text": [
      "Осталось 900 рублей =(\n",
      "Осталось 800 рублей =(\n",
      "Осталось 700 рублей =(\n",
      "Осталось 600 рублей =(\n",
      "Осталось 500 рублей =(\n",
      "Осталось 400 рублей =(\n",
      "Осталось 300 рублей =(\n",
      "Осталось 200 рублей =(\n",
      "Осталось 100 рублей =(\n",
      "Осталось 0 рублей =(\n",
      "=(=(=(=(=(=(=(=(=(=(\n"
     ]
    }
   ],
   "source": [
    "# цикл с предулсловием\n",
    "\n",
    "money = 1000\n",
    "while money:\n",
    "    money -= 100\n",
    "    print(f\"Осталось {money} рублей =(\")\n",
    "print(\"=(\" * 10)"
   ]
  },
  {
   "cell_type": "code",
   "execution_count": 111,
   "id": "b90fccd0-513f-4b23-8ff1-5244239d192f",
   "metadata": {},
   "outputs": [
    {
     "name": "stdout",
     "output_type": "stream",
     "text": [
      "Осталось 900 рублей =(\n",
      "Осталось 800 рублей =(\n",
      "Осталось 700 рублей =(\n",
      "Осталось 600 рублей =(\n",
      "Осталось 500 рублей =(\n",
      "Осталось 400 рублей =(\n",
      "Осталось 300 рублей =(\n",
      "Осталось 200 рублей =(\n",
      "Осталось 100 рублей =(\n",
      "Осталось 0 рублей =(\n",
      "=(=(=(=(=(=(=(=(=(=(\n"
     ]
    }
   ],
   "source": [
    "# цикл с постусловием\n",
    "\n",
    "money = 1000\n",
    "while money:\n",
    "    money -= 100\n",
    "    print(f\"Осталось {money} рублей =(\")\n",
    "    if not money:\n",
    "        break\n",
    "print(\"=(\" * 10)"
   ]
  },
  {
   "cell_type": "markdown",
   "id": "bd521da2-bc6f-42f2-a46c-dce9f747a323",
   "metadata": {
    "jp-MarkdownHeadingCollapsed": true,
    "tags": []
   },
   "source": [
    "# Additional Notes"
   ]
  },
  {
   "cell_type": "markdown",
   "id": "1100b75f-602b-4601-bc4f-23668a1fd6d9",
   "metadata": {},
   "source": [
    "### Jupyter"
   ]
  },
  {
   "cell_type": "markdown",
   "id": "4c1c93fa-e3ac-4b1f-9d6d-0e4af95d3490",
   "metadata": {},
   "source": [
    "- online test access to jupyter https://jupyter.org/try"
   ]
  },
  {
   "cell_type": "markdown",
   "id": "88fe2058-ce6d-451d-b15b-6cbe5cc47569",
   "metadata": {},
   "source": [
    "- how to run jupyter on aws lightsail https://youtu.be/vHjjuBJ5BoM"
   ]
  },
  {
   "cell_type": "markdown",
   "id": "316de75c-846a-4fea-adfb-554a913408d0",
   "metadata": {},
   "source": [
    "- to start jupyter on server use command\n",
    "\n",
    "~~~~shell\n",
    "jupyter notebook --ip 0.0.0.0\n",
    "~~~~"
   ]
  },
  {
   "cell_type": "markdown",
   "id": "81720ae9-40cc-49ec-8c94-971f0c519a07",
   "metadata": {
    "jp-MarkdownHeadingCollapsed": true,
    "tags": []
   },
   "source": [
    "### Anaconda"
   ]
  },
  {
   "cell_type": "markdown",
   "id": "e9dff42e-dcb0-4e54-9eef-195a9e381a4c",
   "metadata": {},
   "source": [
    "- install doc https://docs.anaconda.com/anaconda/install/linux/"
   ]
  },
  {
   "cell_type": "markdown",
   "id": "3429ae78-9189-42e8-9949-5ad8d5914384",
   "metadata": {},
   "source": [
    "- To control whether or not each shell session has the base environment activated or not, run\n",
    "\n",
    "~~~shell\n",
    "conda config --set auto_activate_base False or True\n",
    "~~~\n",
    "    To run conda from anywhere without having the base environment activated by default, use conda config --set auto_activate_base False. This only works if you have run conda init first."
   ]
  },
  {
   "cell_type": "markdown",
   "id": "db1f2f52-c95e-4d9b-b405-9af44775262b",
   "metadata": {
    "jp-MarkdownHeadingCollapsed": true,
    "tags": []
   },
   "source": [
    "### Python"
   ]
  },
  {
   "cell_type": "markdown",
   "id": "3eaddcec-3aac-4f85-8897-08df41139306",
   "metadata": {},
   "source": [
    "- How to work with floats https://docs.python.org/3/tutorial/floatingpoint.html"
   ]
  },
  {
   "cell_type": "markdown",
   "id": "6e727352-5a2b-43f6-b2fa-4d87bb8cd0c7",
   "metadata": {},
   "source": [
    "- Длинная арифметика https://habr.com/ru/company/otus/blog/489258/"
   ]
  }
 ],
 "metadata": {
  "kernelspec": {
   "display_name": "Python 3 (ipykernel)",
   "language": "python",
   "name": "python3"
  },
  "language_info": {
   "codemirror_mode": {
    "name": "ipython",
    "version": 3
   },
   "file_extension": ".py",
   "mimetype": "text/x-python",
   "name": "python",
   "nbconvert_exporter": "python",
   "pygments_lexer": "ipython3",
   "version": "3.8.11"
  }
 },
 "nbformat": 4,
 "nbformat_minor": 5
}
