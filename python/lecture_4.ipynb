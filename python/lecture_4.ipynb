{
 "cells": [
  {
   "cell_type": "markdown",
   "id": "aebe3fa7-06fa-4959-9238-775852386d44",
   "metadata": {},
   "source": [
    "### Генераторы и итераторы"
   ]
  },
  {
   "cell_type": "code",
   "execution_count": 47,
   "id": "146a7e5c-3235-47dd-9626-934bd2759e25",
   "metadata": {},
   "outputs": [
    {
     "name": "stdin",
     "output_type": "stream",
     "text": [
      "Количество случайных чисел:  10\n"
     ]
    },
    {
     "name": "stdout",
     "output_type": "stream",
     "text": [
      "[949802, 73920, 353321, 128305, 159605, 172938, 255558, 364164, 16087, 154423]\n"
     ]
    }
   ],
   "source": [
    "from random import randrange\n",
    "\n",
    "# весь сгенерированный список будет храниттся в памяти\n",
    "randoms = []\n",
    "\n",
    "def get_random_list(count):\n",
    "    for _ in range(count):\n",
    "        randoms.append(randrange(0, 1000000))\n",
    "    return randoms\n",
    "\n",
    "number = int(input(\"Количество случайных чисел: \"))\n",
    "\n",
    "my_random_list = get_random_list(number)\n",
    "print(my_random_list)"
   ]
  },
  {
   "cell_type": "code",
   "execution_count": 76,
   "id": "566e2309-3fe0-47a2-9eab-1518ad9a201d",
   "metadata": {},
   "outputs": [
    {
     "name": "stdin",
     "output_type": "stream",
     "text": [
      "Количество случайных чисел:  5\n"
     ]
    }
   ],
   "source": [
    "# как не хранить весь список памяти\n",
    "\n",
    "def get_random(count):\n",
    "    for _ in range(count):\n",
    "        yield randrange(0, 1000000)\n",
    "        \n",
    "number = int(input(\"Количество случайных чисел: \"))\n",
    "my_random = get_random(number)"
   ]
  },
  {
   "cell_type": "code",
   "execution_count": 77,
   "id": "f267992e-de79-4609-afd8-6bbb43119142",
   "metadata": {},
   "outputs": [
    {
     "name": "stdout",
     "output_type": "stream",
     "text": [
      "376890 913912 730991 319378 335676 "
     ]
    }
   ],
   "source": [
    "# try:\n",
    "#     print(next(my_random))\n",
    "# except StopIteration:\n",
    "#     print(\"Обработаны все элементы\")\n",
    "\n",
    "# генератор можно испльзовать в цикле\n",
    "for number in my_random:\n",
    "    print(number, end=\" \")"
   ]
  },
  {
   "cell_type": "code",
   "execution_count": 79,
   "id": "0098bd7e-f3b8-4ae1-b71e-f78bcb2a72ff",
   "metadata": {},
   "outputs": [
    {
     "name": "stdout",
     "output_type": "stream",
     "text": [
      "<generator object <genexpr> at 0x7f3068abbb30>\n",
      "1 4 9 "
     ]
    }
   ],
   "source": [
    "# выражение генератор\n",
    "squares = (number ** 2 for number in [1, 2, 3])\n",
    "print(squares)\n",
    "\n",
    "for i in squares:\n",
    "    print(i, end=\" \")"
   ]
  },
  {
   "cell_type": "code",
   "execution_count": 81,
   "id": "5fd37597-6f42-4f6b-b2f6-00e4b97ea438",
   "metadata": {},
   "outputs": [
    {
     "name": "stdout",
     "output_type": "stream",
     "text": [
      "411070 728671 694062 "
     ]
    }
   ],
   "source": [
    "# выражение генератор\n",
    "\n",
    "cnt = 3\n",
    "my_random = (\n",
    "    randrange(0, 1000000)\n",
    "    for _ in range(cnt)\n",
    ")\n",
    "\n",
    "for num in my_random:\n",
    "    print(num, end=\" \")"
   ]
  },
  {
   "cell_type": "code",
   "execution_count": 106,
   "id": "39c87b6d-af8f-4c35-af63-3326ad2f8071",
   "metadata": {},
   "outputs": [],
   "source": [
    "# как использовать генератор бесконечно\n",
    "\n",
    "import itertools\n",
    "\n",
    "squares = (num ** 2 for num in [1, 2, 3])\n",
    "squares_cycle = itertools.cycle(squares)"
   ]
  },
  {
   "cell_type": "code",
   "execution_count": 108,
   "id": "d34f6440-b465-44a3-94d9-27d61d2cb277",
   "metadata": {},
   "outputs": [
    {
     "name": "stdout",
     "output_type": "stream",
     "text": [
      "4\n"
     ]
    }
   ],
   "source": [
    "#  можно получать результат бесконечно (очторожнее с использованием цикла for)\n",
    "print(next(squares_cycle))"
   ]
  },
  {
   "cell_type": "code",
   "execution_count": 119,
   "id": "fa5134c9-229d-4ec2-8cdb-f3c9c52e1b2f",
   "metadata": {},
   "outputs": [
    {
     "name": "stdout",
     "output_type": "stream",
     "text": [
      "0 1 4 9 16 "
     ]
    }
   ],
   "source": [
    "#  можно вызвать один генератор из другого\n",
    "\n",
    "def get_square(num):\n",
    "        yield num ** 2\n",
    "        \n",
    "def get_squares(cnt):\n",
    "    for num in range(cnt):\n",
    "        yield from get_square(num)\n",
    "        \n",
    "for square in get_squares(5):\n",
    "    print(square, end=\" \")"
   ]
  },
  {
   "cell_type": "code",
   "execution_count": 146,
   "id": "0d2b5b40-b42f-4cbb-9a74-6bc941b0a4bd",
   "metadata": {},
   "outputs": [],
   "source": [
    "# не загружать все содержимое файла в память\n",
    "\n",
    "def read_file(filename):\n",
    "    file = open(filename, \"r\")\n",
    "    for row in file:\n",
    "        yield row\n",
    "        \n",
    "file = read_file(\"logs.txt\")"
   ]
  },
  {
   "cell_type": "code",
   "execution_count": 147,
   "id": "fb0af09d-e9ab-439a-8009-9fdff35d43e4",
   "metadata": {},
   "outputs": [
    {
     "name": "stdout",
     "output_type": "stream",
     "text": [
      "Считана строка: log 1.\n",
      "Считана строка: log 2.\n",
      "Считана строка: log 3.\n",
      "Считана строка: log 4.\n",
      "Считана строка: log 5.\n",
      "Считана строка: log 6.\n",
      "Считана строка: log 7.\n",
      "Считана строка: log 8.\n",
      "Считана строка: log 9.\n",
      "Считана строка: log 10.\n"
     ]
    }
   ],
   "source": [
    "for row in file:\n",
    "    print(f\"Считана строка: {row.strip()}.\")"
   ]
  },
  {
   "cell_type": "code",
   "execution_count": 150,
   "id": "4ad59b7c-e6c8-4923-ac6d-ce6fc5a7f60b",
   "metadata": {},
   "outputs": [
    {
     "name": "stdout",
     "output_type": "stream",
     "text": [
      "Считана строка: log 1.\n",
      "Считана строка: log 2.\n",
      "Считана строка: log 3.\n",
      "Считана строка: log 4.\n",
      "Считана строка: log 5.\n",
      "Считана строка: log 6.\n",
      "Считана строка: log 7.\n",
      "Считана строка: log 8.\n",
      "Считана строка: log 9.\n",
      "Считана строка: log 10.\n"
     ]
    }
   ],
   "source": [
    "# для этой же цели можно использовать выражение генератор\n",
    "for row in (row for row in open(\"logs.txt\")):\n",
    "    print(f\"Считана строка: {row.strip()}.\")"
   ]
  },
  {
   "cell_type": "code",
   "execution_count": 151,
   "id": "eaa896c3-5362-4dd8-a930-9db42208a725",
   "metadata": {},
   "outputs": [],
   "source": [
    "# генератор - это частный случай итератора\n",
    "# итератор позволяет сделать класс итерируем"
   ]
  },
  {
   "cell_type": "code",
   "execution_count": 161,
   "id": "65ff7620-f522-43a5-b911-be966e46ae73",
   "metadata": {},
   "outputs": [],
   "source": [
    "class MyIterator:\n",
    "    \n",
    "    def __init__(self, start=0):\n",
    "        self.count = start\n",
    "        \n",
    "    def __iter__(self):\n",
    "        return self\n",
    "    \n",
    "    def __next__(self):\n",
    "        self.count += 1\n",
    "        \n",
    "        if self.count > 10:\n",
    "            raise StopIteration\n",
    "        \n",
    "        return self.count"
   ]
  },
  {
   "cell_type": "code",
   "execution_count": 176,
   "id": "4c9ad697-16dd-4067-9ccd-f9ad351b023e",
   "metadata": {},
   "outputs": [],
   "source": [
    "iterator = MyIterator()"
   ]
  },
  {
   "cell_type": "code",
   "execution_count": 177,
   "id": "26758fdb-1afe-4f8c-a4f2-0b45423f901b",
   "metadata": {},
   "outputs": [
    {
     "name": "stdout",
     "output_type": "stream",
     "text": [
      "1 2 3 4 5 6 7 8 9 10 "
     ]
    }
   ],
   "source": [
    "for num in iterator:\n",
    "    print(num, end=\" \")"
   ]
  },
  {
   "cell_type": "code",
   "execution_count": 183,
   "id": "8a4a5787-a048-460e-9128-b1a1bbc47855",
   "metadata": {},
   "outputs": [],
   "source": [
    "# функция выполняет то же самое\n",
    "\n",
    "def my_generator(start = 0):\n",
    "    cnt = start\n",
    "    \n",
    "    while True:\n",
    "        cnt += 1\n",
    "        \n",
    "        if cnt <= 10:\n",
    "            yield cnt\n",
    "        else:\n",
    "            return"
   ]
  },
  {
   "cell_type": "code",
   "execution_count": 191,
   "id": "cec1e6c7-0b54-4fd3-a35d-1f38608d01a4",
   "metadata": {},
   "outputs": [
    {
     "name": "stdout",
     "output_type": "stream",
     "text": [
      "1 2 3 4 5 6 7 8 9 10 "
     ]
    }
   ],
   "source": [
    "for num in my_generator():\n",
    "    print(num, end=\" \")"
   ]
  },
  {
   "cell_type": "markdown",
   "id": "afa82fa9-1399-4b62-81b3-0dbf5640cb38",
   "metadata": {},
   "source": [
    "### Декораторы"
   ]
  },
  {
   "cell_type": "code",
   "execution_count": 195,
   "id": "17700d6c-7a60-4f00-99cb-aae8e4fde485",
   "metadata": {},
   "outputs": [
    {
     "name": "stdout",
     "output_type": "stream",
     "text": [
      "Привет, Петя!\n",
      "ПРИВЕТ, ПЕТЯ!!\n"
     ]
    }
   ],
   "source": [
    "# проблема: объемный код при необходимости преобразовать функцию\n",
    "\n",
    "def greeting(name):\n",
    "    return f\"Привет, {name}!\"\n",
    "\n",
    "def text_to_upper(text):\n",
    "    return text.upper()\n",
    "\n",
    "def greeting_upper(name):\n",
    "    return text_to_upper(greeting(name))\n",
    "\n",
    "print(greeting(\"Петя\"))\n",
    "print(greeting_upper(\"Петя!\"))"
   ]
  },
  {
   "cell_type": "code",
   "execution_count": 196,
   "id": "7dea51e4-ca57-4bb8-9365-465bd8e3c583",
   "metadata": {},
   "outputs": [],
   "source": [
    "# создаение декоратора\n",
    "\n",
    "def text_to_upper(func):\n",
    "    def wrapper(text):\n",
    "        return func(text).upper()\n",
    "    return wrapper"
   ]
  },
  {
   "cell_type": "code",
   "execution_count": 199,
   "id": "02e519eb-762f-445f-a34e-286346732026",
   "metadata": {},
   "outputs": [
    {
     "name": "stdout",
     "output_type": "stream",
     "text": [
      "Привет, Петя!\n"
     ]
    }
   ],
   "source": [
    "def greeting(name):\n",
    "    return f\"Привет, {name}!\"\n",
    "\n",
    "print(greeting(\"Петя\"))"
   ]
  },
  {
   "cell_type": "code",
   "execution_count": 200,
   "id": "71c0a9c7-6379-4a95-adf5-91680739d469",
   "metadata": {},
   "outputs": [
    {
     "name": "stdout",
     "output_type": "stream",
     "text": [
      "ПРИВЕТ, ПЕТЯ!\n"
     ]
    }
   ],
   "source": [
    "@text_to_upper\n",
    "def greeting(name):\n",
    "    return f\"Привет, {name}!\"\n",
    "\n",
    "print(greeting(\"Петя\"))"
   ]
  },
  {
   "cell_type": "markdown",
   "id": "b78bfe85-c687-4f43-bb6d-8388b2dc7858",
   "metadata": {},
   "source": [
    "<em>\n",
    "    <strong>\n",
    "        <u>Важное объявление!</u>\n",
    "    </strong>\n",
    "<em>"
   ]
  },
  {
   "cell_type": "code",
   "execution_count": 202,
   "id": "c7702aea-1d0e-4c6b-8adf-46721e78cc4e",
   "metadata": {},
   "outputs": [
    {
     "data": {
      "text/plain": [
       "'<em><strong><u>Важное объявление</u></strong></em>'"
      ]
     },
     "execution_count": 202,
     "metadata": {},
     "output_type": "execute_result"
    }
   ],
   "source": [
    "def underline(text):\n",
    "    return f\"<u>{text}</u>\"\n",
    "\n",
    "def strong(text):\n",
    "    return f\"<strong>{text}</strong>\"\n",
    "\n",
    "def emphasize(text):\n",
    "    return f\"<em>{text}</em>\"\n",
    "\n",
    "emphasize(strong(underline(\"Важное объявление\")))"
   ]
  },
  {
   "cell_type": "code",
   "execution_count": 205,
   "id": "dbc692d7-20f6-4cfd-93aa-ce23784d73a8",
   "metadata": {},
   "outputs": [],
   "source": [
    "# с помощью декораторов\n",
    "\n",
    "def underline(func):\n",
    "    def wrapper():\n",
    "        return f\"<u>{func()}</u>\"\n",
    "    return wrapper\n",
    "\n",
    "def strong(func):\n",
    "    def wrapper():\n",
    "        return f\"<strong>{func()}</strong>\"\n",
    "    return wrapper\n",
    "\n",
    "def emphasize(func):\n",
    "    def wrapper():\n",
    "        return f\"<em>{func()}</em>\"\n",
    "    return wrapper"
   ]
  },
  {
   "cell_type": "code",
   "execution_count": 206,
   "id": "ac0c9646-b9ba-4788-8851-290efa51ae57",
   "metadata": {},
   "outputs": [
    {
     "data": {
      "text/plain": [
       "'<em><strong><u>Важное объявление!</u></strong></em>'"
      ]
     },
     "execution_count": 206,
     "metadata": {},
     "output_type": "execute_result"
    }
   ],
   "source": [
    "@emphasize\n",
    "@strong\n",
    "@underline\n",
    "def warning():\n",
    "    return \"Важное объявление!\"\n",
    "\n",
    "warning()"
   ]
  },
  {
   "cell_type": "markdown",
   "id": "1f49a230-8b15-4afe-84fe-25159444e37e",
   "metadata": {},
   "source": [
    "<em><strong><u>Важное объявление!</u></strong></em>"
   ]
  },
  {
   "cell_type": "code",
   "execution_count": 207,
   "id": "c67b15ea-9db2-475b-9f09-cfd7521e99a8",
   "metadata": {},
   "outputs": [],
   "source": [
    "### передача аргументов в декоратор"
   ]
  },
  {
   "cell_type": "code",
   "execution_count": 218,
   "id": "581e5181-0eca-44a9-b7bc-c45bc1e3708f",
   "metadata": {},
   "outputs": [],
   "source": [
    "from time import time \n",
    "\n",
    "def timing(func):\n",
    "    def wrapper(*args, **kwargs):\n",
    "        start_time = time()\n",
    "        result = func(*args, **kwargs)\n",
    "        end_time = time()\n",
    "        print(\n",
    "            f\"Время выполнения функции '{func.__name__}' - \"\n",
    "            f\"{round(end_time-start_time, 3)} сек.\"\n",
    "        )\n",
    "        return result\n",
    "    return wrapper"
   ]
  },
  {
   "cell_type": "code",
   "execution_count": 221,
   "id": "5f9ce6ff-1125-4489-b456-aed75c50e3ff",
   "metadata": {},
   "outputs": [],
   "source": [
    "@timing\n",
    "def factorial(number):\n",
    "    result = 1\n",
    "    for value in range(1, number + 1):\n",
    "        result *= value\n",
    "#     return result"
   ]
  },
  {
   "cell_type": "code",
   "execution_count": 222,
   "id": "4505ac7b-6369-4609-9a2e-de0038474e2f",
   "metadata": {},
   "outputs": [
    {
     "name": "stdout",
     "output_type": "stream",
     "text": [
      "Время выполнения функции 'factorial' - 0.001 сек.\n"
     ]
    }
   ],
   "source": [
    "factorial(1000)"
   ]
  }
 ],
 "metadata": {
  "kernelspec": {
   "display_name": "Python 3 (ipykernel)",
   "language": "python",
   "name": "python3"
  },
  "language_info": {
   "codemirror_mode": {
    "name": "ipython",
    "version": 3
   },
   "file_extension": ".py",
   "mimetype": "text/x-python",
   "name": "python",
   "nbconvert_exporter": "python",
   "pygments_lexer": "ipython3",
   "version": "3.8.11"
  }
 },
 "nbformat": 4,
 "nbformat_minor": 5
}
